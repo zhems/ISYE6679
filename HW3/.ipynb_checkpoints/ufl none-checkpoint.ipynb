{
 "cells": [
  {
   "cell_type": "markdown",
   "metadata": {},
   "source": [
    "# Uncapacitated Facility Location (UFL) Notebook\n",
    "This notebook contains the code for running the UFL problem using Python and Gurobi. To properly use this notebook please ensure you can run ipython notebooks (using Jupyter or other notebook deployments, note this is not the same as running .py files), and have Gurobi solver properly installed and set up with your Python deployment. Please run each cell sequentially, to run a cell select it and click Ctrl+Enter. "
   ]
  },
  {
   "cell_type": "code",
   "execution_count": null,
   "metadata": {},
   "outputs": [],
   "source": [
    "import numpy as np\n",
    "from numpy import random\n",
    "from gurobipy import *"
   ]
  },
  {
   "cell_type": "code",
   "execution_count": null,
   "metadata": {},
   "outputs": [],
   "source": [
    "# Initialize Model Parameters\n",
    "\n",
    "M = 200 # number of customers\n",
    "N = 50 # number of facilities\n",
    "fixedcost = 1000.0 # fixed cost of opening a facility\n",
    "Min = 0.0 # lower bound for uniform distribution\n",
    "Max = 40.0 # upper bound for uniform distibution\n",
    "\n",
    "#Set seed for random parameters\n",
    "random.seed(0)\n",
    "\n",
    "varcost = np.floor((Max - Min) * random.rand(N,M) + Min) # variable cost\n",
    "demand = np.floor((Max - Min) * random.rand(M) + Min) # demand of customers\n"
   ]
  },
  {
   "cell_type": "code",
   "execution_count": null,
   "metadata": {},
   "outputs": [],
   "source": [
    "# Initialize Model\n",
    "ufl = Model('ufl')\n",
    "\n",
    "# Define Variables\n",
    "FracMet = {} # variables corresponding to fraction of demand met\n",
    "Open = {} # indicator variables for opening facility\n",
    "\n",
    "for ind_i in range(N):\n",
    "    Open[ind_i] = ufl.addVar(lb=0.0, ub=1.0, vtype=GRB.BINARY, name='Open'+str(ind_i))\n",
    "    for ind_j in range(M):\n",
    "        FracMet[ind_i, ind_j] = ufl.addVar(lb=0.0, ub=1.0, name='FracMet'+str((ind_i, ind_j)))\n",
    "\n",
    "# Define Objective\n",
    "ufl.setObjective(quicksum(Open[ind_i]*fixedcost for ind_i in Open.keys()) \n",
    "                 + quicksum(FracMet[ind_i,ind_j]*varcost[ind_i, ind_j]*demand[ind_j] for ind_i, ind_j in FracMet.keys()))\n",
    "\n",
    "# Define Constraints\n",
    "MeetDemand = {} # meet demand constraitns\n",
    "IfOpen = {} # indicator constraints\n",
    "\n",
    "for ind_j in range(M):\n",
    "    MeetDemand[ind_j] = ufl.addConstr(quicksum(FracMet[ind_i, ind_j] for ind_i in range(N)), '=', 1)\n",
    "    \n",
    "for ind_i in range(N):\n",
    "#     =========================== Aggregated Constraints=====================================\n",
    "    IfOpen[ind_i] = ufl.addConstr(quicksum(FracMet[ind_i, ind_j] for ind_j in range(M)), '<=', \n",
    "                                  M*Open[ind_i], name='IfOpen' + str(ind_i))\n",
    "# ===========================================================================================\n",
    "    \n",
    "#     ============================== Strong Formulation ====================================\n",
    "#    comment out the above constraints and uncomment these constraints to change from weak to strong formulation\n",
    "#     -------------------------------------------------------------------------------------\n",
    "#     for ind_j in range(M):\n",
    "#         IfOpen[ind_i,ind_j] = ufl.addConstr(FracMet[ind_i,ind_j], '<=', Open[ind_i], name='IfOpen'+str((ind_i,ind_j)))\n",
    "#     =======================================================================================\n",
    "\n",
    "\n",
    "#Add constraints and variables to model\n",
    "ufl.update()"
   ]
  },
  {
   "cell_type": "code",
   "execution_count": null,
   "metadata": {},
   "outputs": [],
   "source": [
    "# Initialize Model and Solver Settings NOTE: DO NOT EDIT THE SETTINGS IN THIS BLOCK UNLESS OTHERWISE NOTED IN THE EXERCISE\n",
    "ufl.setParam('TimeLimit', 900)\n",
    "ufl.setParam('NodefileStart', 100)\n",
    "ufl.setParam('Presolve', 0)\n",
    "ufl.setParam('Cuts', 0)\n",
    "ufl.setParam('Heuristics', 0)\n",
    "ufl.setParam('BranchDir', -1)\n",
    "ufl.setParam('VarBranch', 2) # variable selection max infeasibility\n",
    "# ufl.setParam('VarBranch', 0) # variable selection pseudo-costs\n",
    "# ufl.setParam('VarBranch', 3) # variable selection strong branching\n",
    "\n",
    "ufl.modelSense = GRB.MINIMIZE\n",
    "ufl.update()\n",
    "\n"
   ]
  },
  {
   "cell_type": "code",
   "execution_count": null,
   "metadata": {},
   "outputs": [],
   "source": [
    "# Optimize Model (you should see output when running this cell)\n",
    "ufl.optimize()"
   ]
  }
 ],
 "metadata": {
  "kernelspec": {
   "display_name": "Python 3",
   "language": "python",
   "name": "python3"
  },
  "language_info": {
   "codemirror_mode": {
    "name": "ipython",
    "version": 3
   },
   "file_extension": ".py",
   "mimetype": "text/x-python",
   "name": "python",
   "nbconvert_exporter": "python",
   "pygments_lexer": "ipython3",
   "version": "3.7.4"
  }
 },
 "nbformat": 4,
 "nbformat_minor": 2
}
