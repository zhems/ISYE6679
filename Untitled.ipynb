{
 "cells": [
  {
   "cell_type": "code",
   "execution_count": 13,
   "metadata": {},
   "outputs": [
    {
     "name": "stdout",
     "output_type": "stream",
     "text": [
      "[[ 3 -2]\n",
      " [ 1  4]]\n",
      "[[-2  4 -2]\n",
      " [ 1 -1 -1]]\n",
      "[3.5 3.5]\n",
      "[-2  2 -4]\n"
     ]
    },
    {
     "ename": "ValueError",
     "evalue": "matmul: Input operand 1 has a mismatch in its core dimension 0, with gufunc signature (n?,k),(k,m?)->(n?,m?) (size 3 is different from 2)",
     "output_type": "error",
     "traceback": [
      "\u001b[1;31m---------------------------------------------------------------------------\u001b[0m",
      "\u001b[1;31mValueError\u001b[0m                                Traceback (most recent call last)",
      "\u001b[1;32m<ipython-input-13-0cdcbeb18a04>\u001b[0m in \u001b[0;36m<module>\u001b[1;34m\u001b[0m\n\u001b[0;32m     16\u001b[0m \u001b[0mprint\u001b[0m\u001b[1;33m(\u001b[0m\u001b[0mpi\u001b[0m\u001b[1;33m)\u001b[0m\u001b[1;33m\u001b[0m\u001b[1;33m\u001b[0m\u001b[0m\n\u001b[0;32m     17\u001b[0m \u001b[0mprint\u001b[0m\u001b[1;33m(\u001b[0m\u001b[0mcT\u001b[0m\u001b[1;33m[\u001b[0m\u001b[1;33m[\u001b[0m\u001b[1;36m0\u001b[0m\u001b[1;33m,\u001b[0m\u001b[1;36m3\u001b[0m\u001b[1;33m,\u001b[0m\u001b[1;36m4\u001b[0m\u001b[1;33m]\u001b[0m\u001b[1;33m]\u001b[0m\u001b[1;33m)\u001b[0m\u001b[1;33m\u001b[0m\u001b[1;33m\u001b[0m\u001b[0m\n\u001b[1;32m---> 18\u001b[1;33m \u001b[0mprint\u001b[0m\u001b[1;33m(\u001b[0m\u001b[0mcT\u001b[0m\u001b[1;33m[\u001b[0m\u001b[1;33m[\u001b[0m\u001b[1;36m0\u001b[0m\u001b[1;33m,\u001b[0m\u001b[1;36m3\u001b[0m\u001b[1;33m,\u001b[0m\u001b[1;36m4\u001b[0m\u001b[1;33m]\u001b[0m\u001b[1;33m]\u001b[0m \u001b[1;33m-\u001b[0m \u001b[1;33m(\u001b[0m\u001b[0mpi\u001b[0m \u001b[1;33m@\u001b[0m \u001b[0mA_N\u001b[0m\u001b[1;33m.\u001b[0m\u001b[0mT\u001b[0m\u001b[1;33m)\u001b[0m \u001b[1;33m)\u001b[0m\u001b[1;33m\u001b[0m\u001b[1;33m\u001b[0m\u001b[0m\n\u001b[0m",
      "\u001b[1;31mValueError\u001b[0m: matmul: Input operand 1 has a mismatch in its core dimension 0, with gufunc signature (n?,k),(k,m?)->(n?,m?) (size 3 is different from 2)"
     ]
    }
   ],
   "source": [
    "# Q1\n",
    "A = np.array([[-2, -2,  3,  4, -2],\n",
    "              [ 1,  4,  1, -1, -1]])\n",
    "\n",
    "bT = np.array([ 0,  7])\n",
    "\n",
    "cT = np.array([-2,  7, 14,  2, -4])\n",
    "\n",
    "basicInd= np.array([0,2]) #x1 and x3 have indices 0 and 2\n",
    "\n",
    "A_B = np.copy(A[:,[2,1]])\n",
    "A_N = np.copy(A[:,[0,3,4]])\n",
    "print(A_B)\n",
    "print(A_N)\n",
    "pi = np.linalg.inv(A_B.T)@ cT[[2,1]]\n",
    "print(pi)\n",
    "print(cT[[0,3,4]])\n",
    "print(cT[[0,3,4]] - (pi @ A_N.T) )"
   ]
  },
  {
   "cell_type": "code",
   "execution_count": 11,
   "metadata": {},
   "outputs": [
    {
     "name": "stdout",
     "output_type": "stream",
     "text": [
      "[[-2  3]\n",
      " [ 4  1]]\n",
      "[[-2  4 -2]\n",
      " [ 1 -1 -1]]\n",
      "[3.5 3.5]\n",
      "[ 1.5 -8.5  6.5]\n"
     ]
    }
   ],
   "source": [
    "# Q1\n",
    "A = np.array([[-2, -2,  3,  4, -2],\n",
    "              [ 1,  4,  1, -1, -1]])\n",
    "\n",
    "bT = np.array([ 0,  7])\n",
    "\n",
    "cT = np.array([-2,  7, 14,  2, -4])\n",
    "\n",
    "basicInd= np.array([0,2]) #x1 and x3 have indices 0 and 2\n",
    "\n",
    "A_B = np.copy(A[:,[1,2]])\n",
    "A_N = np.copy(A[:,[0,3,4]])\n",
    "print(A_B)\n",
    "print(A_N)\n",
    "pi = np.linalg.inv(A_B.T)@ cT[[1,2]]\n",
    "print(pi)\n",
    "print(cT[[0,3,4]] - A_N.T @ pi)"
   ]
  },
  {
   "cell_type": "code",
   "execution_count": null,
   "metadata": {},
   "outputs": [],
   "source": []
  }
 ],
 "metadata": {
  "kernelspec": {
   "display_name": "Python 3",
   "language": "python",
   "name": "python3"
  },
  "language_info": {
   "codemirror_mode": {
    "name": "ipython",
    "version": 3
   },
   "file_extension": ".py",
   "mimetype": "text/x-python",
   "name": "python",
   "nbconvert_exporter": "python",
   "pygments_lexer": "ipython3",
   "version": "3.7.4"
  }
 },
 "nbformat": 4,
 "nbformat_minor": 2
}
