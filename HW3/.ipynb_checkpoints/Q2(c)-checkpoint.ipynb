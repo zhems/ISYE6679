{
 "cells": [
  {
   "cell_type": "markdown",
   "metadata": {},
   "source": [
    "# Q2 (c): Bender's Decomposition"
   ]
  },
  {
   "cell_type": "code",
   "execution_count": 28,
   "metadata": {},
   "outputs": [],
   "source": [
    "import numpy as np\n",
    "from numpy import random\n",
    "from gurobipy import *"
   ]
  },
  {
   "cell_type": "code",
   "execution_count": 83,
   "metadata": {},
   "outputs": [
    {
     "name": "stdout",
     "output_type": "stream",
     "text": [
      "Changed value of parameter TimeLimit to 900.0\n",
      "   Prev: 1e+100  Min: 0.0  Max: 1e+100  Default: 1e+100\n",
      "Changed value of parameter DualReductions to 0\n",
      "   Prev: 1  Min: 0  Max: 1  Default: 1\n",
      "Optimize a model with 9 rows, 12 columns and 18 nonzeros\n",
      "Coefficient statistics:\n",
      "  Matrix range     [1e+00, 1e+00]\n",
      "  Objective range  [1e+00, 1e+00]\n",
      "  Bounds range     [0e+00, 0e+00]\n",
      "  RHS range        [1e+00, 1e+01]\n",
      "Presolve time: 0.00s\n",
      "Presolved: 9 rows, 12 columns, 18 nonzeros\n",
      "\n",
      "Iteration    Objective       Primal Inf.    Dual Inf.      Time\n",
      "       0      handle free variables                          0s\n",
      "       4    3.0000000e+00   0.000000e+00   0.000000e+00      0s\n",
      "\n",
      "Solved in 4 iterations and 0.01 seconds\n",
      "Optimal objective  3.000000000e+00\n"
     ]
    }
   ],
   "source": [
    "# Solving the relaxation Z_LP\n",
    "\n",
    "ufl = Model('ufl')\n",
    "X=np.array([1.0,1.0,1.0])\n",
    "\n",
    "# Define Variables\n",
    "Mu = {}\n",
    "\n",
    "for ind_i in range(1,4):\n",
    "#     Mu[ind_i] = ufl.addVar(name='Mu'+str(ind_i))\n",
    "    Mu[ind_i] = ufl.addVar(lb=-GRB.INFINITY, name='Mu'+str(ind_i))\n",
    "    for ind_j in range(1,4):\n",
    "        Mu[ind_i,ind_j] = ufl.addVar(lb=-GRB.INFINITY,ub=0,name='Mu'+str((ind_i, ind_j)))\n",
    "#         Mu[ind_i,ind_j] = ufl.addVar(name='Mu'+str((ind_i, ind_j)))\n",
    "\n",
    "# Define Objective\n",
    "ufl.setObjective(Mu[1]+Mu[2]+Mu[3]+X[0]*(Mu[(1,1)]+Mu[(1,2)]+Mu[(1,3)])+X[1]*(Mu[(2,1)]+Mu[(2,2)]+Mu[(2,3)])+X[2]*\n",
    "                         (Mu[(3,1)]+Mu[(3,2)]+Mu[(3,3)]))\n",
    "# Define Constraints\n",
    "Constr = {} # indicator constraints\n",
    "\n",
    "for ind_i in range(1,4):\n",
    "    for ind_j in range(1,4):\n",
    "#         print(ind_i,ind_j)\n",
    "        if ind_i == ind_j:\n",
    "            Constr[ind_i,ind_j] = ufl.addConstr(Mu[ind_i]+Mu[ind_i,ind_j],'<=',10.0,name='Constr'+str((ind_i,ind_j)))\n",
    "        else:\n",
    "            Constr[ind_i,ind_j] = ufl.addConstr(Mu[ind_i]+Mu[ind_i,ind_j],'<=',1.0,name='Constr'+str((ind_i,ind_j)))\n",
    "#     =======================================================================================\n",
    "\n",
    "\n",
    "#Add constraints and variables to model\n",
    "ufl.update()\n",
    "# Initialize Model and Solver Settings NOTE: DO NOT EDIT THE SETTINGS IN THIS BLOCK UNLESS OTHERWISE NOTED IN THE EXERCISE\n",
    "ufl.setParam('TimeLimit', 900)\n",
    "ufl.setParam('DualReductions',0)\n",
    "# ufl.setParam('NodeLimit', 10) # \n",
    "\n",
    "\n",
    "ufl.modelSense = GRB.MAXIMIZE\n",
    "ufl.update()\n",
    "# Optimize Model (you should see output when running this cell)\n",
    "ufl.optimize()"
   ]
  },
  {
   "cell_type": "code",
   "execution_count": 84,
   "metadata": {},
   "outputs": [
    {
     "data": {
      "text/plain": [
       "{1: <gurobi.Var Mu1 (value 1.0)>,\n",
       " (1, 1): <gurobi.Var Mu(1, 1) (value 0.0)>,\n",
       " (1, 2): <gurobi.Var Mu(1, 2) (value 0.0)>,\n",
       " (1, 3): <gurobi.Var Mu(1, 3) (value 0.0)>,\n",
       " 2: <gurobi.Var Mu2 (value 1.0)>,\n",
       " (2, 1): <gurobi.Var Mu(2, 1) (value 0.0)>,\n",
       " (2, 2): <gurobi.Var Mu(2, 2) (value 0.0)>,\n",
       " (2, 3): <gurobi.Var Mu(2, 3) (value 0.0)>,\n",
       " 3: <gurobi.Var Mu3 (value 1.0)>,\n",
       " (3, 1): <gurobi.Var Mu(3, 1) (value 0.0)>,\n",
       " (3, 2): <gurobi.Var Mu(3, 2) (value 0.0)>,\n",
       " (3, 3): <gurobi.Var Mu(3, 3) (value 0.0)>}"
      ]
     },
     "execution_count": 84,
     "metadata": {},
     "output_type": "execute_result"
    }
   ],
   "source": [
    "Mu"
   ]
  },
  {
   "cell_type": "code",
   "execution_count": 88,
   "metadata": {},
   "outputs": [
    {
     "data": {
      "text/plain": [
       "array([1., 0., 0., 0., 1., 0., 0., 0., 1., 0., 0., 0.])"
      ]
     },
     "execution_count": 88,
     "metadata": {},
     "output_type": "execute_result"
    }
   ],
   "source": [
    "mu"
   ]
  },
  {
   "cell_type": "code",
   "execution_count": 85,
   "metadata": {},
   "outputs": [],
   "source": [
    "mu = []\n",
    "for i,j in Mu.items():\n",
    "    mu.append(j.X)\n",
    "mu=np.array(mu)\n",
    "bAx = np.array([1,1,1,X[0],X[0],X[0],X[1],X[1],X[1],X[2],X[2],X[2]])\n",
    "rhs = np.dot(mu,bAx)\n",
    "zLD = ufl.objVal\n",
    "# print('eta:',eta)\n",
    "# print('ZLD obj val:',zLD)"
   ]
  },
  {
   "cell_type": "code",
   "execution_count": 86,
   "metadata": {},
   "outputs": [
    {
     "name": "stdout",
     "output_type": "stream",
     "text": [
      "Changed value of parameter TimeLimit to 900.0\n",
      "   Prev: 1e+100  Min: 0.0  Max: 1e+100  Default: 1e+100\n",
      "Changed value of parameter DualReductions to 0\n",
      "   Prev: 1  Min: 0  Max: 1  Default: 1\n",
      "Optimize a model with 1 rows, 4 columns and 1 nonzeros\n",
      "Variable types: 1 continuous, 3 integer (3 binary)\n",
      "Coefficient statistics:\n",
      "  Matrix range     [1e+00, 1e+00]\n",
      "  Objective range  [1e+00, 2e+01]\n",
      "  Bounds range     [1e+00, 1e+00]\n",
      "  RHS range        [3e+00, 3e+00]\n",
      "Found heuristic solution: objective 3.0000000\n",
      "Presolve removed 1 rows and 0 columns\n",
      "Presolve time: 0.00s\n",
      "Presolved: 0 rows, 4 columns, 0 nonzeros\n",
      "Variable types: 1 continuous, 3 integer (3 binary)\n",
      "\n",
      "Explored 0 nodes (0 simplex iterations) in 0.01 seconds\n",
      "Thread count was 8 (of 8 available processors)\n",
      "\n",
      "Solution count 1: 3 \n",
      "\n",
      "Optimal solution found (tolerance 1.00e-04)\n",
      "Best objective 3.000000000000e+00, best bound 3.000000000000e+00, gap 0.0000%\n"
     ]
    }
   ],
   "source": [
    "#Solving the RMIP\n",
    "RMIP = Model('RMIP')\n",
    "# X=np.array([1.0,1.0,1.0])\n",
    "\n",
    "# Define Variables\n",
    "X = {}\n",
    "X['eta'] = RMIP.addVar(lb=-GRB.INFINITY, name='eta')\n",
    "\n",
    "for ind_i in range(1,4):\n",
    "#     Mu[ind_i] = ufl.addVar(name='Mu'+str(ind_i))\n",
    "    X[ind_i] = RMIP.addVar(vtype=GRB.BINARY, name='X'+str(ind_i))\n",
    "\n",
    "# Define Objective\n",
    "RMIP.setObjective(15*(X[1]+X[2]+X[3])+X['eta'])\n",
    "# Define Constraints\n",
    "Constr = {} # indicator constraints\n",
    "\n",
    "Constr['eta'] = RMIP.addConstr(X['eta'],'>=',mu[0]+mu[4]+mu[8]+X[1]*(mu[1]+mu[2]+mu[3])+\n",
    "                               X[2]*(mu[5]+u[6]+mu[7])+X[3]*(mu[9]+mu[10]+mu[11]),name='eta')\n",
    "\n",
    "#Add constraints and variables to model\n",
    "RMIP.update()\n",
    "# Initialize Model and Solver Settings NOTE: DO NOT EDIT THE SETTINGS IN THIS BLOCK UNLESS OTHERWISE NOTED IN THE EXERCISE\n",
    "RMIP.setParam('TimeLimit', 900)\n",
    "RMIP.setParam('DualReductions',0)\n",
    "# ufl.setParam('NodeLimit', 10) # \n",
    "\n",
    "\n",
    "RMIP.modelSense = GRB.MINIMIZE\n",
    "RMIP.update()\n",
    "# Optimize Model (you should see output when running this cell)\n",
    "RMIP.optimize()"
   ]
  },
  {
   "cell_type": "code",
   "execution_count": 87,
   "metadata": {},
   "outputs": [
    {
     "data": {
      "text/plain": [
       "{'eta': <gurobi.Var eta (value 3.0)>,\n",
       " 1: <gurobi.Var X1 (value 0.0)>,\n",
       " 2: <gurobi.Var X2 (value 0.0)>,\n",
       " 3: <gurobi.Var X3 (value 0.0)>}"
      ]
     },
     "execution_count": 87,
     "metadata": {},
     "output_type": "execute_result"
    }
   ],
   "source": [
    "X"
   ]
  },
  {
   "cell_type": "code",
   "execution_count": 64,
   "metadata": {},
   "outputs": [
    {
     "name": "stdout",
     "output_type": "stream",
     "text": [
      "eta: 3.0\n",
      "ZLD obj val: 3.0\n"
     ]
    }
   ],
   "source": [
    "mu = []\n",
    "for i,j in Mu.items():\n",
    "    mu.append(j.X)\n",
    "mu=np.array(mu)\n",
    "bAx = np.array([1,1,1,X[0],X[0],X[0],X[1],X[1],X[1],X[2],X[2],X[2]])\n",
    "# eta = np.dot(mu,bAx)\n",
    "zLD = ufl.objVal\n",
    "# print('eta:',eta)\n",
    "print('ZLD obj val:',zLD)"
   ]
  },
  {
   "cell_type": "code",
   "execution_count": null,
   "metadata": {},
   "outputs": [],
   "source": []
  }
 ],
 "metadata": {
  "kernelspec": {
   "display_name": "Python 3",
   "language": "python",
   "name": "python3"
  },
  "language_info": {
   "codemirror_mode": {
    "name": "ipython",
    "version": 3
   },
   "file_extension": ".py",
   "mimetype": "text/x-python",
   "name": "python",
   "nbconvert_exporter": "python",
   "pygments_lexer": "ipython3",
   "version": "3.7.4"
  }
 },
 "nbformat": 4,
 "nbformat_minor": 2
}
