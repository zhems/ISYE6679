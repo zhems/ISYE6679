{
 "cells": [
  {
   "cell_type": "markdown",
   "metadata": {
    "colab_type": "text",
    "id": "WmM-JPMVAWIH"
   },
   "source": [
    "## 1. Environment Sanity Check\n",
    "\n",
    "**If you are using DGX-1 and a rapids docker image, you can skip this!**\n",
    "\n",
    "We need to make sure if we have been allocated a **Tesla T4** GPU to successfully run RAPIDS libraries. Somtimes Google Colab allcates a Tesla K80 instead of **Tesla T4**. If you get a K80 GPU, please try **Runtime -> Reset all runtimes** until you get a **Tesla T4** GPU."
   ]
  },
  {
   "cell_type": "code",
   "execution_count": 0,
   "metadata": {
    "colab": {
     "base_uri": "https://localhost:8080/",
     "height": 306
    },
    "colab_type": "code",
    "executionInfo": {
     "elapsed": 1732,
     "status": "ok",
     "timestamp": 1569712114741,
     "user": {
      "displayName": "Haekyu Park",
      "photoUrl": "https://lh3.googleusercontent.com/a-/AAuE7mDjQVoSU1OuAmy6Iub-qidtMODHoFquLNkUJOzQ=s64",
      "userId": "14844797413318098296"
     },
     "user_tz": 240
    },
    "id": "G4Fg_HaB-wZD",
    "outputId": "80f20f31-396e-4040-bf82-f288fbbac2b2"
   },
   "outputs": [
    {
     "name": "stdout",
     "output_type": "stream",
     "text": [
      "Sat Sep 28 23:08:33 2019       \n",
      "+-----------------------------------------------------------------------------+\n",
      "| NVIDIA-SMI 430.40       Driver Version: 418.67       CUDA Version: 10.1     |\n",
      "|-------------------------------+----------------------+----------------------+\n",
      "| GPU  Name        Persistence-M| Bus-Id        Disp.A | Volatile Uncorr. ECC |\n",
      "| Fan  Temp  Perf  Pwr:Usage/Cap|         Memory-Usage | GPU-Util  Compute M. |\n",
      "|===============================+======================+======================|\n",
      "|   0  Tesla T4            Off  | 00000000:00:04.0 Off |                    0 |\n",
      "| N/A   72C    P8    12W /  70W |      0MiB / 15079MiB |      0%      Default |\n",
      "+-------------------------------+----------------------+----------------------+\n",
      "                                                                               \n",
      "+-----------------------------------------------------------------------------+\n",
      "| Processes:                                                       GPU Memory |\n",
      "|  GPU       PID   Type   Process name                             Usage      |\n",
      "|=============================================================================|\n",
      "|  No running processes found                                                 |\n",
      "+-----------------------------------------------------------------------------+\n"
     ]
    }
   ],
   "source": [
    "!nvidia-smi"
   ]
  },
  {
   "cell_type": "markdown",
   "metadata": {
    "colab_type": "text",
    "id": "eJ0a2pV-C6KN"
   },
   "source": [
    "## 2. Setup\n",
    "\n",
    "\n",
    "**If you are using DGX-1 and a rapids docker image, you can skip this!**\n",
    "\n",
    "Let's install the followings:\n",
    "\n",
    "1. Miniconda for Google Colab's Python install\n",
    "2. RAPIDS libraries\n",
    "3. Related Python packages\n",
    "\n",
    "Then, we are going to setup the environment as follows:\n",
    "\n",
    "4. Set environment variables\n",
    "5. Copy .so files to the current working directory"
   ]
  },
  {
   "cell_type": "code",
   "execution_count": 0,
   "metadata": {
    "colab": {
     "base_uri": "https://localhost:8080/",
     "height": 1000
    },
    "colab_type": "code",
    "executionInfo": {
     "elapsed": 211277,
     "status": "ok",
     "timestamp": 1569712330636,
     "user": {
      "displayName": "Haekyu Park",
      "photoUrl": "https://lh3.googleusercontent.com/a-/AAuE7mDjQVoSU1OuAmy6Iub-qidtMODHoFquLNkUJOzQ=s64",
      "userId": "14844797413318098296"
     },
     "user_tz": 240
    },
    "id": "DKC6ZLYcDRJu",
    "outputId": "7e654c8e-5781-44ea-9377-7271c0b751cf"
   },
   "outputs": [
    {
     "name": "stdout",
     "output_type": "stream",
     "text": [
      "--2019-09-28 23:08:39--  https://repo.continuum.io/miniconda/Miniconda3-4.5.4-Linux-x86_64.sh\n",
      "Resolving repo.continuum.io (repo.continuum.io)... 104.18.201.79, 104.18.200.79, 2606:4700::6812:c84f, ...\n",
      "Connecting to repo.continuum.io (repo.continuum.io)|104.18.201.79|:443... connected.\n",
      "HTTP request sent, awaiting response... 200 OK\n",
      "Length: 58468498 (56M) [application/x-sh]\n",
      "Saving to: ‘Miniconda3-4.5.4-Linux-x86_64.sh’\n",
      "\n",
      "Miniconda3-4.5.4-Li 100%[===================>]  55.76M  65.4MB/s    in 0.9s    \n",
      "\n",
      "2019-09-28 23:08:41 (65.4 MB/s) - ‘Miniconda3-4.5.4-Linux-x86_64.sh’ saved [58468498/58468498]\n",
      "\n",
      "PREFIX=/usr/local\n",
      "installing: python-3.6.5-hc3d631a_2 ...\n",
      "Python 3.6.5 :: Anaconda, Inc.\n",
      "installing: ca-certificates-2018.03.07-0 ...\n",
      "installing: conda-env-2.6.0-h36134e3_1 ...\n",
      "installing: libgcc-ng-7.2.0-hdf63c60_3 ...\n",
      "installing: libstdcxx-ng-7.2.0-hdf63c60_3 ...\n",
      "installing: libffi-3.2.1-hd88cf55_4 ...\n",
      "installing: ncurses-6.1-hf484d3e_0 ...\n",
      "installing: openssl-1.0.2o-h20670df_0 ...\n",
      "installing: tk-8.6.7-hc745277_3 ...\n",
      "installing: xz-5.2.4-h14c3975_4 ...\n",
      "installing: yaml-0.1.7-had09818_2 ...\n",
      "installing: zlib-1.2.11-ha838bed_2 ...\n",
      "installing: libedit-3.1.20170329-h6b74fdf_2 ...\n",
      "installing: readline-7.0-ha6073c6_4 ...\n",
      "installing: sqlite-3.23.1-he433501_0 ...\n",
      "installing: asn1crypto-0.24.0-py36_0 ...\n",
      "installing: certifi-2018.4.16-py36_0 ...\n",
      "installing: chardet-3.0.4-py36h0f667ec_1 ...\n",
      "installing: idna-2.6-py36h82fb2a8_1 ...\n",
      "installing: pycosat-0.6.3-py36h0a5515d_0 ...\n",
      "installing: pycparser-2.18-py36hf9f622e_1 ...\n",
      "installing: pysocks-1.6.8-py36_0 ...\n",
      "installing: ruamel_yaml-0.15.37-py36h14c3975_2 ...\n",
      "installing: six-1.11.0-py36h372c433_1 ...\n",
      "installing: cffi-1.11.5-py36h9745a5d_0 ...\n",
      "installing: setuptools-39.2.0-py36_0 ...\n",
      "installing: cryptography-2.2.2-py36h14c3975_0 ...\n",
      "installing: wheel-0.31.1-py36_0 ...\n",
      "installing: pip-10.0.1-py36_0 ...\n",
      "installing: pyopenssl-18.0.0-py36_0 ...\n",
      "installing: urllib3-1.22-py36hbe7ace6_0 ...\n",
      "installing: requests-2.18.4-py36he2e5f8d_1 ...\n",
      "installing: conda-4.5.4-py36_0 ...\n",
      "installation finished.\n",
      "WARNING:\n",
      "    You currently have a PYTHONPATH environment variable set. This may cause\n",
      "    unexpected behavior when running the Python interpreter in Miniconda3.\n",
      "    For best results, please verify that your PYTHONPATH only points to\n",
      "    directories of packages that are compatible with the Python interpreter\n",
      "    in Miniconda3: /usr/local\n",
      "Solving environment: ...working... done\n",
      "\n",
      "## Package Plan ##\n",
      "\n",
      "  environment location: /usr/local\n",
      "\n",
      "  added / updated specs: \n",
      "    - cudf\n",
      "    - cuml\n",
      "\n",
      "\n",
      "The following packages will be downloaded:\n",
      "\n",
      "    package                    |            build\n",
      "    ---------------------------|-----------------\n",
      "    llvmlite-0.29.0            |   py37hfd453ef_1        19.9 MB  conda-forge\n",
      "    parquet-cpp-1.5.1          |                2           3 KB  conda-forge\n",
      "    libprotobuf-3.8.0          |       h8b12597_0         4.7 MB  conda-forge\n",
      "    ncurses-6.1                |    hf484d3e_1002         1.3 MB  conda-forge\n",
      "    nvstrings-0.9.0a1          |          py37_68         124 KB  rapidsai-nightly/label/cuda10.0\n",
      "    cython-0.29.13             |   py37he1b5a44_0         2.2 MB  conda-forge\n",
      "    lz4-c-1.8.3                |    he1b5a44_1001         187 KB  conda-forge\n",
      "    libstdcxx-ng-9.1.0         |       hdf63c60_0         4.0 MB\n",
      "    readline-8.0               |       hf8c457e_0         441 KB  conda-forge\n",
      "    libcudf-0.9.0a             |    cuda10.0_2790        29.2 MB  rapidsai-nightly/label/cuda10.0\n",
      "    rmm-0.9.0a1                |          py37_18          14 KB  rapidsai-nightly/label/cuda10.0\n",
      "    liblapack-3.8.0            |      12_openblas          10 KB  conda-forge\n",
      "    re2-2019.09.01             |       he1b5a44_0         431 KB  conda-forge\n",
      "    libevent-2.1.10            |       h72c5cf5_0         1.3 MB  conda-forge\n",
      "    icu-64.2                   |       he1b5a44_1        12.6 MB  conda-forge\n",
      "    zlib-1.2.11                |    h516909a_1006         105 KB  conda-forge\n",
      "    arrow-cpp-0.14.1           |   py37h5ac5442_4        17.3 MB  conda-forge\n",
      "    certifi-2019.9.11          |           py37_0         147 KB  conda-forge\n",
      "    libgfortran-ng-7.3.0       |       hdf63c60_0         1.3 MB\n",
      "    xz-5.2.4                   |    h14c3975_1001         366 KB  conda-forge\n",
      "    pip-19.2.3                 |           py37_0         1.9 MB  conda-forge\n",
      "    libcuml-0.9.0a1            |     cuda10.0_893        29.7 MB  rapidsai-nightly/label/cuda10.0\n",
      "    thrift-cpp-0.12.0          |    hf3afdfd_1004         2.4 MB  conda-forge\n",
      "    brotli-1.0.7               |    he1b5a44_1000         1.0 MB  conda-forge\n",
      "    glog-0.4.0                 |       he1b5a44_1         104 KB  conda-forge\n",
      "    gflags-2.2.2               |    he1b5a44_1001         177 KB  conda-forge\n",
      "    cuml-0.9.0a1               |cuda10.0_py37_893         5.3 MB  rapidsai-nightly/label/cuda10.0\n",
      "    libcumlmg-0.0.0.dev0       |     cuda10.0_373         955 KB  nvidia/label/cuda10.0\n",
      "    ca-certificates-2019.9.11  |       hecc5488_0         144 KB  conda-forge\n",
      "    fastavro-0.22.5            |   py37h516909a_0         401 KB  conda-forge\n",
      "    cudf-0.9.0a                |        py37_2790         4.9 MB  rapidsai-nightly/label/cuda10.0\n",
      "    grpc-cpp-1.23.0            |       h18db393_0         4.5 MB  conda-forge\n",
      "    cffi-1.12.3                |   py37h8022711_0         218 KB  conda-forge\n",
      "    six-1.12.0                 |        py37_1000          22 KB  conda-forge\n",
      "    zstd-1.4.0                 |       h3b9ef0a_0         928 KB  conda-forge\n",
      "    wheel-0.33.6               |           py37_0          35 KB  conda-forge\n",
      "    bzip2-1.0.8                |       h516909a_1         397 KB  conda-forge\n",
      "    libopenblas-0.3.7          |       h6e990d7_1         7.6 MB  conda-forge\n",
      "    pandas-0.24.2              |   py37hb3f55d8_0        11.1 MB  conda-forge\n",
      "    libffi-3.2.1               |    he1b5a44_1006          46 KB  conda-forge\n",
      "    cudatoolkit-10.0.130       |                0       380.0 MB\n",
      "    double-conversion-3.1.5    |       he1b5a44_1          85 KB  conda-forge\n",
      "    pytz-2019.2                |             py_0         228 KB  conda-forge\n",
      "    setuptools-41.2.0          |           py37_0         635 KB  conda-forge\n",
      "    numba-0.45.1               |   py37hb3f55d8_0         3.1 MB  conda-forge\n",
      "    dlpack-0.2                 |       he1b5a44_1          13 KB  conda-forge\n",
      "    python-3.7.3               |       h33d41f4_1        36.0 MB  conda-forge\n",
      "    pyarrow-0.14.1             |   py37h8b68381_2         2.8 MB  conda-forge\n",
      "    libcblas-3.8.0             |      12_openblas          10 KB  conda-forge\n",
      "    openssl-1.1.1c             |       h516909a_0         2.1 MB  conda-forge\n",
      "    _libgcc_mutex-0.1          |             main           3 KB\n",
      "    c-ares-1.15.0              |    h516909a_1001         100 KB  conda-forge\n",
      "    pycparser-2.19             |           py37_1         171 KB  conda-forge\n",
      "    python-dateutil-2.8.0      |             py_0         219 KB  conda-forge\n",
      "    libblas-3.8.0              |      12_openblas          10 KB  conda-forge\n",
      "    librmm-0.9.0a1             |      cuda10.0_18          44 KB  rapidsai-nightly/label/cuda10.0\n",
      "    numpy-1.17.2               |   py37h95a1406_0         5.2 MB  conda-forge\n",
      "    libgcc-ng-9.1.0            |       hdf63c60_0         8.1 MB\n",
      "    boost-cpp-1.70.0           |       h8e57a91_2        21.1 MB  conda-forge\n",
      "    snappy-1.1.7               |    he1b5a44_1002          39 KB  conda-forge\n",
      "    libnvstrings-0.9.0a1       |      cuda10.0_65        16.8 MB  rapidsai-nightly/label/cuda10.0\n",
      "    tk-8.6.9                   |    hed695b0_1003         3.2 MB  conda-forge\n",
      "    uriparser-0.9.3            |       he1b5a44_1          49 KB  conda-forge\n",
      "    sqlite-3.29.0              |       hcee41ef_1         1.9 MB  conda-forge\n",
      "    ------------------------------------------------------------\n",
      "                                           Total:       649.3 MB\n",
      "\n",
      "The following NEW packages will be INSTALLED:\n",
      "\n",
      "    _libgcc_mutex:     0.1-main                                                 \n",
      "    arrow-cpp:         0.14.1-py37h5ac5442_4     conda-forge                    \n",
      "    boost-cpp:         1.70.0-h8e57a91_2         conda-forge                    \n",
      "    brotli:            1.0.7-he1b5a44_1000       conda-forge                    \n",
      "    bzip2:             1.0.8-h516909a_1          conda-forge                    \n",
      "    c-ares:            1.15.0-h516909a_1001      conda-forge                    \n",
      "    cudatoolkit:       10.0.130-0                                               \n",
      "    cudf:              0.9.0a-py37_2790          rapidsai-nightly/label/cuda10.0\n",
      "    cuml:              0.9.0a1-cuda10.0_py37_893 rapidsai-nightly/label/cuda10.0\n",
      "    cython:            0.29.13-py37he1b5a44_0    conda-forge                    \n",
      "    dlpack:            0.2-he1b5a44_1            conda-forge                    \n",
      "    double-conversion: 3.1.5-he1b5a44_1          conda-forge                    \n",
      "    fastavro:          0.22.5-py37h516909a_0     conda-forge                    \n",
      "    gflags:            2.2.2-he1b5a44_1001       conda-forge                    \n",
      "    glog:              0.4.0-he1b5a44_1          conda-forge                    \n",
      "    grpc-cpp:          1.23.0-h18db393_0         conda-forge                    \n",
      "    icu:               64.2-he1b5a44_1           conda-forge                    \n",
      "    libblas:           3.8.0-12_openblas         conda-forge                    \n",
      "    libcblas:          3.8.0-12_openblas         conda-forge                    \n",
      "    libcudf:           0.9.0a-cuda10.0_2790      rapidsai-nightly/label/cuda10.0\n",
      "    libcuml:           0.9.0a1-cuda10.0_893      rapidsai-nightly/label/cuda10.0\n",
      "    libcumlmg:         0.0.0.dev0-cuda10.0_373   nvidia/label/cuda10.0          \n",
      "    libevent:          2.1.10-h72c5cf5_0         conda-forge                    \n",
      "    libgfortran-ng:    7.3.0-hdf63c60_0                                         \n",
      "    liblapack:         3.8.0-12_openblas         conda-forge                    \n",
      "    libnvstrings:      0.9.0a1-cuda10.0_65       rapidsai-nightly/label/cuda10.0\n",
      "    libopenblas:       0.3.7-h6e990d7_1          conda-forge                    \n",
      "    libprotobuf:       3.8.0-h8b12597_0          conda-forge                    \n",
      "    librmm:            0.9.0a1-cuda10.0_18       rapidsai-nightly/label/cuda10.0\n",
      "    llvmlite:          0.29.0-py37hfd453ef_1     conda-forge                    \n",
      "    lz4-c:             1.8.3-he1b5a44_1001       conda-forge                    \n",
      "    numba:             0.45.1-py37hb3f55d8_0     conda-forge                    \n",
      "    numpy:             1.17.2-py37h95a1406_0     conda-forge                    \n",
      "    nvstrings:         0.9.0a1-py37_68           rapidsai-nightly/label/cuda10.0\n",
      "    pandas:            0.24.2-py37hb3f55d8_0     conda-forge                    \n",
      "    parquet-cpp:       1.5.1-2                   conda-forge                    \n",
      "    pyarrow:           0.14.1-py37h8b68381_2     conda-forge                    \n",
      "    python-dateutil:   2.8.0-py_0                conda-forge                    \n",
      "    pytz:              2019.2-py_0               conda-forge                    \n",
      "    re2:               2019.09.01-he1b5a44_0     conda-forge                    \n",
      "    rmm:               0.9.0a1-py37_18           rapidsai-nightly/label/cuda10.0\n",
      "    snappy:            1.1.7-he1b5a44_1002       conda-forge                    \n",
      "    thrift-cpp:        0.12.0-hf3afdfd_1004      conda-forge                    \n",
      "    uriparser:         0.9.3-he1b5a44_1          conda-forge                    \n",
      "    zstd:              1.4.0-h3b9ef0a_0          conda-forge                    \n",
      "\n",
      "The following packages will be UPDATED:\n",
      "\n",
      "    ca-certificates:   2018.03.07-0                                              --> 2019.9.11-hecc5488_0  conda-forge\n",
      "    certifi:           2018.4.16-py36_0                                          --> 2019.9.11-py37_0      conda-forge\n",
      "    cffi:              1.11.5-py36h9745a5d_0                                     --> 1.12.3-py37h8022711_0 conda-forge\n",
      "    libffi:            3.2.1-hd88cf55_4                                          --> 3.2.1-he1b5a44_1006   conda-forge\n",
      "    libgcc-ng:         7.2.0-hdf63c60_3                                          --> 9.1.0-hdf63c60_0                 \n",
      "    libstdcxx-ng:      7.2.0-hdf63c60_3                                          --> 9.1.0-hdf63c60_0                 \n",
      "    ncurses:           6.1-hf484d3e_0                                            --> 6.1-hf484d3e_1002     conda-forge\n",
      "    openssl:           1.0.2o-h20670df_0                                         --> 1.1.1c-h516909a_0     conda-forge\n",
      "    pip:               10.0.1-py36_0                                             --> 19.2.3-py37_0         conda-forge\n",
      "    pycparser:         2.18-py36hf9f622e_1                                       --> 2.19-py37_1           conda-forge\n",
      "    python:            3.6.5-hc3d631a_2                                          --> 3.7.3-h33d41f4_1      conda-forge\n",
      "    readline:          7.0-ha6073c6_4                                            --> 8.0-hf8c457e_0        conda-forge\n",
      "    setuptools:        39.2.0-py36_0                                             --> 41.2.0-py37_0         conda-forge\n",
      "    six:               1.11.0-py36h372c433_1                                     --> 1.12.0-py37_1000      conda-forge\n",
      "    sqlite:            3.23.1-he433501_0                                         --> 3.29.0-hcee41ef_1     conda-forge\n",
      "    tk:                8.6.7-hc745277_3                                          --> 8.6.9-hed695b0_1003   conda-forge\n",
      "    wheel:             0.31.1-py36_0                                             --> 0.33.6-py37_0         conda-forge\n",
      "    xz:                5.2.4-h14c3975_4                                          --> 5.2.4-h14c3975_1001   conda-forge\n",
      "    zlib:              1.2.11-ha838bed_2                                         --> 1.2.11-h516909a_1006  conda-forge\n",
      "\n",
      "Preparing transaction: ...working... done\n",
      "Verifying transaction: ...working... done\n",
      "Executing transaction: ...working... done\n",
      "Traceback (most recent call last):\n",
      "  File \"/usr/local/bin/conda\", line 7, in <module>\n",
      "    from conda.cli import main\n",
      "ModuleNotFoundError: No module named 'conda'\n",
      "Collecting dropbox\n",
      "\u001b[?25l  Downloading https://files.pythonhosted.org/packages/60/37/1874bedfdbac91c8abfb1ddb133599306d65fca44dcd592fa5e84afbf181/dropbox-9.4.0-py3-none-any.whl (543kB)\n",
      "\u001b[K     |████████████████████████████████| 552kB 41.6MB/s \n",
      "\u001b[?25hRequirement already satisfied: six>=1.3.0 in /usr/local/lib/python3.7/site-packages (from dropbox) (1.12.0)\n",
      "Collecting requests>=2.16.2 (from dropbox)\n",
      "\u001b[?25l  Downloading https://files.pythonhosted.org/packages/51/bd/23c926cd341ea6b7dd0b2a00aba99ae0f828be89d72b2190f27c11d4b7fb/requests-2.22.0-py2.py3-none-any.whl (57kB)\n",
      "\u001b[K     |████████████████████████████████| 61kB 33.5MB/s \n",
      "\u001b[?25hCollecting chardet<3.1.0,>=3.0.2 (from requests>=2.16.2->dropbox)\n",
      "\u001b[?25l  Downloading https://files.pythonhosted.org/packages/bc/a9/01ffebfb562e4274b6487b4bb1ddec7ca55ec7510b22e4c51f14098443b8/chardet-3.0.4-py2.py3-none-any.whl (133kB)\n",
      "\u001b[K     |████████████████████████████████| 143kB 48.5MB/s \n",
      "\u001b[?25hCollecting idna<2.9,>=2.5 (from requests>=2.16.2->dropbox)\n",
      "\u001b[?25l  Downloading https://files.pythonhosted.org/packages/14/2c/cd551d81dbe15200be1cf41cd03869a46fe7226e7450af7a6545bfc474c9/idna-2.8-py2.py3-none-any.whl (58kB)\n",
      "\u001b[K     |████████████████████████████████| 61kB 35.3MB/s \n",
      "\u001b[?25hRequirement already satisfied: certifi>=2017.4.17 in /usr/local/lib/python3.7/site-packages (from requests>=2.16.2->dropbox) (2019.9.11)\n",
      "Collecting urllib3!=1.25.0,!=1.25.1,<1.26,>=1.21.1 (from requests>=2.16.2->dropbox)\n",
      "\u001b[?25l  Downloading https://files.pythonhosted.org/packages/e0/da/55f51ea951e1b7c63a579c09dd7db825bb730ec1fe9c0180fc77bfb31448/urllib3-1.25.6-py2.py3-none-any.whl (125kB)\n",
      "\u001b[K     |████████████████████████████████| 133kB 63.9MB/s \n",
      "\u001b[?25hInstalling collected packages: chardet, idna, urllib3, requests, dropbox\n",
      "Successfully installed chardet-3.0.4 dropbox-9.4.0 idna-2.8 requests-2.22.0 urllib3-1.25.6\n"
     ]
    },
    {
     "data": {
      "application/vnd.colab-display-data+json": {
       "pip_warning": {
        "packages": [
         "chardet",
         "idna"
        ]
       }
      }
     },
     "metadata": {
      "tags": []
     },
     "output_type": "display_data"
    }
   ],
   "source": [
    "# install miniconda\n",
    "!wget -c https://repo.continuum.io/miniconda/Miniconda3-4.5.4-Linux-x86_64.sh\n",
    "!chmod +x Miniconda3-4.5.4-Linux-x86_64.sh\n",
    "!bash ./Miniconda3-4.5.4-Linux-x86_64.sh -b -f -p /usr/local\n",
    "\n",
    "# install RAPIDS packages\n",
    "!conda install -q -y --prefix /usr/local -c conda-forge \\\n",
    "  -c rapidsai-nightly/label/cuda10.0 -c nvidia/label/cuda10.0 \\\n",
    "  cudf cuml\n",
    "\n",
    "# install relevant python package\n",
    "!conda install -y nvstrings\n",
    "!pip install dropbox\n",
    "\n",
    "# set environment vars\n",
    "import sys, os, shutil\n",
    "sys.path.append('/usr/local/lib/python3.6/site-packages/')\n",
    "os.environ['NUMBAPRO_NVVM'] = '/usr/local/cuda/nvvm/lib64/libnvvm.so'\n",
    "os.environ['NUMBAPRO_LIBDEVICE'] = '/usr/local/cuda/nvvm/libdevice/'\n",
    "\n",
    "# copy .so files to current working dir\n",
    "for fn in ['libcudf.so', 'librmm.so']:\n",
    "  shutil.copy('/usr/local/lib/'+fn, os.getcwd())"
   ]
  },
  {
   "cell_type": "markdown",
   "metadata": {
    "colab_type": "text",
    "id": "Fsd3NrcUKPu-"
   },
   "source": [
    "## 3. Get Datasets\n",
    "\n",
    "We are going to use five datasets in this bonus problem. Each dataset includes 2d coordinates, where \n",
    "- each row is a data point (a 2d coordinate)\n",
    "- the first column is x coordinates\n",
    "- the second column is y coordinates\n",
    "- there is no column header\n",
    "\n",
    "**If you are using DGX-1 and a rapids docker image, you can skip this!**\n",
    "The datasets is already available at:\n",
    "- /app/sample_data/data0.csv\n",
    "- /app/sample_data/data1.csv\n",
    "- /app/sample_data/data2.csv\n",
    "- /app/sample_data/data3.csv\n",
    "- /app/sample_data/data4.csv\n",
    "\n",
    "If you are using Google Colab, you need to run the following cell to get the datasets. They will be available at:\n",
    "- ./sample_data/data0.csv\n",
    "- ./sample_data/data1.csv\n",
    "- ./sample_data/data2.csv\n",
    "- ./sample_data/data3.csv\n",
    "- ./sample_data/data4.csv\n",
    "\n",
    "\n",
    "\n",
    "\n"
   ]
  },
  {
   "cell_type": "code",
   "execution_count": 0,
   "metadata": {
    "colab": {
     "base_uri": "https://localhost:8080/",
     "height": 51
    },
    "colab_type": "code",
    "executionInfo": {
     "elapsed": 12797,
     "status": "ok",
     "timestamp": 1568695645681,
     "user": {
      "displayName": "Haekyu Park",
      "photoUrl": "https://lh3.googleusercontent.com/a-/AAuE7mDjQVoSU1OuAmy6Iub-qidtMODHoFquLNkUJOzQ=s64",
      "userId": "14844797413318098296"
     },
     "user_tz": 240
    },
    "id": "zI7TH4rMFiOq",
    "outputId": "6394820f-48b2-4990-f968-7f4ea2bf846b"
   },
   "outputs": [
    {
     "name": "stdout",
     "output_type": "stream",
     "text": [
      "CPU times: user 1.46 s, sys: 16 ms, total: 1.48 s\n",
      "Wall time: 11.4 s\n"
     ]
    }
   ],
   "source": [
    "%%time \n",
    "\n",
    "import dropbox\n",
    "import numpy as np\n",
    "\n",
    "# Get access into the dropbox directory\n",
    "token = 'sKC7vZAuXmAAAAAAAAABVKm0AgbOagLq8a11wNL71NoP0DbfCnj-KZlxda-7n55-'\n",
    "dbx = dropbox.Dropbox(token)\n",
    "\n",
    "# Parse the datasets and save them\n",
    "for i in range(5):\n",
    "  \n",
    "  # Get the dataset\n",
    "  filename = \"/sample_data/data%d.csv\" % i\n",
    "  metadata, res = dbx.files_download(path=filename)\n",
    "  content = res.content.decode(\"utf-8\")\n",
    "  lst = content.split('\\n')\n",
    "  \n",
    "  # Parse the dataset\n",
    "  total_len = len(lst) - 1\n",
    "  arr = np.zeros((total_len, 2))\n",
    "  for j, e in enumerate(lst):\n",
    "    if j < total_len:\n",
    "        arr[j] = np.array(e.split(',')).astype(float)\n",
    "  \n",
    "  # Save the dataset\n",
    "  np.savetxt(\".\" + filename, arr, fmt='%.2lf', delimiter=\",\")"
   ]
  },
  {
   "cell_type": "code",
   "execution_count": 0,
   "metadata": {
    "colab": {
     "base_uri": "https://localhost:8080/",
     "height": 131
    },
    "colab_type": "code",
    "executionInfo": {
     "elapsed": 4637,
     "status": "ok",
     "timestamp": 1568695652899,
     "user": {
      "displayName": "Haekyu Park",
      "photoUrl": "https://lh3.googleusercontent.com/a-/AAuE7mDjQVoSU1OuAmy6Iub-qidtMODHoFquLNkUJOzQ=s64",
      "userId": "14844797413318098296"
     },
     "user_tz": 240
    },
    "id": "DuLGd0bKFoSe",
    "outputId": "19aecedf-84be-4f93-8458-4c9cd3882ebc"
   },
   "outputs": [
    {
     "name": "stdout",
     "output_type": "stream",
     "text": [
      "-rw-r--r-- 1 root root 479K Sep 17 04:47 sample_data/data0.csv\n",
      "-rw-r--r-- 1 root root 609K Sep 17 04:47 sample_data/data1.csv\n",
      "-rw-r--r-- 1 root root 1.2M Sep 17 04:47 sample_data/data2.csv\n",
      "-rw-r--r-- 1 root root 1.5M Sep 17 04:47 sample_data/data3.csv\n",
      "-rw-r--r-- 1 root root 2.0M Sep 17 04:47 sample_data/data4.csv\n"
     ]
    }
   ],
   "source": [
    "!ls -alh sample_data/data*.csv"
   ]
  },
  {
   "cell_type": "markdown",
   "metadata": {
    "colab_type": "text",
    "id": "vx9JVXY2Ivdb"
   },
   "source": [
    "## Now all got set up! You can do your homework now!"
   ]
  },
  {
   "cell_type": "code",
   "execution_count": 0,
   "metadata": {
    "colab": {},
    "colab_type": "code",
    "id": "evSjCKMnLpOb"
   },
   "outputs": [],
   "source": []
  }
 ],
 "metadata": {
  "accelerator": "GPU",
  "colab": {
   "collapsed_sections": [],
   "name": "hw3-bonus-nvidia-skeleton.ipynb",
   "provenance": []
  },
  "kernelspec": {
   "display_name": "Python 3",
   "language": "python",
   "name": "python3"
  },
  "language_info": {
   "codemirror_mode": {
    "name": "ipython",
    "version": 3
   },
   "file_extension": ".py",
   "mimetype": "text/x-python",
   "name": "python",
   "nbconvert_exporter": "python",
   "pygments_lexer": "ipython3",
   "version": "3.7.4"
  }
 },
 "nbformat": 4,
 "nbformat_minor": 1
}
