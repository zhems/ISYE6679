{
 "cells": [
  {
   "cell_type": "markdown",
   "metadata": {},
   "source": [
    "# Q2 (b): Dantzig-Wolfe"
   ]
  },
  {
   "cell_type": "code",
   "execution_count": 186,
   "metadata": {},
   "outputs": [],
   "source": [
    "import numpy as np\n",
    "from numpy import random\n",
    "from gurobipy import *"
   ]
  },
  {
   "cell_type": "code",
   "execution_count": 187,
   "metadata": {
    "scrolled": true
   },
   "outputs": [
    {
     "name": "stdout",
     "output_type": "stream",
     "text": [
      "Changed value of parameter TimeLimit to 900.0\n",
      "   Prev: 1e+100  Min: 0.0  Max: 1e+100  Default: 1e+100\n",
      "Changed value of parameter DualReductions to 0\n",
      "   Prev: 1  Min: 0  Max: 1  Default: 1\n",
      "Optimize a model with 4 rows, 1 columns and 4 nonzeros\n",
      "Coefficient statistics:\n",
      "  Matrix range     [1e+00, 1e+00]\n",
      "  Objective range  [8e+01, 8e+01]\n",
      "  Bounds range     [0e+00, 0e+00]\n",
      "  RHS range        [1e+00, 1e+00]\n",
      "Presolve removed 4 rows and 1 columns\n",
      "Presolve time: 0.00s\n",
      "Presolve: All rows and columns removed\n",
      "Iteration    Objective       Primal Inf.    Dual Inf.      Time\n",
      "       0    7.5000000e+01   0.000000e+00   0.000000e+00      0s\n",
      "\n",
      "Solved in 0 iterations and 0.01 seconds\n",
      "Optimal objective  7.500000000e+01\n"
     ]
    }
   ],
   "source": [
    "# ITERATION 1\n",
    "# Solving the restricted master problem\n",
    "RMP = Model('RMP')\n",
    "c = np.array([10,1,1,1,10,1,1,1,10,15,15,15])\n",
    "b = np.array([1,1,1])\n",
    "A = np.array([[1,0,0,1,0,0,1,0,0,0,0,0],\n",
    "             [0,1,0,0,1,0,0,1,0,0,0,0],\n",
    "             [0,0,1,0,0,1,0,0,1,0,0,0]])\n",
    "\n",
    "v = []\n",
    "\n",
    "v.append(np.array([1,0,0,0,1,0,0,0,1,1,1,1]))\n",
    "# v.append(np.array([0,1,0,1,0,0,0,0,1,1,1,1]))\n",
    "# v.append(np.array([0,0,0,0,0,0,1,1,1,0,0,1]))\n",
    "# v.append(np.array([0,0,0,1,1,1,0,0,0,0,1,0]))\n",
    "# Define Variables\n",
    "alpha = {}\n",
    "\n",
    "for i in range(len(v)):\n",
    "    alpha[i] = RMP.addVar(name='alpha'+str(i))\n",
    "\n",
    "# Define Objective\n",
    "RMP.setObjective(quicksum(alpha[i]*quicksum(c[j]*v[i][j] for j in range(len(v[i]))) for i in range(len(v))))\n",
    "\n",
    "\n",
    "# Define Constraints\n",
    "Constr = {} # indicator constraints\n",
    "Constr['alpha'] = RMP.addConstr(quicksum(alpha[i] for i in alpha.keys()),GRB.EQUAL,1,name='Constr_alpha')\n",
    "for row in range(len(b)):\n",
    "    Constr[row] = RMP.addConstr(quicksum(alpha[i]*quicksum(A[row][j]*v[i][j] for j in range(len(v[i]))) for i in range(len(v))),\n",
    "                                GRB.EQUAL,1,name='Constr'+str(row))\n",
    "#     =======================================================================================\n",
    "\n",
    "\n",
    "#Add constraints and variables to model\n",
    "RMP.update()\n",
    "# Initialize Model and Solver Settings NOTE: DO NOT EDIT THE SETTINGS IN THIS BLOCK UNLESS OTHERWISE NOTED IN THE EXERCISE\n",
    "RMP.setParam('TimeLimit', 900)\n",
    "RMP.setParam('DualReductions',0)\n",
    "# ufl.setParam('NodeLimit', 10) # \n",
    "\n",
    "\n",
    "RMP.modelSense = GRB.MINIMIZE\n",
    "RMP.update()\n",
    "# Optimize Model (you should see output when running this cell)\n",
    "RMP.optimize()"
   ]
  },
  {
   "cell_type": "code",
   "execution_count": 191,
   "metadata": {
    "scrolled": true
   },
   "outputs": [
    {
     "data": {
      "text/plain": [
       "{0: <gurobi.Var alpha0 (value 1.0)>}"
      ]
     },
     "execution_count": 191,
     "metadata": {},
     "output_type": "execute_result"
    }
   ],
   "source": [
    "alpha"
   ]
  },
  {
   "cell_type": "code",
   "execution_count": 161,
   "metadata": {},
   "outputs": [
    {
     "name": "stdout",
     "output_type": "stream",
     "text": [
      "Changed value of parameter TimeLimit to 900.0\n",
      "   Prev: 1e+100  Min: 0.0  Max: 1e+100  Default: 1e+100\n",
      "Changed value of parameter DualReductions to 0\n",
      "   Prev: 1  Min: 0  Max: 1  Default: 1\n",
      "Optimize a model with 1 rows, 4 columns and 4 nonzeros\n",
      "Coefficient statistics:\n",
      "  Matrix range     [1e+00, 1e+00]\n",
      "  Objective range  [1e+00, 1e+00]\n",
      "  Bounds range     [0e+00, 0e+00]\n",
      "  RHS range        [8e+01, 8e+01]\n",
      "Presolve time: 0.00s\n",
      "Presolved: 1 rows, 4 columns, 4 nonzeros\n",
      "\n",
      "Iteration    Objective       Primal Inf.    Dual Inf.      Time\n",
      "       0      handle free variables                          0s\n",
      "       1    7.5000000e+01   0.000000e+00   0.000000e+00      0s\n",
      "\n",
      "Solved in 1 iterations and 0.01 seconds\n",
      "Optimal objective  7.500000000e+01\n"
     ]
    }
   ],
   "source": [
    "# Solving the dual\n",
    "dual = Model('dual')\n",
    "\n",
    "# Define Variables\n",
    "pi = {}\n",
    "for ind_i in range(3):\n",
    "    pi[ind_i] = dual.addVar(lb=-GRB.INFINITY, name='pi'+str(ind_i))\n",
    "pi_0 = dual.addVar(lb=-GRB.INFINITY, name='pi_0')\n",
    "\n",
    "# Define Objective\n",
    "dual.setObjective(pi_0+pi[0]+pi[1]+pi[2])\n",
    "\n",
    "rhs = []\n",
    "for i in range(len(v)):\n",
    "    rhs.append(sum(c[j]*v[i][j] for j in range(len(v[i]))))\n",
    "\n",
    "# Define Constraints\n",
    "Constr = {} # indicator constraints\n",
    "\n",
    "for i in range(len(v)):\n",
    "    Constr[i] = dual.addConstr(quicksum(pi[row]*quicksum(A[row][j]*v[i][j] for j in range(len(v[i]))) for row in range(len(b)))+pi_0,\n",
    "                                '<=',rhs[i],name='Constr'+str(i))\n",
    "\n",
    "#     =======================================================================================\n",
    "\n",
    "\n",
    "#Add constraints and variables to model\n",
    "dual.update()\n",
    "# Initialize Model and Solver Settings NOTE: DO NOT EDIT THE SETTINGS IN THIS BLOCK UNLESS OTHERWISE NOTED IN THE EXERCISE\n",
    "dual.setParam('TimeLimit', 900)\n",
    "dual.setParam('DualReductions',0)\n",
    "# ufl.setParam('NodeLimit', 10) # \n",
    "\n",
    "\n",
    "dual.modelSense = GRB.MAXIMIZE\n",
    "dual.update()\n",
    "# Optimize Model (you should see output when running this cell)\n",
    "dual.optimize()"
   ]
  },
  {
   "cell_type": "code",
   "execution_count": 162,
   "metadata": {},
   "outputs": [
    {
     "data": {
      "text/plain": [
       "{0: <gurobi.Var pi0 (value 75.0)>,\n",
       " 1: <gurobi.Var pi1 (value 0.0)>,\n",
       " 2: <gurobi.Var pi2 (value 0.0)>}"
      ]
     },
     "execution_count": 162,
     "metadata": {},
     "output_type": "execute_result"
    }
   ],
   "source": [
    "pi"
   ]
  },
  {
   "cell_type": "code",
   "execution_count": 163,
   "metadata": {},
   "outputs": [
    {
     "data": {
      "text/plain": [
       "<gurobi.Var pi_0 (value 0.0)>"
      ]
     },
     "execution_count": 163,
     "metadata": {},
     "output_type": "execute_result"
    }
   ],
   "source": [
    "pi_0"
   ]
  },
  {
   "cell_type": "code",
   "execution_count": 164,
   "metadata": {},
   "outputs": [
    {
     "data": {
      "text/plain": [
       "array([75.,  0.,  0.])"
      ]
     },
     "execution_count": 164,
     "metadata": {},
     "output_type": "execute_result"
    }
   ],
   "source": [
    "pis = np.array([pi[0].X,pi[1].X,pi[2].X])\n",
    "pis"
   ]
  },
  {
   "cell_type": "code",
   "execution_count": 165,
   "metadata": {},
   "outputs": [
    {
     "data": {
      "text/plain": [
       "array([10,  1,  1,  1, 10,  1,  1,  1, 10, 15, 15, 15])"
      ]
     },
     "execution_count": 165,
     "metadata": {},
     "output_type": "execute_result"
    }
   ],
   "source": [
    "c"
   ]
  },
  {
   "cell_type": "code",
   "execution_count": 166,
   "metadata": {},
   "outputs": [
    {
     "data": {
      "text/plain": [
       "array([[1, 0, 0, 1, 0, 0, 1, 0, 0, 0, 0, 0],\n",
       "       [0, 1, 0, 0, 1, 0, 0, 1, 0, 0, 0, 0],\n",
       "       [0, 0, 1, 0, 0, 1, 0, 0, 1, 0, 0, 0]])"
      ]
     },
     "execution_count": 166,
     "metadata": {},
     "output_type": "execute_result"
    }
   ],
   "source": [
    "A"
   ]
  },
  {
   "cell_type": "code",
   "execution_count": 167,
   "metadata": {},
   "outputs": [
    {
     "data": {
      "text/plain": [
       "array([-65.,   1.,   1., -74.,  10.,   1., -74.,   1.,  10.,  15.,  15.,\n",
       "        15.])"
      ]
     },
     "execution_count": 167,
     "metadata": {},
     "output_type": "execute_result"
    }
   ],
   "source": [
    "c-np.matmul(pis,A)"
   ]
  },
  {
   "cell_type": "code",
   "execution_count": 168,
   "metadata": {},
   "outputs": [
    {
     "name": "stdout",
     "output_type": "stream",
     "text": [
      "[0 0 0 0 0 0 0 0 0 0 0 0]\n",
      "[0 0 0 0 0 0 1 0 0 0 0 1]\n",
      "[0 0 0 1 0 0 0 0 0 0 1 0]\n",
      "[0 0 0 1 0 0 1 0 0 0 1 1]\n",
      "[1 0 0 0 0 0 0 0 0 1 0 0]\n",
      "[1 0 0 0 0 0 1 0 0 1 0 1]\n",
      "[1 0 0 1 0 0 0 0 0 1 1 0]\n",
      "[1 0 0 1 0 0 1 0 0 1 1 1]\n"
     ]
    }
   ],
   "source": [
    "a = c-np.matmul(pis,A)\n",
    "b = np.where(a<0)[0]\n",
    "k = [np.power(2,len(b))/2]\n",
    "while k[-1] > 1:\n",
    "    k.append(k[-1]/2)\n",
    "for i in range(np.power(2,len(b))):\n",
    "    d = np.array([0,0,0,0,0,0,0,0,0,0,0,0])\n",
    "    for j in range(len(b)):\n",
    "        if np.floor(i/k[j]) % 2 == 1:\n",
    "            d[b[j]] = 1\n",
    "    for j in range(3): \n",
    "        if d[j]==1: # if \n",
    "            d[9]=1\n",
    "    for j in range(3,6): \n",
    "        if d[j]==1: # if \n",
    "            d[10]=1\n",
    "    for j in range(6,9): \n",
    "        if d[j]==1: # if \n",
    "            d[11]=1\n",
    "    print(d)\n",
    "    v.append(d)"
   ]
  },
  {
   "cell_type": "code",
   "execution_count": 169,
   "metadata": {
    "scrolled": true
   },
   "outputs": [
    {
     "name": "stdout",
     "output_type": "stream",
     "text": [
      "Changed value of parameter TimeLimit to 900.0\n",
      "   Prev: 1e+100  Min: 0.0  Max: 1e+100  Default: 1e+100\n",
      "Changed value of parameter DualReductions to 0\n",
      "   Prev: 1  Min: 0  Max: 1  Default: 1\n",
      "Optimize a model with 4 rows, 9 columns and 19 nonzeros\n",
      "Coefficient statistics:\n",
      "  Matrix range     [1e+00, 3e+00]\n",
      "  Objective range  [2e+01, 8e+01]\n",
      "  Bounds range     [0e+00, 0e+00]\n",
      "  RHS range        [1e+00, 1e+00]\n",
      "Presolve removed 4 rows and 9 columns\n",
      "Presolve time: 0.00s\n",
      "Presolve: All rows and columns removed\n",
      "Iteration    Objective       Primal Inf.    Dual Inf.      Time\n",
      "       0    7.5000000e+01   0.000000e+00   0.000000e+00      0s\n",
      "\n",
      "Solved in 0 iterations and 0.01 seconds\n",
      "Optimal objective  7.500000000e+01\n"
     ]
    }
   ],
   "source": [
    "# ITERATION 2\n",
    "# Solving the restricted master problem\n",
    "RMP = Model('RMP')\n",
    "c = np.array([10,1,1,1,10,1,1,1,10,15,15,15])\n",
    "b = np.array([1,1,1])\n",
    "A = np.array([[1,0,0,1,0,0,1,0,0,0,0,0],\n",
    "             [0,1,0,0,1,0,0,1,0,0,0,0],\n",
    "             [0,0,1,0,0,1,0,0,1,0,0,0]])\n",
    "\n",
    "# Define Variables\n",
    "alpha = {}\n",
    "\n",
    "for i in range(len(v)):\n",
    "    alpha[i] = RMP.addVar(name='alpha'+str(i))\n",
    "\n",
    "# Define Objective\n",
    "RMP.setObjective(quicksum(alpha[i]*quicksum(c[j]*v[i][j] for j in range(len(v[i]))) for i in range(len(v))))\n",
    "\n",
    "\n",
    "# Define Constraints\n",
    "Constr = {} # indicator constraints\n",
    "Constr['alpha'] = RMP.addConstr(quicksum(alpha[i] for i in alpha.keys()),GRB.EQUAL,1,name='Constr_alpha')\n",
    "for row in range(len(b)):\n",
    "    Constr[row] = RMP.addConstr(quicksum(alpha[i]*quicksum(A[row][j]*v[i][j] for j in range(len(v[i]))) for i in range(len(v))),\n",
    "                                GRB.EQUAL,1,name='Constr'+str(row))\n",
    "#     =======================================================================================\n",
    "\n",
    "\n",
    "#Add constraints and variables to model\n",
    "RMP.update()\n",
    "# Initialize Model and Solver Settings NOTE: DO NOT EDIT THE SETTINGS IN THIS BLOCK UNLESS OTHERWISE NOTED IN THE EXERCISE\n",
    "RMP.setParam('TimeLimit', 900)\n",
    "RMP.setParam('DualReductions',0)\n",
    "# ufl.setParam('NodeLimit', 10) # \n",
    "\n",
    "\n",
    "RMP.modelSense = GRB.MINIMIZE\n",
    "RMP.update()\n",
    "# Optimize Model (you should see output when running this cell)\n",
    "RMP.optimize()"
   ]
  },
  {
   "cell_type": "code",
   "execution_count": 170,
   "metadata": {
    "scrolled": true
   },
   "outputs": [
    {
     "data": {
      "text/plain": [
       "{0: <gurobi.Var alpha0 (value 1.0)>,\n",
       " 1: <gurobi.Var alpha1 (value 0.0)>,\n",
       " 2: <gurobi.Var alpha2 (value 0.0)>,\n",
       " 3: <gurobi.Var alpha3 (value 0.0)>,\n",
       " 4: <gurobi.Var alpha4 (value 0.0)>,\n",
       " 5: <gurobi.Var alpha5 (value 0.0)>,\n",
       " 6: <gurobi.Var alpha6 (value 0.0)>,\n",
       " 7: <gurobi.Var alpha7 (value 0.0)>,\n",
       " 8: <gurobi.Var alpha8 (value 0.0)>}"
      ]
     },
     "execution_count": 170,
     "metadata": {},
     "output_type": "execute_result"
    }
   ],
   "source": [
    "alpha"
   ]
  },
  {
   "cell_type": "code",
   "execution_count": 171,
   "metadata": {},
   "outputs": [
    {
     "name": "stdout",
     "output_type": "stream",
     "text": [
      "Changed value of parameter TimeLimit to 900.0\n",
      "   Prev: 1e+100  Min: 0.0  Max: 1e+100  Default: 1e+100\n",
      "Changed value of parameter DualReductions to 0\n",
      "   Prev: 1  Min: 0  Max: 1  Default: 1\n",
      "Optimize a model with 9 rows, 4 columns and 19 nonzeros\n",
      "Coefficient statistics:\n",
      "  Matrix range     [1e+00, 3e+00]\n",
      "  Objective range  [1e+00, 1e+00]\n",
      "  Bounds range     [0e+00, 0e+00]\n",
      "  RHS range        [2e+01, 8e+01]\n",
      "Presolve removed 5 rows and 0 columns\n",
      "Presolve time: 0.00s\n",
      "Presolved: 4 rows, 4 columns, 10 nonzeros\n",
      "\n",
      "Iteration    Objective       Primal Inf.    Dual Inf.      Time\n",
      "       0      handle free variables                          0s\n",
      "       2    7.5000000e+01   0.000000e+00   0.000000e+00      0s\n",
      "\n",
      "Solved in 2 iterations and 0.01 seconds\n",
      "Optimal objective  7.500000000e+01\n"
     ]
    }
   ],
   "source": [
    "# Solving the dual\n",
    "dual = Model('dual')\n",
    "\n",
    "# Define Variables\n",
    "pi = {}\n",
    "for ind_i in range(3):\n",
    "    pi[ind_i] = dual.addVar(lb=-GRB.INFINITY, name='pi'+str(ind_i))\n",
    "pi_0 = dual.addVar(lb=-GRB.INFINITY, name='pi_0')\n",
    "\n",
    "# Define Objective\n",
    "dual.setObjective(pi_0+pi[0]+pi[1]+pi[2])\n",
    "\n",
    "rhs = []\n",
    "for i in range(len(v)):\n",
    "    rhs.append(sum(c[j]*v[i][j] for j in range(len(v[i]))))\n",
    "\n",
    "# Define Constraints\n",
    "Constr = {} # indicator constraints\n",
    "\n",
    "for i in range(len(v)):\n",
    "    Constr[i] = dual.addConstr(quicksum(pi[row]*quicksum(A[row][j]*v[i][j] for j in range(len(v[i]))) for row in range(len(b)))+pi_0,\n",
    "                                '<=',rhs[i],name='Constr'+str(i))\n",
    "\n",
    "#     =======================================================================================\n",
    "\n",
    "\n",
    "#Add constraints and variables to model\n",
    "dual.update()\n",
    "# Initialize Model and Solver Settings NOTE: DO NOT EDIT THE SETTINGS IN THIS BLOCK UNLESS OTHERWISE NOTED IN THE EXERCISE\n",
    "dual.setParam('TimeLimit', 900)\n",
    "dual.setParam('DualReductions',0)\n",
    "# ufl.setParam('NodeLimit', 10) # \n",
    "\n",
    "\n",
    "dual.modelSense = GRB.MAXIMIZE\n",
    "dual.update()\n",
    "# Optimize Model (you should see output when running this cell)\n",
    "dual.optimize()"
   ]
  },
  {
   "cell_type": "code",
   "execution_count": 172,
   "metadata": {},
   "outputs": [
    {
     "data": {
      "text/plain": [
       "{0: <gurobi.Var pi0 (value 16.0)>,\n",
       " 1: <gurobi.Var pi1 (value 59.0)>,\n",
       " 2: <gurobi.Var pi2 (value 0.0)>}"
      ]
     },
     "execution_count": 172,
     "metadata": {},
     "output_type": "execute_result"
    }
   ],
   "source": [
    "pi"
   ]
  },
  {
   "cell_type": "code",
   "execution_count": 173,
   "metadata": {},
   "outputs": [
    {
     "data": {
      "text/plain": [
       "<gurobi.Var pi_0 (value 0.0)>"
      ]
     },
     "execution_count": 173,
     "metadata": {},
     "output_type": "execute_result"
    }
   ],
   "source": [
    "pi_0"
   ]
  },
  {
   "cell_type": "code",
   "execution_count": 174,
   "metadata": {},
   "outputs": [
    {
     "data": {
      "text/plain": [
       "array([-65.,   1.,   1., -74.,  10.,   1., -74.,   1.,  10.,  15.,  15.,\n",
       "        15.])"
      ]
     },
     "execution_count": 174,
     "metadata": {},
     "output_type": "execute_result"
    }
   ],
   "source": [
    "c-np.matmul(pis,A)"
   ]
  },
  {
   "cell_type": "code",
   "execution_count": 175,
   "metadata": {},
   "outputs": [
    {
     "name": "stdout",
     "output_type": "stream",
     "text": [
      "[0 0 0 0 0 0 0 0 0 0 0 0]\n",
      "[0 0 0 0 0 0 1 0 0 0 0 1]\n",
      "[0 0 0 1 0 0 0 0 0 0 1 0]\n",
      "[0 0 0 1 0 0 1 0 0 0 1 1]\n",
      "[1 0 0 0 0 0 0 0 0 1 0 0]\n",
      "[1 0 0 0 0 0 1 0 0 1 0 1]\n",
      "[1 0 0 1 0 0 0 0 0 1 1 0]\n",
      "[1 0 0 1 0 0 1 0 0 1 1 1]\n"
     ]
    }
   ],
   "source": [
    "a = c-np.matmul(pis,A)\n",
    "b = np.where(a<0)[0]\n",
    "k = [np.power(2,len(b))/2]\n",
    "while k[-1] > 1:\n",
    "    k.append(k[-1]/2)\n",
    "for i in range(np.power(2,len(b))):\n",
    "    d = np.array([0,0,0,0,0,0,0,0,0,0,0,0])\n",
    "    for j in range(len(b)):\n",
    "        if np.floor(i/k[j]) % 2 == 1:\n",
    "            d[b[j]] = 1\n",
    "    for j in range(3): \n",
    "        if d[j]==1: # if \n",
    "            d[9]=1\n",
    "    for j in range(3,6): \n",
    "        if d[j]==1: # if \n",
    "            d[10]=1\n",
    "    for j in range(6,9): \n",
    "        if d[j]==1: # if \n",
    "            d[11]=1\n",
    "    print(d)\n",
    "    v.append(d)"
   ]
  },
  {
   "cell_type": "code",
   "execution_count": 184,
   "metadata": {
    "scrolled": true
   },
   "outputs": [
    {
     "name": "stdout",
     "output_type": "stream",
     "text": [
      "Changed value of parameter TimeLimit to 900.0\n",
      "   Prev: 1e+100  Min: 0.0  Max: 1e+100  Default: 1e+100\n",
      "Changed value of parameter DualReductions to 0\n",
      "   Prev: 1  Min: 0  Max: 1  Default: 1\n",
      "Optimize a model with 4 rows, 17 columns and 34 nonzeros\n",
      "Coefficient statistics:\n",
      "  Matrix range     [1e+00, 3e+00]\n",
      "  Objective range  [2e+01, 8e+01]\n",
      "  Bounds range     [0e+00, 0e+00]\n",
      "  RHS range        [1e+00, 1e+00]\n",
      "Presolve removed 4 rows and 17 columns\n",
      "Presolve time: 0.00s\n",
      "Presolve: All rows and columns removed\n",
      "Iteration    Objective       Primal Inf.    Dual Inf.      Time\n",
      "       0    7.5000000e+01   0.000000e+00   0.000000e+00      0s\n",
      "\n",
      "Solved in 0 iterations and 0.01 seconds\n",
      "Optimal objective  7.500000000e+01\n"
     ]
    }
   ],
   "source": [
    "# ITERATION 3\n",
    "# Solving the restricted master problem\n",
    "RMP = Model('RMP')\n",
    "c = np.array([10,1,1,1,10,1,1,1,10,15,15,15])\n",
    "b = np.array([1,1,1])\n",
    "A = np.array([[1,0,0,1,0,0,1,0,0,0,0,0],\n",
    "             [0,1,0,0,1,0,0,1,0,0,0,0],\n",
    "             [0,0,1,0,0,1,0,0,1,0,0,0]])\n",
    "\n",
    "# Define Variables\n",
    "alpha = {}\n",
    "\n",
    "for i in range(len(v)):\n",
    "    alpha[i] = RMP.addVar(name='alpha'+str(i))\n",
    "\n",
    "# Define Objective\n",
    "RMP.setObjective(quicksum(alpha[i]*quicksum(c[j]*v[i][j] for j in range(len(v[i]))) for i in range(len(v))))\n",
    "\n",
    "\n",
    "# Define Constraints\n",
    "Constr = {} # indicator constraints\n",
    "Constr['alpha'] = RMP.addConstr(quicksum(alpha[i] for i in alpha.keys()),GRB.EQUAL,1,name='Constr_alpha')\n",
    "for row in range(len(b)):\n",
    "    Constr[row] = RMP.addConstr(quicksum(alpha[i]*quicksum(A[row][j]*v[i][j] for j in range(len(v[i]))) for i in range(len(v))),\n",
    "                                GRB.EQUAL,1,name='Constr'+str(row))\n",
    "#     =======================================================================================\n",
    "\n",
    "\n",
    "#Add constraints and variables to model\n",
    "RMP.update()\n",
    "# Initialize Model and Solver Settings NOTE: DO NOT EDIT THE SETTINGS IN THIS BLOCK UNLESS OTHERWISE NOTED IN THE EXERCISE\n",
    "RMP.setParam('TimeLimit', 900)\n",
    "RMP.setParam('DualReductions',0)\n",
    "# ufl.setParam('NodeLimit', 10) # \n",
    "\n",
    "\n",
    "RMP.modelSense = GRB.MINIMIZE\n",
    "RMP.update()\n",
    "# Optimize Model (you should see output when running this cell)\n",
    "RMP.optimize()"
   ]
  },
  {
   "cell_type": "code",
   "execution_count": 185,
   "metadata": {
    "scrolled": true
   },
   "outputs": [
    {
     "data": {
      "text/plain": [
       "{0: <gurobi.Var alpha0 (value 1.0)>,\n",
       " 1: <gurobi.Var alpha1 (value 0.0)>,\n",
       " 2: <gurobi.Var alpha2 (value 0.0)>,\n",
       " 3: <gurobi.Var alpha3 (value 0.0)>,\n",
       " 4: <gurobi.Var alpha4 (value 0.0)>,\n",
       " 5: <gurobi.Var alpha5 (value 0.0)>,\n",
       " 6: <gurobi.Var alpha6 (value 0.0)>,\n",
       " 7: <gurobi.Var alpha7 (value 0.0)>,\n",
       " 8: <gurobi.Var alpha8 (value 0.0)>,\n",
       " 9: <gurobi.Var alpha9 (value 0.0)>,\n",
       " 10: <gurobi.Var alpha10 (value 0.0)>,\n",
       " 11: <gurobi.Var alpha11 (value 0.0)>,\n",
       " 12: <gurobi.Var alpha12 (value 0.0)>,\n",
       " 13: <gurobi.Var alpha13 (value 0.0)>,\n",
       " 14: <gurobi.Var alpha14 (value 0.0)>,\n",
       " 15: <gurobi.Var alpha15 (value 0.0)>,\n",
       " 16: <gurobi.Var alpha16 (value 0.0)>}"
      ]
     },
     "execution_count": 185,
     "metadata": {},
     "output_type": "execute_result"
    }
   ],
   "source": [
    "alpha"
   ]
  },
  {
   "cell_type": "code",
   "execution_count": 178,
   "metadata": {},
   "outputs": [
    {
     "name": "stdout",
     "output_type": "stream",
     "text": [
      "Changed value of parameter TimeLimit to 900.0\n",
      "   Prev: 1e+100  Min: 0.0  Max: 1e+100  Default: 1e+100\n",
      "Changed value of parameter DualReductions to 0\n",
      "   Prev: 1  Min: 0  Max: 1  Default: 1\n",
      "Optimize a model with 17 rows, 4 columns and 34 nonzeros\n",
      "Coefficient statistics:\n",
      "  Matrix range     [1e+00, 3e+00]\n",
      "  Objective range  [1e+00, 1e+00]\n",
      "  Bounds range     [0e+00, 0e+00]\n",
      "  RHS range        [2e+01, 8e+01]\n",
      "Presolve removed 13 rows and 0 columns\n",
      "Presolve time: 0.01s\n",
      "Presolved: 4 rows, 4 columns, 10 nonzeros\n",
      "\n",
      "Iteration    Objective       Primal Inf.    Dual Inf.      Time\n",
      "       0      handle free variables                          0s\n",
      "       2    7.5000000e+01   0.000000e+00   0.000000e+00      0s\n",
      "\n",
      "Solved in 2 iterations and 0.01 seconds\n",
      "Optimal objective  7.500000000e+01\n"
     ]
    }
   ],
   "source": [
    "# Solving the dual\n",
    "dual = Model('dual')\n",
    "\n",
    "# Define Variables\n",
    "pi = {}\n",
    "for ind_i in range(3):\n",
    "    pi[ind_i] = dual.addVar(lb=-GRB.INFINITY, name='pi'+str(ind_i))\n",
    "pi_0 = dual.addVar(lb=-GRB.INFINITY, name='pi_0')\n",
    "\n",
    "# Define Objective\n",
    "dual.setObjective(pi_0+pi[0]+pi[1]+pi[2])\n",
    "\n",
    "rhs = []\n",
    "for i in range(len(v)):\n",
    "    rhs.append(sum(c[j]*v[i][j] for j in range(len(v[i]))))\n",
    "\n",
    "# Define Constraints\n",
    "Constr = {} # indicator constraints\n",
    "\n",
    "for i in range(len(v)):\n",
    "    Constr[i] = dual.addConstr(quicksum(pi[row]*quicksum(A[row][j]*v[i][j] for j in range(len(v[i]))) for row in range(len(b)))+pi_0,\n",
    "                                '<=',rhs[i],name='Constr'+str(i))\n",
    "\n",
    "#     =======================================================================================\n",
    "\n",
    "\n",
    "#Add constraints and variables to model\n",
    "dual.update()\n",
    "# Initialize Model and Solver Settings NOTE: DO NOT EDIT THE SETTINGS IN THIS BLOCK UNLESS OTHERWISE NOTED IN THE EXERCISE\n",
    "dual.setParam('TimeLimit', 900)\n",
    "dual.setParam('DualReductions',0)\n",
    "# ufl.setParam('NodeLimit', 10) # \n",
    "\n",
    "\n",
    "dual.modelSense = GRB.MAXIMIZE\n",
    "dual.update()\n",
    "# Optimize Model (you should see output when running this cell)\n",
    "dual.optimize()"
   ]
  },
  {
   "cell_type": "code",
   "execution_count": 179,
   "metadata": {},
   "outputs": [
    {
     "data": {
      "text/plain": [
       "{0: <gurobi.Var pi0 (value 16.0)>,\n",
       " 1: <gurobi.Var pi1 (value 59.0)>,\n",
       " 2: <gurobi.Var pi2 (value 0.0)>}"
      ]
     },
     "execution_count": 179,
     "metadata": {},
     "output_type": "execute_result"
    }
   ],
   "source": [
    "pi"
   ]
  },
  {
   "cell_type": "code",
   "execution_count": 180,
   "metadata": {},
   "outputs": [
    {
     "data": {
      "text/plain": [
       "<gurobi.Var pi_0 (value 0.0)>"
      ]
     },
     "execution_count": 180,
     "metadata": {},
     "output_type": "execute_result"
    }
   ],
   "source": [
    "pi_0"
   ]
  },
  {
   "cell_type": "code",
   "execution_count": 181,
   "metadata": {},
   "outputs": [
    {
     "data": {
      "text/plain": [
       "array([-65.,   1.,   1., -74.,  10.,   1., -74.,   1.,  10.,  15.,  15.,\n",
       "        15.])"
      ]
     },
     "execution_count": 181,
     "metadata": {},
     "output_type": "execute_result"
    }
   ],
   "source": [
    "c-np.matmul(pis,A)-pi_0.X"
   ]
  },
  {
   "cell_type": "code",
   "execution_count": 182,
   "metadata": {},
   "outputs": [
    {
     "data": {
      "text/plain": [
       "[array([1, 0, 0, 0, 1, 0, 0, 0, 1, 1, 1, 1]),\n",
       " array([0, 0, 0, 0, 0, 0, 0, 0, 0, 0, 0, 0]),\n",
       " array([0, 0, 0, 0, 0, 0, 1, 0, 0, 0, 0, 1]),\n",
       " array([0, 0, 0, 1, 0, 0, 0, 0, 0, 0, 1, 0]),\n",
       " array([0, 0, 0, 1, 0, 0, 1, 0, 0, 0, 1, 1]),\n",
       " array([1, 0, 0, 0, 0, 0, 0, 0, 0, 1, 0, 0]),\n",
       " array([1, 0, 0, 0, 0, 0, 1, 0, 0, 1, 0, 1]),\n",
       " array([1, 0, 0, 1, 0, 0, 0, 0, 0, 1, 1, 0]),\n",
       " array([1, 0, 0, 1, 0, 0, 1, 0, 0, 1, 1, 1]),\n",
       " array([0, 0, 0, 0, 0, 0, 0, 0, 0, 0, 0, 0]),\n",
       " array([0, 0, 0, 0, 0, 0, 1, 0, 0, 0, 0, 1]),\n",
       " array([0, 0, 0, 1, 0, 0, 0, 0, 0, 0, 1, 0]),\n",
       " array([0, 0, 0, 1, 0, 0, 1, 0, 0, 0, 1, 1]),\n",
       " array([1, 0, 0, 0, 0, 0, 0, 0, 0, 1, 0, 0]),\n",
       " array([1, 0, 0, 0, 0, 0, 1, 0, 0, 1, 0, 1]),\n",
       " array([1, 0, 0, 1, 0, 0, 0, 0, 0, 1, 1, 0]),\n",
       " array([1, 0, 0, 1, 0, 0, 1, 0, 0, 1, 1, 1])]"
      ]
     },
     "execution_count": 182,
     "metadata": {},
     "output_type": "execute_result"
    }
   ],
   "source": [
    "v"
   ]
  },
  {
   "cell_type": "code",
   "execution_count": 183,
   "metadata": {},
   "outputs": [
    {
     "name": "stdout",
     "output_type": "stream",
     "text": [
      "[0 0 0 0 0 0 0 0 0 0 0 0]\n",
      "[0 0 0 0 0 0 1 0 0 0 0 1]\n",
      "[0 0 0 1 0 0 0 0 0 0 1 0]\n",
      "[0 0 0 1 0 0 1 0 0 0 1 1]\n",
      "[1 0 0 0 0 0 0 0 0 1 0 0]\n",
      "[1 0 0 0 0 0 1 0 0 1 0 1]\n",
      "[1 0 0 1 0 0 0 0 0 1 1 0]\n",
      "[1 0 0 1 0 0 1 0 0 1 1 1]\n"
     ]
    }
   ],
   "source": [
    "a = c-np.matmul(pis,A)\n",
    "b = np.where(a<0)[0]\n",
    "k = [np.power(2,len(b))/2]\n",
    "while k[-1] > 1:\n",
    "    k.append(k[-1]/2)\n",
    "for i in range(np.power(2,len(b))):\n",
    "    d = np.array([0,0,0,0,0,0,0,0,0,0,0,0])\n",
    "    for j in range(len(b)):\n",
    "        if np.floor(i/k[j]) % 2 == 1:\n",
    "            d[b[j]] = 1\n",
    "    for j in range(3): \n",
    "        if d[j]==1: # if \n",
    "            d[9]=1\n",
    "    for j in range(3,6): \n",
    "        if d[j]==1: # if \n",
    "            d[10]=1\n",
    "    for j in range(6,9): \n",
    "        if d[j]==1: # if \n",
    "            d[11]=1\n",
    "    print(d)\n",
    "#     v.append(d)"
   ]
  },
  {
   "cell_type": "code",
   "execution_count": null,
   "metadata": {},
   "outputs": [],
   "source": []
  }
 ],
 "metadata": {
  "kernelspec": {
   "display_name": "Python 3",
   "language": "python",
   "name": "python3"
  },
  "language_info": {
   "codemirror_mode": {
    "name": "ipython",
    "version": 3
   },
   "file_extension": ".py",
   "mimetype": "text/x-python",
   "name": "python",
   "nbconvert_exporter": "python",
   "pygments_lexer": "ipython3",
   "version": "3.7.4"
  }
 },
 "nbformat": 4,
 "nbformat_minor": 2
}
