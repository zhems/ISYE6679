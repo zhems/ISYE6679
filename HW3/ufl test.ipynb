{
 "cells": [
  {
   "cell_type": "markdown",
   "metadata": {},
   "source": [
    "# Uncapacitated Facility Location (UFL) Notebook\n",
    "This notebook contains the code for running the UFL problem using Python and Gurobi. To properly use this notebook please ensure you can run ipython notebooks (using Jupyter or other notebook deployments, note this is not the same as running .py files), and have Gurobi solver properly installed and set up with your Python deployment. Please run each cell sequentially, to run a cell select it and click Ctrl+Enter. "
   ]
  },
  {
   "cell_type": "code",
   "execution_count": 1,
   "metadata": {},
   "outputs": [],
   "source": [
    "import numpy as np\n",
    "from numpy import random\n",
    "from gurobipy import *"
   ]
  },
  {
   "cell_type": "code",
   "execution_count": 2,
   "metadata": {},
   "outputs": [],
   "source": [
    "# Initialize Model Parameters\n",
    "\n",
    "M = 3 # number of customers\n",
    "N = 3 # number of facilities\n",
    "fixedcost = 15.0 # fixed cost of opening a facility\n",
    "Min = 0.0 # lower bound for uniform distribution\n",
    "Max = 40.0 # upper bound for uniform distibution\n",
    "\n",
    "#Set seed for random parameters\n",
    "random.seed(0)\n",
    "\n",
    "# varcost = np.floor((Max - Min) * random.rand(N,M) + Min) # variable cost\n",
    "# demand = np.floor((Max - Min) * random.rand(M) + Min) # demand of customers\n",
    "varcost = np.array([[10,1,1],[1,10,1],[1,1,10]])"
   ]
  },
  {
   "cell_type": "code",
   "execution_count": 3,
   "metadata": {},
   "outputs": [
    {
     "name": "stdout",
     "output_type": "stream",
     "text": [
      "Academic license - for non-commercial use only\n"
     ]
    }
   ],
   "source": [
    "# Initialize Model\n",
    "ufl = Model('ufl')\n",
    "\n",
    "# Define Variables\n",
    "FracMet = {} # variables corresponding to fraction of demand met\n",
    "Open = {} # indicator variables for opening facility\n",
    "\n",
    "for ind_i in range(N):\n",
    "    Open[ind_i] = ufl.addVar(lb=0.0, ub=1.0, vtype=GRB.BINARY, name='Open'+str(ind_i))\n",
    "    for ind_j in range(M):\n",
    "        FracMet[ind_i, ind_j] = ufl.addVar(lb=0.0, ub=1.0, name='FracMet'+str((ind_i, ind_j)))\n",
    "\n",
    "# Define Objective\n",
    "ufl.setObjective(quicksum(Open[ind_i]*fixedcost for ind_i in Open.keys()) \n",
    "                 + quicksum(FracMet[ind_i,ind_j]*varcost[ind_i, ind_j] for ind_i, ind_j in FracMet.keys()))\n",
    "\n",
    "# Define Constraints\n",
    "MeetDemand = {} # meet demand constraitns\n",
    "IfOpen = {} # indicator constraints\n",
    "\n",
    "for ind_j in range(M):\n",
    "    MeetDemand[ind_j] = ufl.addConstr(quicksum(FracMet[ind_i, ind_j] for ind_i in range(N)), '=', 1)\n",
    "    \n",
    "for ind_i in range(N):\n",
    "#     =========================== Aggregated Constraints=====================================\n",
    "    IfOpen[ind_i] = ufl.addConstr(quicksum(FracMet[ind_i, ind_j] for ind_j in range(M)), '<=', \n",
    "                                  M*Open[ind_i], name='IfOpen' + str(ind_i))\n",
    "# ===========================================================================================\n",
    "    \n",
    "#     ============================== Strong Formulation ====================================\n",
    "#    comment out the above constraints and uncomment these constraints to change from weak to strong formulation\n",
    "#     -------------------------------------------------------------------------------------\n",
    "#     for ind_j in range(M):\n",
    "#         IfOpen[ind_i,ind_j] = ufl.addConstr(FracMet[ind_i,ind_j], '<=', Open[ind_i], name='IfOpen'+str((ind_i,ind_j)))\n",
    "#     =======================================================================================\n",
    "\n",
    "\n",
    "#Add constraints and variables to model\n",
    "ufl.update()"
   ]
  },
  {
   "cell_type": "code",
   "execution_count": 4,
   "metadata": {},
   "outputs": [
    {
     "name": "stdout",
     "output_type": "stream",
     "text": [
      "Changed value of parameter TimeLimit to 900.0\n",
      "   Prev: 1e+100  Min: 0.0  Max: 1e+100  Default: 1e+100\n",
      "Changed value of parameter NodefileStart to 100.0\n",
      "   Prev: 1e+100  Min: 0.0  Max: 1e+100  Default: 1e+100\n",
      "Changed value of parameter Presolve to 0\n",
      "   Prev: -1  Min: -1  Max: 2  Default: -1\n",
      "Changed value of parameter Cuts to 0\n",
      "   Prev: -1  Min: -1  Max: 3  Default: -1\n",
      "Changed value of parameter Heuristics to 0.0\n",
      "   Prev: 0.05  Min: 0.0  Max: 1.0  Default: 0.05\n",
      "Changed value of parameter BranchDir to -1\n",
      "   Prev: 0  Min: -1  Max: 1  Default: 0\n",
      "Changed value of parameter VarBranch to 2\n",
      "   Prev: -1  Min: -1  Max: 3  Default: -1\n",
      "Changed value of parameter GomoryPasses to 0\n",
      "   Prev: -1  Min: -1  Max: 2000000000  Default: -1\n",
      "Changed value of parameter CliqueCuts to 0\n",
      "   Prev: -1  Min: -1  Max: 2  Default: -1\n",
      "Changed value of parameter CoverCuts to 0\n",
      "   Prev: -1  Min: -1  Max: 2  Default: -1\n"
     ]
    }
   ],
   "source": [
    "# Initialize Model and Solver Settings NOTE: DO NOT EDIT THE SETTINGS IN THIS BLOCK UNLESS OTHERWISE NOTED IN THE EXERCISE\n",
    "ufl.setParam('TimeLimit', 900)\n",
    "ufl.setParam('NodefileStart', 100)\n",
    "ufl.setParam('Presolve', 0)\n",
    "ufl.setParam('Cuts', 0)\n",
    "ufl.setParam('Heuristics', 0)\n",
    "ufl.setParam('BranchDir', -1)\n",
    "ufl.setParam('VarBranch', 2) # variable selection max infeasibility\n",
    "ufl.setParam('GomoryPasses', 0) # 0 off, -1 max\n",
    "ufl.setParam('CliqueCuts', 0) # 0 off, 2 aggressive\n",
    "ufl.setParam('CoverCuts', 0) # 0 off, 2 aggressive\n",
    "# ufl.setParam('NodeLimit', 10) # \n",
    "\n",
    "\n",
    "ufl.modelSense = GRB.MINIMIZE\n",
    "ufl.update()\n",
    "\n"
   ]
  },
  {
   "cell_type": "code",
   "execution_count": 5,
   "metadata": {},
   "outputs": [
    {
     "name": "stdout",
     "output_type": "stream",
     "text": [
      "Optimize a model with 6 rows, 12 columns and 21 nonzeros\n",
      "Variable types: 9 continuous, 3 integer (3 binary)\n",
      "Coefficient statistics:\n",
      "  Matrix range     [1e+00, 3e+00]\n",
      "  Objective range  [1e+00, 2e+01]\n",
      "  Bounds range     [1e+00, 1e+00]\n",
      "  RHS range        [1e+00, 1e+00]\n",
      "Variable types: 9 continuous, 3 integer (3 binary)\n",
      "\n",
      "Root relaxation: objective 1.800000e+01, 4 iterations, 0.00 seconds\n",
      "\n",
      "    Nodes    |    Current Node    |     Objective Bounds      |     Work\n",
      " Expl Unexpl |  Obj  Depth IntInf | Incumbent    BestBd   Gap | It/Node Time\n",
      "\n",
      "     0     0   18.00000    0    3          -   18.00000      -     -    0s\n",
      "     0     0   18.00000    0    3          -   18.00000      -     -    0s\n",
      "     0     2   18.00000    0    3          -   18.00000      -     -    0s\n",
      "*    3     4               2      27.0000000   23.00000  14.8%   0.7    0s\n",
      "\n",
      "Explored 7 nodes (8 simplex iterations) in 0.03 seconds\n",
      "Thread count was 8 (of 8 available processors)\n",
      "\n",
      "Solution count 1: 27 \n",
      "\n",
      "Optimal solution found (tolerance 1.00e-04)\n",
      "Best objective 2.700000000000e+01, best bound 2.700000000000e+01, gap 0.0000%\n"
     ]
    }
   ],
   "source": [
    "# Optimize Model (you should see output when running this cell)\n",
    "ufl.optimize()"
   ]
  },
  {
   "cell_type": "code",
   "execution_count": 6,
   "metadata": {},
   "outputs": [
    {
     "data": {
      "text/plain": [
       "{(0, 0): <gurobi.Var FracMet(0, 0) (value 0.0)>,\n",
       " (0, 1): <gurobi.Var FracMet(0, 1) (value 0.0)>,\n",
       " (0, 2): <gurobi.Var FracMet(0, 2) (value 0.0)>,\n",
       " (1, 0): <gurobi.Var FracMet(1, 0) (value 1.0)>,\n",
       " (1, 1): <gurobi.Var FracMet(1, 1) (value 1.0)>,\n",
       " (1, 2): <gurobi.Var FracMet(1, 2) (value 1.0)>,\n",
       " (2, 0): <gurobi.Var FracMet(2, 0) (value 0.0)>,\n",
       " (2, 1): <gurobi.Var FracMet(2, 1) (value 0.0)>,\n",
       " (2, 2): <gurobi.Var FracMet(2, 2) (value 0.0)>}"
      ]
     },
     "execution_count": 6,
     "metadata": {},
     "output_type": "execute_result"
    }
   ],
   "source": [
    "FracMet"
   ]
  },
  {
   "cell_type": "code",
   "execution_count": 7,
   "metadata": {},
   "outputs": [
    {
     "data": {
      "text/plain": [
       "{0: <gurobi.Var Open0 (value 0.0)>,\n",
       " 1: <gurobi.Var Open1 (value 1.0)>,\n",
       " 2: <gurobi.Var Open2 (value 0.0)>}"
      ]
     },
     "execution_count": 7,
     "metadata": {},
     "output_type": "execute_result"
    }
   ],
   "source": [
    "Open"
   ]
  },
  {
   "cell_type": "code",
   "execution_count": 8,
   "metadata": {},
   "outputs": [
    {
     "data": {
      "text/plain": [
       "1"
      ]
     },
     "execution_count": 8,
     "metadata": {},
     "output_type": "execute_result"
    }
   ],
   "source": [
    "v = {}\n",
    "v[1] = np.array([1,0,0,0,1,0,0,0,1,1,1,1])\n",
    "len(v)"
   ]
  },
  {
   "cell_type": "code",
   "execution_count": 9,
   "metadata": {},
   "outputs": [
    {
     "data": {
      "text/plain": [
       "array([1, 0, 0, 0, 1, 0, 0, 0, 1, 1, 1, 1])"
      ]
     },
     "execution_count": 9,
     "metadata": {},
     "output_type": "execute_result"
    }
   ],
   "source": [
    "v[1]"
   ]
  },
  {
   "cell_type": "code",
   "execution_count": null,
   "metadata": {},
   "outputs": [],
   "source": []
  }
 ],
 "metadata": {
  "kernelspec": {
   "display_name": "Python 3",
   "language": "python",
   "name": "python3"
  },
  "language_info": {
   "codemirror_mode": {
    "name": "ipython",
    "version": 3
   },
   "file_extension": ".py",
   "mimetype": "text/x-python",
   "name": "python",
   "nbconvert_exporter": "python",
   "pygments_lexer": "ipython3",
   "version": "3.7.4"
  }
 },
 "nbformat": 4,
 "nbformat_minor": 2
}
