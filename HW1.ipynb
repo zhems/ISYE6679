{
 "cells": [
  {
   "cell_type": "code",
   "execution_count": 1,
   "metadata": {},
   "outputs": [],
   "source": [
    "import numpy as np"
   ]
  },
  {
   "cell_type": "code",
   "execution_count": 3,
   "metadata": {},
   "outputs": [],
   "source": [
    "# User Defined Input\n",
    "\n",
    "# Example Input\n",
    "A = np.array([[-2, 1, 1, 0, 0],\n",
    "             [-1, 2, 0, 1, 0],\n",
    "             [1, 0, 0, 0, 1]])\n",
    "\n",
    "b = np.array([2, 7, 3])\n",
    "\n",
    "c = np.array([-1, -2, 0, 0, 0])\n"
   ]
  },
  {
   "cell_type": "code",
   "execution_count": 223,
   "metadata": {},
   "outputs": [],
   "source": [
    "# Q1\n",
    "A = np.array([[-2, -2,  3,  4, -2],\n",
    "              [ 1,  4,  1, -1, -1]])\n",
    "\n",
    "bT = np.array([ 0,  7])\n",
    "\n",
    "cT = np.array([-2,  7, 14,  2, -4])\n",
    "\n",
    "basicInd= np.array([0,2]) #x1 and x3 have indices 0 and 2"
   ]
  },
  {
   "cell_type": "code",
   "execution_count": 220,
   "metadata": {},
   "outputs": [
    {
     "data": {
      "text/plain": [
       "-56.0"
      ]
     },
     "execution_count": 220,
     "metadata": {},
     "output_type": "execute_result"
    }
   ],
   "source": [
    "xhat @ cbT"
   ]
  },
  {
   "cell_type": "code",
   "execution_count": 226,
   "metadata": {},
   "outputs": [],
   "source": [
    "def primal_simplex(A,bT,cT,basicInd):\n",
    "    basicSize = A.shape[0] # number of constraints, m, 2\n",
    "    nonbasicSize = A.shape[1] - basicSize #n-m, number of variables, 3\n",
    "    n = basicSize\n",
    "    m = nonbasicSize\n",
    "    no_iter = 0\n",
    "    nonbasicInd = np.delete(np.arange(n+m),basicInd)\n",
    "    \n",
    "#     x_b = np.linalg.inv(Ab) @ bT\n",
    "    \n",
    "    while True:\n",
    "        no_iter += 1\n",
    "        print(no_iter)\n",
    "        print(\"basicInd\",basicInd)\n",
    "        print(\"nonbasicInd\",nonbasicInd)\n",
    "\n",
    "        #step 1\n",
    "        cbT = np.array(cT[basicInd]) #basic variable cost coefficients\n",
    "#         print(\"cbT: \",cbT)\n",
    "        cnbT = np.array(cT[nonbasicInd]) #basic variable cost coefficients\n",
    "#         print(\"cnbT: \",cnbT)\n",
    "\n",
    "        Ab = A[:,basicInd] #basis matrix\n",
    "        An = A[:,nonbasicInd] #nonbasic variable matrix\n",
    "        \n",
    "        print(\"Ab\",Ab)\n",
    "        print(\"An\",An)\n",
    "        Abinv = np.linalg.inv(Ab)\n",
    "        \n",
    "        \n",
    "        xhat = Abinv @ bT\n",
    "        print(\"xhat\",xhat)\n",
    "        #dual variables\n",
    "        yT = cbT @ Abinv\n",
    "\n",
    "        #step 2: reduced costs\n",
    "        dN = cnbT - N.T @ yT\n",
    "\n",
    "        #step 3, current basis is optimal and can return answer\n",
    "        if(all(i>=0 for i in dN)):\n",
    "            xhat = Abinv @ bT\n",
    "            \n",
    "            return True, basicInd, no_iter, xhat, xhat @ cbT\n",
    "\n",
    "        #step 4\n",
    "        dNMinIndx = np.argmin(dN)\n",
    "        print(\"nonbasicInd\",nonbasicInd)\n",
    "        j = nonbasicInd[dNMinIndx] #entering variable\n",
    "        print(\"entering\",j)\n",
    "\n",
    "        #step 6\n",
    "        yhat = Abinv @ A[:, j]\n",
    "\n",
    "        #step 7: return unbounded solution\n",
    "        if(all(i<=0 for i in yhat)):\n",
    "            return False, None, None, None, None\n",
    "\n",
    "        #step 9: yi = yhat, xi = Binv @ bT \n",
    "        xhat = Abinv @ bT\n",
    "        theta = xhat/yhat\n",
    "        \n",
    "        \n",
    "        print(\"xhat\", xhat)\n",
    "        print(\"theta\",theta)\n",
    "        print(\"basicInd\",basicInd)\n",
    "        minimum_value = float('inf')\n",
    "        minIndex = 0\n",
    "        for i in range(len(yhat)):\n",
    "            if yhat[i]>0:\n",
    "                if xhat[i]/yhat[i]<=minimum_value:\n",
    "                    minimum_value = xhat[i]/yhat[i]\n",
    "                    minIndex = i\n",
    "        \n",
    "        theta_star = minimum_value\n",
    "        l = basicInd[minIndex]\n",
    "#         l = basicInd[np.argmin(theta)] # leaving variable\n",
    "        print(\"leaving\",l)\n",
    "\n",
    "        \n",
    "        #step 10        \n",
    "#         x_b = x_b - theta_star * yhat\n",
    "\n",
    "        basicInd = np.append(basicInd[basicInd!=l],j)\n",
    "\n",
    "        nonbasicInd = np.append(nonbasicInd[nonbasicInd!=j],l)\n",
    "\n",
    "        #step 11,12\n",
    "        Ab = A[:,basicInd] #basis matrix\n",
    "        An = A[:,nonbasicInd] #nonbasic variable matrix\n",
    "\n",
    "        #step 13"
   ]
  },
  {
   "cell_type": "code",
   "execution_count": 227,
   "metadata": {},
   "outputs": [
    {
     "name": "stdout",
     "output_type": "stream",
     "text": [
      "1\n",
      "basicInd [0 2]\n",
      "nonbasicInd [1 3 4]\n",
      "Ab [[-2  3]\n",
      " [ 1  1]]\n",
      "An [[-2  4 -2]\n",
      " [ 4 -1 -1]]\n",
      "xhat [4.2 2.8]\n",
      "nonbasicInd [1 3 4]\n",
      "entering 3\n",
      "xhat [4.2 2.8]\n",
      "theta [-3.  7.]\n",
      "basicInd [0 2]\n",
      "leaving 2\n",
      "2\n",
      "basicInd [0 3]\n",
      "nonbasicInd [1 4 2]\n",
      "Ab [[-2  4]\n",
      " [ 1 -1]]\n",
      "An [[-2 -2  3]\n",
      " [ 4 -1  1]]\n",
      "xhat [14.  7.]\n",
      "nonbasicInd [1 4 2]\n",
      "entering 4\n",
      "basis: None\n",
      "xhat: None\n",
      "answer: None\n"
     ]
    }
   ],
   "source": [
    "boolean, basisInd, no_iter, xhat, answer = primal_simplex(A,bT,cT,basis)\n",
    "print(\"basis:\",basisInd)\n",
    "print(\"xhat:\",xhat)\n",
    "print(\"answer:\",answer)"
   ]
  },
  {
   "cell_type": "code",
   "execution_count": 195,
   "metadata": {},
   "outputs": [
    {
     "data": {
      "text/plain": [
       "array([-3.,  7.])"
      ]
     },
     "execution_count": 195,
     "metadata": {},
     "output_type": "execute_result"
    }
   ],
   "source": [
    "theta"
   ]
  },
  {
   "cell_type": "code",
   "execution_count": 156,
   "metadata": {},
   "outputs": [],
   "source": [
    "basicSize = A.shape[0] # number of constraints, m, 2\n",
    "nonbasicSize = A.shape[1] - basicSize #n-m, number of variables, 3\n",
    "n = basicSize\n",
    "m = nonbasicSize\n",
    "\n",
    "\n",
    "nonbasicInd = np.delete(np.arange(n+m),basicInd)\n",
    "\n",
    "#step 1\n",
    "cbT = np.array(cT[basicInd]) #basic variable cost coefficients\n",
    "cnbT = np.array(cT[nonbasicInd]) #basic variable cost coefficients\n",
    "\n",
    "Ab = A[:,basicInd] #basis matrix\n",
    "An = A[:,nonbasicInd] #nonbasic variable matrix\n",
    "Abinv = np.linalg.inv(Ab)\n",
    "#dual variables\n",
    "yT = cbT @ Abinv\n",
    "\n",
    "#step 2: reduced costs\n",
    "dN = cnbT - N.T @ yT\n",
    "\n",
    "#step 3, current basis is optimal and can return answer\n",
    "# if(all(i>=0 for i in dN)):\n",
    "#     return True, basisInd\n",
    "\n",
    "#step 4\n",
    "dNMinIndx = np.argmin(dN)\n",
    "j = nonbasicInd[dNMinIndx] #entering variable\n",
    "\n",
    "#step 6\n",
    "yhat = Abinv @ A[:, j]\n",
    "\n",
    "#step 7: return unbounded solution\n",
    "# if(all(i<=0 for i in yhat)):\n",
    "#     return False, None, None\n",
    "\n",
    "#step 9: yi = yhat, xi = Binv @ bT \n",
    "xhat = Abinv @ bT\n",
    "theta = xhat/yhat\n",
    "l = np.argmin(theta) # leaving variable\n",
    "theta_star = min(theta)\n",
    "\n",
    "\n",
    "basicInd = np.append(basicInd[basicInd!=l],j)\n",
    "\n",
    "nonbasicInd = np.append(nonbasicInd[nonbasicInd!=j],l)\n",
    "\n",
    "#step 11,12\n",
    "Ab = A[:,basicInd] #basis matrix\n",
    "An = A[:,nonbasicInd] #nonbasic variable matrix\n",
    "\n",
    "#step 13\n",
    "\n",
    "\n"
   ]
  },
  {
   "cell_type": "code",
   "execution_count": 157,
   "metadata": {},
   "outputs": [
    {
     "data": {
      "text/plain": [
       "0"
      ]
     },
     "execution_count": 157,
     "metadata": {},
     "output_type": "execute_result"
    }
   ],
   "source": [
    "l"
   ]
  },
  {
   "cell_type": "code",
   "execution_count": 158,
   "metadata": {},
   "outputs": [
    {
     "data": {
      "text/plain": [
       "3"
      ]
     },
     "execution_count": 158,
     "metadata": {},
     "output_type": "execute_result"
    }
   ],
   "source": [
    "j"
   ]
  },
  {
   "cell_type": "code",
   "execution_count": 159,
   "metadata": {},
   "outputs": [
    {
     "data": {
      "text/plain": [
       "array([2, 3])"
      ]
     },
     "execution_count": 159,
     "metadata": {},
     "output_type": "execute_result"
    }
   ],
   "source": [
    "basicInd"
   ]
  },
  {
   "cell_type": "code",
   "execution_count": 160,
   "metadata": {},
   "outputs": [
    {
     "data": {
      "text/plain": [
       "array([1, 4, 0], dtype=int64)"
      ]
     },
     "execution_count": 160,
     "metadata": {},
     "output_type": "execute_result"
    }
   ],
   "source": [
    "nonbasicInd"
   ]
  },
  {
   "cell_type": "code",
   "execution_count": null,
   "metadata": {},
   "outputs": [],
   "source": [
    "np.delete(basicInd,)"
   ]
  },
  {
   "cell_type": "code",
   "execution_count": null,
   "metadata": {},
   "outputs": [],
   "source": []
  },
  {
   "cell_type": "code",
   "execution_count": null,
   "metadata": {},
   "outputs": [],
   "source": []
  },
  {
   "cell_type": "code",
   "execution_count": 8,
   "metadata": {},
   "outputs": [
    {
     "data": {
      "text/plain": [
       "4"
      ]
     },
     "execution_count": 8,
     "metadata": {},
     "output_type": "execute_result"
    }
   ],
   "source": [
    "np.argmin(c)"
   ]
  },
  {
   "cell_type": "code",
   "execution_count": 10,
   "metadata": {},
   "outputs": [],
   "source": [
    "np.min??"
   ]
  },
  {
   "cell_type": "code",
   "execution_count": 19,
   "metadata": {},
   "outputs": [
    {
     "data": {
      "text/plain": [
       "(array([-2, -1,  0]),\n",
       " [1, 0, 2],\n",
       " array([0, 0]),\n",
       " [3, 4],\n",
       " array([5., 3., 3.]),\n",
       " array([1., 2.]))"
      ]
     },
     "execution_count": 19,
     "metadata": {},
     "output_type": "execute_result"
    }
   ],
   "source": [
    "def Simplex(A, b, c):\n",
    "    '''Takes input vars, computs corresponding values,\n",
    "    then uses while loop to iterate until a basic optimal solution is reached.\n",
    "    RETURNS: cbT, cbIndx, cnT, cnIndx, bHat, cnHat.\n",
    "    cbT, cbIndex is final basic variable values, and indices\n",
    "    cnT, cnIndex is final nonbasic variable values and indices\n",
    "    bHat is final solution values, \n",
    "    cnHat is optimality condition'''\n",
    "    \n",
    "    #sizes of basic and nonbasic vectors\n",
    "    basicSize = A.shape[0] # number of constraints, m\n",
    "    nonbasicSize = A.shape[1] - basicSize #n-m, number of variables\n",
    "        \n",
    "    # global index tracker of variables of basic and nonbasic variables (objective)\n",
    "    # that is, index 0 corresponds with x_0, 1 with x_1 and so on.  So each index corresponds with a variable\n",
    "    cindx = [i for i in range(0, len(c))]\n",
    "    \n",
    "    #basic variable coefficients\n",
    "    cbT = np.array(c[nonbasicSize:])\n",
    "\n",
    "    #nonbasic variable coefficients\n",
    "    cnT = np.array(c[:nonbasicSize])\n",
    "    \n",
    "    # run core simplex method until reach the optimal solution\n",
    "    while True:\n",
    "        \n",
    "        # keep track of current indices of basic and non-basic variables\n",
    "        cbIndx = cindx[nonbasicSize:]\n",
    "        cnIndx = cindx[:nonbasicSize]\n",
    "        \n",
    "        # basis matrix\n",
    "        B = A[:, cbIndx]\n",
    "        Binv = np.linalg.inv(B)\n",
    "        \n",
    "        # nonbasic variable matrix\n",
    "        N = A[:, cnIndx]\n",
    "        \n",
    "        # bHat, the values of the basic variables\n",
    "        # recall that at the start the basic variables are the slack variables, and \n",
    "        # have values equal the vector b (as primary variables are set to 0 at the start)\n",
    "        bHat = Binv @ b\n",
    "        yT = cbT @ Binv\n",
    "        \n",
    "        # use to check for optimality, determine variable to enter basis\n",
    "        cnHat = cnT - (yT @ N)\n",
    "        \n",
    "        # break out of loop, returning values if all values of cnhat are above 0\n",
    "        if(all(i>=0 for i in cnHat)):\n",
    "            # use cbIndx to get index values of variables in bHat, and the corresponding index\n",
    "            # values in bHat are the final solution values for each of the corresponding variables\n",
    "            # ie value 0 in dbIndx corresponds with first variable, so whatever the index for the 0 is\n",
    "            # is the index in bHat that has the solution value for that variable.\n",
    "            return cbT, cbIndx, cnT, cnIndx, bHat, cnHat\n",
    "        \n",
    "        \n",
    "        # find indx of minimum value of cnhat, this is the variable to enter the basis\n",
    "        cnMinIndx = np.argmin(cnHat)\n",
    "        \n",
    "        # this is the index for the column of coeffs in a for the given variable\n",
    "        indx = cindx[cnMinIndx]\n",
    "\n",
    "        Ahat = Binv @ A[:, indx]\n",
    "        \n",
    "        # now we want to iterate through Ahat and bHat and pick the minimum ratios\n",
    "        # only take ratios of variables with Ahat_i values greater than 0\n",
    "        # pick smallest ratio to get variable that will become nonbasic.\n",
    "        ratios = []\n",
    "        for i in range(0, len(bHat)):\n",
    "            Aval = Ahat[i]\n",
    "            Bval = bHat[i]\n",
    "\n",
    "            # don't look at ratios with val less then or eqaul to 0, append to keep index\n",
    "            if(Aval <= 0):\n",
    "                ratios.append(10000000)\n",
    "                continue\n",
    "            ratios.append(Bval / Aval)\n",
    "\n",
    "        ratioMinIndx = np.argmin(ratios)\n",
    "\n",
    "        #switch basic and nonbasic variables using the indices.\n",
    "        cnT[cnMinIndx], cbT[ratioMinIndx] = cbT[ratioMinIndx], cnT[cnMinIndx]\n",
    "        # switch global index tracker indices\n",
    "        cindx[cnMinIndx], cindx[ratioMinIndx + nonbasicSize] = cindx[ratioMinIndx + nonbasicSize], cindx[cnMinIndx]\n",
    "        # now repeat the loop\n",
    "        \n",
    "\n",
    "Simplex(A, b, c)"
   ]
  },
  {
   "cell_type": "code",
   "execution_count": null,
   "metadata": {},
   "outputs": [],
   "source": []
  }
 ],
 "metadata": {
  "kernelspec": {
   "display_name": "Python 3",
   "language": "python",
   "name": "python3"
  },
  "language_info": {
   "codemirror_mode": {
    "name": "ipython",
    "version": 3
   },
   "file_extension": ".py",
   "mimetype": "text/x-python",
   "name": "python",
   "nbconvert_exporter": "python",
   "pygments_lexer": "ipython3",
   "version": "3.7.4"
  }
 },
 "nbformat": 4,
 "nbformat_minor": 2
}
