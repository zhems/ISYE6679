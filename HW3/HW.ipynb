{
 "cells": [
  {
   "cell_type": "code",
   "execution_count": 1,
   "metadata": {},
   "outputs": [],
   "source": [
    "import numpy as np\n",
    "import pandas as pd\n",
    "from scipy.stats import binom"
   ]
  },
  {
   "cell_type": "code",
   "execution_count": 2,
   "metadata": {},
   "outputs": [],
   "source": [
    "A = np.array([[40, 32, 3],\n",
    "             [65, 19, 8],\n",
    "             [100,10,4]])\n",
    "B = np.array([[32,8,0],\n",
    "             [64,16,0],\n",
    "             [128,0,2]])"
   ]
  },
  {
   "cell_type": "code",
   "execution_count": 4,
   "metadata": {},
   "outputs": [],
   "source": [
    "A = pd.read_clipboard()"
   ]
  },
  {
   "cell_type": "code",
   "execution_count": 9,
   "metadata": {},
   "outputs": [
    {
     "data": {
      "text/plain": [
       "(7, 7)"
      ]
     },
     "execution_count": 9,
     "metadata": {},
     "output_type": "execute_result"
    }
   ],
   "source": [
    "B = np.array(A)"
   ]
  },
  {
   "cell_type": "code",
   "execution_count": 13,
   "metadata": {},
   "outputs": [
    {
     "name": "stdout",
     "output_type": "stream",
     "text": [
      "25\n"
     ]
    }
   ],
   "source": [
    "ctr = 0\n",
    "for r in range(7):\n",
    "    curr = 0\n",
    "    for c in range(7):\n",
    "        if curr != B[r,c]:\n",
    "            ctr += 1\n",
    "            curr = B[r,c]\n",
    "print(ctr)"
   ]
  },
  {
   "cell_type": "code",
   "execution_count": 17,
   "metadata": {},
   "outputs": [],
   "source": [
    "indices = np.array([ [2, 1, 3, 4, 5, 6, 7] ,\n",
    "                    [2, 3, 1, 4, 5, 6, 7] ,\n",
    "                    [2, 5, 1, 4, 3, 6, 7] ,\n",
    "                    [2, 5, 7, 4, 3, 6, 1] ,\n",
    "                    [2, 5, 7, 4, 3, 1, 6] ,\n",
    "                    [2, 5, 7, 1, 3, 4, 6] ]) -1"
   ]
  },
  {
   "cell_type": "code",
   "execution_count": 24,
   "metadata": {},
   "outputs": [
    {
     "name": "stdout",
     "output_type": "stream",
     "text": [
      "0\n",
      "23\n",
      "1\n",
      "27\n",
      "2\n",
      "19\n",
      "3\n",
      "17\n",
      "4\n",
      "19\n",
      "5\n",
      "15\n"
     ]
    }
   ],
   "source": [
    "for i in range(6):\n",
    "    ctr = 0\n",
    "    C = B[:,indices[i]]\n",
    "    for r in range(7):\n",
    "        curr = 0\n",
    "        for c in range(7):\n",
    "            if curr != C[r,c]:\n",
    "                ctr += 1\n",
    "                curr = C[r,c]\n",
    "    print(i)\n",
    "    print(ctr)"
   ]
  },
  {
   "cell_type": "code",
   "execution_count": 29,
   "metadata": {},
   "outputs": [
    {
     "data": {
      "text/plain": [
       "0.135335"
      ]
     },
     "execution_count": 29,
     "metadata": {},
     "output_type": "execute_result"
    }
   ],
   "source": [
    "og, fin = 23, 27\n",
    "c = 32\n",
    "a=0.5\n",
    "ans = np.exp((og-fin)/2)\n",
    "round(ans,6)"
   ]
  },
  {
   "cell_type": "code",
   "execution_count": 30,
   "metadata": {},
   "outputs": [
    {
     "data": {
      "text/plain": [
       "array([[1, 1, 1, 1, 0, 1, 0],\n",
       "       [0, 1, 0, 1, 1, 0, 0],\n",
       "       [0, 0, 0, 0, 1, 0, 1],\n",
       "       [0, 0, 0, 1, 0, 0, 0],\n",
       "       [1, 0, 1, 1, 1, 1, 1],\n",
       "       [0, 0, 1, 1, 0, 1, 0],\n",
       "       [1, 1, 0, 0, 1, 0, 1]], dtype=int64)"
      ]
     },
     "execution_count": 30,
     "metadata": {},
     "output_type": "execute_result"
    }
   ],
   "source": [
    "B"
   ]
  },
  {
   "cell_type": "code",
   "execution_count": 34,
   "metadata": {},
   "outputs": [
    {
     "name": "stdout",
     "output_type": "stream",
     "text": [
      "[[1 0 0 1 1 1 1]\n",
      " [1 1 0 0 0 1 0]\n",
      " [0 1 1 0 0 0 0]\n",
      " [0 0 0 0 0 1 0]\n",
      " [0 1 1 1 1 1 1]\n",
      " [0 0 0 0 1 1 1]\n",
      " [1 1 1 1 0 0 0]]\n",
      "15\n"
     ]
    }
   ],
   "source": [
    "start = np.array([2, 5, 7, 1, 3, 4, 6])-1\n",
    "C = B[:,start]\n",
    "print(C)\n",
    "ctr = 0\n",
    "for r in range(7):\n",
    "    curr = 0\n",
    "    for c in range(7):\n",
    "        if curr != C[r,c]:\n",
    "            ctr += 1\n",
    "            curr = C[r,c]\n",
    "print(ctr)"
   ]
  },
  {
   "cell_type": "code",
   "execution_count": 36,
   "metadata": {},
   "outputs": [
    {
     "name": "stdout",
     "output_type": "stream",
     "text": [
      "0\n",
      "15\n",
      "1\n",
      "17\n",
      "2\n",
      "19\n"
     ]
    }
   ],
   "source": [
    "indices = np.array([[7, 5, 2, 1, 3, 4, 6] ,\n",
    "                    [2, 7, 5, 1, 3, 4, 6]  ,\n",
    "                    [5, 2, 7, 1, 3, 4, 6]]) -1\n",
    "for i in range(len(indices)):\n",
    "    ctr = 0\n",
    "    C = B[:,indices[i]]\n",
    "    for r in range(7):\n",
    "        curr = 0\n",
    "        for c in range(7):\n",
    "            if curr != C[r,c]:\n",
    "                ctr += 1\n",
    "                curr = C[r,c]\n",
    "    print(i)\n",
    "    print(ctr)"
   ]
  },
  {
   "cell_type": "code",
   "execution_count": 38,
   "metadata": {},
   "outputs": [
    {
     "data": {
      "text/plain": [
       "0.000335"
      ]
     },
     "execution_count": 38,
     "metadata": {},
     "output_type": "execute_result"
    }
   ],
   "source": [
    "og, fin = 15, 19\n",
    "c = 32\n",
    "a=0.5\n",
    "ans = np.exp((og-fin)/.5)\n",
    "round(ans,6)"
   ]
  },
  {
   "cell_type": "code",
   "execution_count": 42,
   "metadata": {},
   "outputs": [
    {
     "data": {
      "text/plain": [
       "10.5"
      ]
     },
     "execution_count": 42,
     "metadata": {},
     "output_type": "execute_result"
    }
   ],
   "source": [
    "pdf = np.ones(20)/20\n",
    "vals = np.arange(20)+1\n",
    "np.dot(vals,pdf)"
   ]
  },
  {
   "cell_type": "code",
   "execution_count": 4,
   "metadata": {},
   "outputs": [
    {
     "data": {
      "text/plain": [
       "0.054688"
      ]
     },
     "execution_count": 4,
     "metadata": {},
     "output_type": "execute_result"
    }
   ],
   "source": [
    "round(1-binom.cdf(7,10,0.5),6)"
   ]
  },
  {
   "cell_type": "code",
   "execution_count": 6,
   "metadata": {},
   "outputs": [
    {
     "data": {
      "text/plain": [
       "array([41, 54, 47, 49, 55, 51, 45, 54, 43, 45, 52, 52, 56, 53, 54, 48, 53,\n",
       "       55, 52, 56, 61, 56, 54, 51, 59, 47, 50, 54, 57, 52, 45, 57, 63, 52,\n",
       "       48, 53, 47, 56, 48, 50, 54, 41, 56, 55, 52, 53, 45, 60, 51, 54, 57,\n",
       "       49, 52, 47, 49, 50, 43, 56, 54, 57, 52, 55, 48, 47, 57, 55, 53, 50,\n",
       "       47, 51, 39, 45, 46, 55, 50, 48, 55, 50, 50, 53, 59, 53, 51, 52, 51,\n",
       "       43, 55, 57, 53, 51, 39, 46, 49, 47, 50, 40, 49, 55, 48, 52])"
      ]
     },
     "execution_count": 6,
     "metadata": {},
     "output_type": "execute_result"
    }
   ],
   "source": [
    "binom.rvs(100,.5,size=100)"
   ]
  },
  {
   "cell_type": "code",
   "execution_count": 10,
   "metadata": {},
   "outputs": [],
   "source": [
    "pdf = np.ones(20)\n",
    "pdf[0] = 0.5\n",
    "for i in range(1,20):\n",
    "    pdf[i] = pdf[i-1]/2\n",
    "pdf[19] = pdf[19]*2"
   ]
  },
  {
   "cell_type": "code",
   "execution_count": 11,
   "metadata": {},
   "outputs": [
    {
     "data": {
      "text/plain": [
       "array([5.00000000e-01, 2.50000000e-01, 1.25000000e-01, 6.25000000e-02,\n",
       "       3.12500000e-02, 1.56250000e-02, 7.81250000e-03, 3.90625000e-03,\n",
       "       1.95312500e-03, 9.76562500e-04, 4.88281250e-04, 2.44140625e-04,\n",
       "       1.22070312e-04, 6.10351562e-05, 3.05175781e-05, 1.52587891e-05,\n",
       "       7.62939453e-06, 3.81469727e-06, 1.90734863e-06, 1.90734863e-06])"
      ]
     },
     "execution_count": 11,
     "metadata": {},
     "output_type": "execute_result"
    }
   ],
   "source": [
    "pdf"
   ]
  },
  {
   "cell_type": "code",
   "execution_count": 12,
   "metadata": {},
   "outputs": [
    {
     "data": {
      "text/plain": [
       "1.0"
      ]
     },
     "execution_count": 12,
     "metadata": {},
     "output_type": "execute_result"
    }
   ],
   "source": [
    "\n",
    "vals = np.arange(20)+1"
   ]
  },
  {
   "cell_type": "code",
   "execution_count": 13,
   "metadata": {},
   "outputs": [
    {
     "data": {
      "text/plain": [
       "0.6875"
      ]
     },
     "execution_count": 13,
     "metadata": {},
     "output_type": "execute_result"
    }
   ],
   "source": [
    "round(.5*.5+.25*.25+.5*.25*2+2*.125*.5,6)"
   ]
  },
  {
   "cell_type": "code",
   "execution_count": null,
   "metadata": {},
   "outputs": [],
   "source": []
  }
 ],
 "metadata": {
  "kernelspec": {
   "display_name": "Python 3",
   "language": "python",
   "name": "python3"
  },
  "language_info": {
   "codemirror_mode": {
    "name": "ipython",
    "version": 3
   },
   "file_extension": ".py",
   "mimetype": "text/x-python",
   "name": "python",
   "nbconvert_exporter": "python",
   "pygments_lexer": "ipython3",
   "version": "3.7.4"
  }
 },
 "nbformat": 4,
 "nbformat_minor": 2
}
