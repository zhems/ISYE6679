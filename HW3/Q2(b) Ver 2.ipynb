{
 "cells": [
  {
   "cell_type": "markdown",
   "metadata": {},
   "source": [
    "# Q2 (b): Dantzig-Wolfe"
   ]
  },
  {
   "cell_type": "code",
   "execution_count": 2,
   "metadata": {},
   "outputs": [],
   "source": [
    "import numpy as np\n",
    "from numpy import random\n",
    "from gurobipy import *"
   ]
  },
  {
   "cell_type": "code",
   "execution_count": 3,
   "metadata": {},
   "outputs": [
    {
     "data": {
      "text/plain": [
       "2"
      ]
     },
     "execution_count": 3,
     "metadata": {},
     "output_type": "execute_result"
    }
   ],
   "source": [
    "c = np.array([6,5,3,4])\n",
    "b = np.array([7,17])\n",
    "A = np.array([[1,1,1,1],\n",
    "             [2,1,1,3]])\n",
    "len(A)"
   ]
  },
  {
   "cell_type": "code",
   "execution_count": 5,
   "metadata": {},
   "outputs": [
    {
     "name": "stdout",
     "output_type": "stream",
     "text": [
      "Changed value of parameter TimeLimit to 900.0\n",
      "   Prev: 1e+100  Min: 0.0  Max: 1e+100  Default: 1e+100\n",
      "Changed value of parameter DualReductions to 0\n",
      "   Prev: 1  Min: 0  Max: 1  Default: 1\n",
      "Optimize a model with 2 rows, 4 columns and 8 nonzeros\n",
      "Coefficient statistics:\n",
      "  Matrix range     [1e+00, 3e+00]\n",
      "  Objective range  [3e+00, 6e+00]\n",
      "  Bounds range     [0e+00, 0e+00]\n",
      "  RHS range        [7e+00, 2e+01]\n",
      "Presolve time: 0.00s\n",
      "Presolved: 2 rows, 4 columns, 8 nonzeros\n",
      "\n",
      "Iteration    Objective       Primal Inf.    Dual Inf.      Time\n",
      "       0    1.8000000e+31   5.750000e+30   1.800000e+01      0s\n",
      "       1    4.2000000e+01   0.000000e+00   0.000000e+00      0s\n",
      "\n",
      "Solved in 1 iterations and 0.01 seconds\n",
      "Optimal objective  4.200000000e+01\n"
     ]
    }
   ],
   "source": [
    "# Solving the restricted master problem\n",
    "RMP = Model('RMP')\n",
    "c = np.array([6,5,3,4])\n",
    "b = np.array([7,17])\n",
    "A = np.array([[1,1,1,1],\n",
    "             [2,1,1,3]])\n",
    "\n",
    "v = []\n",
    "\n",
    "# v.append(np.array([1,0,0,0,0,0,0,0,0,1,0,0]))\n",
    "# v.append(np.array([0,0,0,0,1,0,0,0,0,0,1,0]))\n",
    "v.append(np.array([0,0,0,0,0,0,0,0,1,0,0,1]))\n",
    "v.append(np.array([0,0,0,0,0,0,1,1,1,0,0,1]))\n",
    "# Define Variables\n",
    "X = []\n",
    "\n",
    "for i in range(4):\n",
    "    X.append(RMP.addVar(name='X'+str(i)))\n",
    "\n",
    "# Define Objective\n",
    "RMP.setObjective(quicksum(X[i]*c[i] for i in range(len(c))))\n",
    "\n",
    "\n",
    "# Define Constraints\n",
    "Constr = {} # indicator constraints\n",
    "for row in range(len(b)):\n",
    "    Constr[row] = RMP.addConstr(quicksum(A[row][i]*X[i] for i in range(len(X))),'<=',b[row],name='Constr'+str(row))\n",
    "\n",
    "\n",
    "#Add constraints and variables to model\n",
    "RMP.update()\n",
    "# Initialize Model and Solver Settings NOTE: DO NOT EDIT THE SETTINGS IN THIS BLOCK UNLESS OTHERWISE NOTED IN THE EXERCISE\n",
    "RMP.setParam('TimeLimit', 900)\n",
    "RMP.setParam('DualReductions',0)\n",
    "# ufl.setParam('NodeLimit', 10) # \n",
    "\n",
    "\n",
    "RMP.modelSense = GRB.MAXIMIZE\n",
    "RMP.update()\n",
    "# Optimize Model (you should see output when running this cell)\n",
    "RMP.optimize()"
   ]
  },
  {
   "cell_type": "code",
   "execution_count": 6,
   "metadata": {},
   "outputs": [
    {
     "data": {
      "text/plain": [
       "[<gurobi.Var X0 (value 7.0)>,\n",
       " <gurobi.Var X1 (value 0.0)>,\n",
       " <gurobi.Var X2 (value 0.0)>,\n",
       " <gurobi.Var X3 (value 0.0)>]"
      ]
     },
     "execution_count": 6,
     "metadata": {},
     "output_type": "execute_result"
    }
   ],
   "source": [
    "X"
   ]
  },
  {
   "cell_type": "code",
   "execution_count": null,
   "metadata": {},
   "outputs": [],
   "source": []
  },
  {
   "cell_type": "code",
   "execution_count": 2,
   "metadata": {
    "scrolled": true
   },
   "outputs": [
    {
     "name": "stdout",
     "output_type": "stream",
     "text": [
      "Academic license - for non-commercial use only\n",
      "Changed value of parameter TimeLimit to 900.0\n",
      "   Prev: 1e+100  Min: 0.0  Max: 1e+100  Default: 1e+100\n",
      "Changed value of parameter DualReductions to 0\n",
      "   Prev: 1  Min: 0  Max: 1  Default: 1\n",
      "Optimize a model with 2 rows, 2 columns and 4 nonzeros\n",
      "Coefficient statistics:\n",
      "  Matrix range     [1e+00, 3e+00]\n",
      "  Objective range  [3e+01, 3e+01]\n",
      "  Bounds range     [0e+00, 0e+00]\n",
      "  RHS range        [1e+00, 1e+00]\n",
      "Presolve removed 2 rows and 2 columns\n",
      "Presolve time: 0.01s\n",
      "Presolve: All rows and columns removed\n",
      "Iteration    Objective       Primal Inf.    Dual Inf.      Time\n",
      "       0    2.5000000e+01   0.000000e+00   0.000000e+00      0s\n",
      "\n",
      "Solved in 0 iterations and 0.01 seconds\n",
      "Optimal objective  2.500000000e+01\n"
     ]
    }
   ],
   "source": [
    "# ITERATION 1 -NEW\n",
    "# Solving the restricted master problem\n",
    "RMP = Model('RMP')\n",
    "c = np.array([10,1,1,1,10,1,1,1,10,15,15,15])\n",
    "b = np.array([1,1,1])\n",
    "# A = np.array([[1,1,1,0,0,0,0,0,0,0,0,0],\n",
    "#              [0,0,0,1,1,1,0,0,0,0,0,0],\n",
    "#              [0,0,0,0,0,0,1,1,1,0,0,0]])\n",
    "A = np.array([1,1,1,1,1,1,1,1,1,0,0,0])\n",
    "\n",
    "v = []\n",
    "\n",
    "# v.append(np.array([1,0,0,0,0,0,0,0,0,1,0,0]))\n",
    "# v.append(np.array([0,0,0,0,1,0,0,0,0,0,1,0]))\n",
    "v.append(np.array([0,0,0,0,0,0,0,0,1,0,0,1]))\n",
    "v.append(np.array([0,0,0,0,0,0,1,1,1,0,0,1]))\n",
    "# Define Variables\n",
    "alpha = {}\n",
    "\n",
    "for i in range(len(v)):\n",
    "    for j in range(len(b)):\n",
    "        alpha[i,j] = RMP.addVar(lb=-GRB.INFINITY,name='alpha'+str(i))\n",
    "\n",
    "# Define Objective\n",
    "RMP.setObjective(quicksum(alpha[i]*quicksum(c[j]*v[i][j] for j in range(len(v[i]))) for i in range(len(v))))\n",
    "\n",
    "\n",
    "# Define Constraints\n",
    "Constr = {} # indicator constraints\n",
    "Constr['alpha'] = RMP.addConstr(quicksum(alpha[i] for i in alpha.keys()),GRB.EQUAL,1,name='Constr_alpha')\n",
    "Constr['row'] = RMP.addConstr(quicksum(alpha[i]*quicksum(A[j]*v[i][j] for j in range(len(v[i]))) for i in range(len(v))),\n",
    "                                GRB.EQUAL,1,name='Constr'+str('row'))\n",
    "# for row in range(1):\n",
    "#     print(len(v[i]))\n",
    "#     print(A[0])\n",
    "#     print(v[0])\n",
    "#     for i in range(len(v)):\n",
    "#         print(sum(A[row][j]*v[i][j] for j in range(len(v[i]))))\n",
    "#     Constr[row] = RMP.addConstr(quicksum(alpha[i]*quicksum(A[row][j]*v[i][j] for j in range(len(v[i]))) for i in range(len(v))),\n",
    "#                                 GRB.EQUAL,1,name='Constr'+str(row))\n",
    "#     =======================================================================================\n",
    "\n",
    "\n",
    "#Add constraints and variables to model\n",
    "RMP.update()\n",
    "# Initialize Model and Solver Settings NOTE: DO NOT EDIT THE SETTINGS IN THIS BLOCK UNLESS OTHERWISE NOTED IN THE EXERCISE\n",
    "RMP.setParam('TimeLimit', 900)\n",
    "RMP.setParam('DualReductions',0)\n",
    "# ufl.setParam('NodeLimit', 10) # \n",
    "\n",
    "\n",
    "RMP.modelSense = GRB.MINIMIZE\n",
    "RMP.update()\n",
    "# Optimize Model (you should see output when running this cell)\n",
    "RMP.optimize()"
   ]
  },
  {
   "cell_type": "code",
   "execution_count": 3,
   "metadata": {
    "scrolled": true
   },
   "outputs": [
    {
     "data": {
      "text/plain": [
       "{0: <gurobi.Var alpha0 (value 1.0)>, 1: <gurobi.Var alpha1 (value 0.0)>}"
      ]
     },
     "execution_count": 3,
     "metadata": {},
     "output_type": "execute_result"
    }
   ],
   "source": [
    "alpha"
   ]
  },
  {
   "cell_type": "code",
   "execution_count": 5,
   "metadata": {},
   "outputs": [
    {
     "name": "stdout",
     "output_type": "stream",
     "text": [
      "Changed value of parameter TimeLimit to 900.0\n",
      "   Prev: 1e+100  Min: 0.0  Max: 1e+100  Default: 1e+100\n",
      "Changed value of parameter DualReductions to 0\n",
      "   Prev: 1  Min: 0  Max: 1  Default: 1\n",
      "Optimize a model with 2 rows, 2 columns and 4 nonzeros\n",
      "Coefficient statistics:\n",
      "  Matrix range     [1e+00, 3e+00]\n",
      "  Objective range  [1e+00, 1e+00]\n",
      "  Bounds range     [0e+00, 0e+00]\n",
      "  RHS range        [3e+01, 3e+01]\n",
      "Presolve time: 0.00s\n",
      "Presolved: 2 rows, 2 columns, 4 nonzeros\n",
      "\n",
      "Iteration    Objective       Primal Inf.    Dual Inf.      Time\n",
      "       0      handle free variables                          0s\n",
      "       2    2.5000000e+01   0.000000e+00   0.000000e+00      0s\n",
      "\n",
      "Solved in 2 iterations and 0.01 seconds\n",
      "Optimal objective  2.500000000e+01\n"
     ]
    }
   ],
   "source": [
    "# Solving the dual\n",
    "dual = Model('dual')\n",
    "\n",
    "# Define Variables\n",
    "pi = dual.addVar(lb=-GRB.INFINITY, name='pi')\n",
    "pi_0 = dual.addVar(lb=-GRB.INFINITY, name='pi_0')\n",
    "\n",
    "# Define Objective\n",
    "dual.setObjective(pi_0+pi)\n",
    "\n",
    "rhs = []\n",
    "for i in range(len(v)):\n",
    "    rhs.append(sum(c[j]*v[i][j] for j in range(len(v[i]))))\n",
    "\n",
    "# Define Constraints\n",
    "Constr = {} # indicator constraints\n",
    "\n",
    "for i in range(len(v)):\n",
    "    Constr[i] = dual.addConstr(pi_0+pi*quicksum(A[j]*v[i][j] for j in range(len(v[i]))),\n",
    "                                '<=',rhs[i],name='Constr'+str(i))\n",
    "\n",
    "#     =======================================================================================\n",
    "\n",
    "\n",
    "#Add constraints and variables to model\n",
    "dual.update()\n",
    "# Initialize Model and Solver Settings NOTE: DO NOT EDIT THE SETTINGS IN THIS BLOCK UNLESS OTHERWISE NOTED IN THE EXERCISE\n",
    "dual.setParam('TimeLimit', 900)\n",
    "dual.setParam('DualReductions',0)\n",
    "# ufl.setParam('NodeLimit', 10) # \n",
    "\n",
    "\n",
    "dual.modelSense = GRB.MAXIMIZE\n",
    "dual.update()\n",
    "# Optimize Model (you should see output when running this cell)\n",
    "dual.optimize()"
   ]
  },
  {
   "cell_type": "code",
   "execution_count": 6,
   "metadata": {},
   "outputs": [
    {
     "data": {
      "text/plain": [
       "<gurobi.Var pi (value 1.0)>"
      ]
     },
     "execution_count": 6,
     "metadata": {},
     "output_type": "execute_result"
    }
   ],
   "source": [
    "pi"
   ]
  },
  {
   "cell_type": "code",
   "execution_count": 7,
   "metadata": {},
   "outputs": [
    {
     "data": {
      "text/plain": [
       "<gurobi.Var pi_0 (value 24.0)>"
      ]
     },
     "execution_count": 7,
     "metadata": {},
     "output_type": "execute_result"
    }
   ],
   "source": [
    "pi_0"
   ]
  },
  {
   "cell_type": "code",
   "execution_count": 9,
   "metadata": {},
   "outputs": [
    {
     "name": "stdout",
     "output_type": "stream",
     "text": [
      "[ 9.  0.  0.  0.  9.  0.  0.  0.  9. 15. 15. 15.]\n"
     ]
    }
   ],
   "source": [
    "# Calculate c-pi*A\n",
    "print(c-pi.X*A)"
   ]
  },
  {
   "cell_type": "code",
   "execution_count": 16,
   "metadata": {},
   "outputs": [
    {
     "data": {
      "text/plain": [
       "array([ 0,  4,  8,  9, 10, 11], dtype=int64)"
      ]
     },
     "execution_count": 16,
     "metadata": {},
     "output_type": "execute_result"
    }
   ],
   "source": [
    "b"
   ]
  },
  {
   "cell_type": "code",
   "execution_count": 15,
   "metadata": {},
   "outputs": [
    {
     "name": "stdout",
     "output_type": "stream",
     "text": [
      "[0 0 0 0 0 0 0 0 0 0 0 0]\n",
      "[0 0 0 0 0 0 0 0 0 0 0 1]\n",
      "[0 0 0 0 0 0 0 0 0 0 1 0]\n",
      "[0 0 0 0 0 0 0 0 0 0 1 1]\n",
      "[0 0 0 0 0 0 0 0 0 1 0 0]\n",
      "[0 0 0 0 0 0 0 0 0 1 0 1]\n",
      "[0 0 0 0 0 0 0 0 0 1 1 0]\n",
      "[0 0 0 0 0 0 0 0 0 1 1 1]\n",
      "[0 0 0 0 0 0 0 0 1 0 0 0]\n",
      "[0 0 0 0 0 0 0 0 1 0 0 1]\n",
      "[0 0 0 0 0 0 0 0 1 0 1 0]\n",
      "[0 0 0 0 0 0 0 0 1 0 1 1]\n",
      "[0 0 0 0 0 0 0 0 1 1 0 0]\n",
      "[0 0 0 0 0 0 0 0 1 1 0 1]\n",
      "[0 0 0 0 0 0 0 0 1 1 1 0]\n",
      "[0 0 0 0 0 0 0 0 1 1 1 1]\n",
      "[0 0 0 0 1 0 0 0 0 0 0 0]\n",
      "[0 0 0 0 1 0 0 0 0 0 0 1]\n",
      "[0 0 0 0 1 0 0 0 0 0 1 0]\n",
      "[0 0 0 0 1 0 0 0 0 0 1 1]\n",
      "[0 0 0 0 1 0 0 0 0 1 0 0]\n",
      "[0 0 0 0 1 0 0 0 0 1 0 1]\n",
      "[0 0 0 0 1 0 0 0 0 1 1 0]\n",
      "[0 0 0 0 1 0 0 0 0 1 1 1]\n",
      "[0 0 0 0 1 0 0 0 1 0 0 0]\n",
      "[0 0 0 0 1 0 0 0 1 0 0 1]\n",
      "[0 0 0 0 1 0 0 0 1 0 1 0]\n",
      "[0 0 0 0 1 0 0 0 1 0 1 1]\n",
      "[0 0 0 0 1 0 0 0 1 1 0 0]\n",
      "[0 0 0 0 1 0 0 0 1 1 0 1]\n",
      "[0 0 0 0 1 0 0 0 1 1 1 0]\n",
      "[0 0 0 0 1 0 0 0 1 1 1 1]\n",
      "[1 0 0 0 0 0 0 0 0 0 0 0]\n",
      "[1 0 0 0 0 0 0 0 0 0 0 1]\n",
      "[1 0 0 0 0 0 0 0 0 0 1 0]\n",
      "[1 0 0 0 0 0 0 0 0 0 1 1]\n",
      "[1 0 0 0 0 0 0 0 0 1 0 0]\n",
      "[1 0 0 0 0 0 0 0 0 1 0 1]\n",
      "[1 0 0 0 0 0 0 0 0 1 1 0]\n",
      "[1 0 0 0 0 0 0 0 0 1 1 1]\n",
      "[1 0 0 0 0 0 0 0 1 0 0 0]\n",
      "[1 0 0 0 0 0 0 0 1 0 0 1]\n",
      "[1 0 0 0 0 0 0 0 1 0 1 0]\n",
      "[1 0 0 0 0 0 0 0 1 0 1 1]\n",
      "[1 0 0 0 0 0 0 0 1 1 0 0]\n",
      "[1 0 0 0 0 0 0 0 1 1 0 1]\n",
      "[1 0 0 0 0 0 0 0 1 1 1 0]\n",
      "[1 0 0 0 0 0 0 0 1 1 1 1]\n",
      "[1 0 0 0 1 0 0 0 0 0 0 0]\n",
      "[1 0 0 0 1 0 0 0 0 0 0 1]\n",
      "[1 0 0 0 1 0 0 0 0 0 1 0]\n",
      "[1 0 0 0 1 0 0 0 0 0 1 1]\n",
      "[1 0 0 0 1 0 0 0 0 1 0 0]\n",
      "[1 0 0 0 1 0 0 0 0 1 0 1]\n",
      "[1 0 0 0 1 0 0 0 0 1 1 0]\n",
      "[1 0 0 0 1 0 0 0 0 1 1 1]\n",
      "[1 0 0 0 1 0 0 0 1 0 0 0]\n",
      "[1 0 0 0 1 0 0 0 1 0 0 1]\n",
      "[1 0 0 0 1 0 0 0 1 0 1 0]\n",
      "[1 0 0 0 1 0 0 0 1 0 1 1]\n",
      "[1 0 0 0 1 0 0 0 1 1 0 0]\n",
      "[1 0 0 0 1 0 0 0 1 1 0 1]\n",
      "[1 0 0 0 1 0 0 0 1 1 1 0]\n",
      "[1 0 0 0 1 0 0 0 1 1 1 1]\n"
     ]
    }
   ],
   "source": [
    "a = c-pi.X*A\n",
    "b = np.where(a>0)[0]\n",
    "k = [np.power(2,len(b))/2]\n",
    "while k[-1] > 1:\n",
    "    k.append(k[-1]/2)\n",
    "for i in range(np.power(2,len(b))):\n",
    "    d = np.array([0,0,0,0,0,0,0,0,0,0,0,0])\n",
    "    for j in range(len(b)):\n",
    "        if np.floor(i/k[j]) % 2 == 1:\n",
    "            d[b[j]] = 1\n",
    "    print(d)\n",
    "#     v.append(d)"
   ]
  },
  {
   "cell_type": "code",
   "execution_count": null,
   "metadata": {},
   "outputs": [],
   "source": []
  }
 ],
 "metadata": {
  "kernelspec": {
   "display_name": "Python 3",
   "language": "python",
   "name": "python3"
  },
  "language_info": {
   "codemirror_mode": {
    "name": "ipython",
    "version": 3
   },
   "file_extension": ".py",
   "mimetype": "text/x-python",
   "name": "python",
   "nbconvert_exporter": "python",
   "pygments_lexer": "ipython3",
   "version": "3.7.4"
  }
 },
 "nbformat": 4,
 "nbformat_minor": 2
}
