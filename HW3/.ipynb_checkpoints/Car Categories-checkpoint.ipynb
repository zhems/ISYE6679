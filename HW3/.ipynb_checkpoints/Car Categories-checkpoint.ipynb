{
 "cells": [
  {
   "cell_type": "code",
   "execution_count": 96,
   "metadata": {},
   "outputs": [],
   "source": [
    "import numpy as np\n",
    "import pandas as pd\n",
    "import nltk\n",
    "from nltk.corpus import stopwords\n",
    "stop_words = set(stopwords.words('english'))\n",
    "from nltk.stem.porter import PorterStemmer"
   ]
  },
  {
   "cell_type": "code",
   "execution_count": 97,
   "metadata": {},
   "outputs": [],
   "source": [
    "pros = pd.read_csv(\"KBB_pros.csv\")"
   ]
  },
  {
   "cell_type": "code",
   "execution_count": 98,
   "metadata": {},
   "outputs": [
    {
     "data": {
      "text/html": [
       "<div>\n",
       "<style scoped>\n",
       "    .dataframe tbody tr th:only-of-type {\n",
       "        vertical-align: middle;\n",
       "    }\n",
       "\n",
       "    .dataframe tbody tr th {\n",
       "        vertical-align: top;\n",
       "    }\n",
       "\n",
       "    .dataframe thead th {\n",
       "        text-align: right;\n",
       "    }\n",
       "</style>\n",
       "<table border=\"1\" class=\"dataframe\">\n",
       "  <thead>\n",
       "    <tr style=\"text-align: right;\">\n",
       "      <th></th>\n",
       "      <th>Make</th>\n",
       "      <th>Model</th>\n",
       "      <th>Year</th>\n",
       "      <th>Pros</th>\n",
       "    </tr>\n",
       "  </thead>\n",
       "  <tbody>\n",
       "    <tr>\n",
       "      <td>0</td>\n",
       "      <td>Acura</td>\n",
       "      <td>ILX</td>\n",
       "      <td>2020</td>\n",
       "      <td>Get Kelley Blue Book® Pricing</td>\n",
       "    </tr>\n",
       "    <tr>\n",
       "      <td>1</td>\n",
       "      <td>Acura</td>\n",
       "      <td>ILX</td>\n",
       "      <td>2019</td>\n",
       "      <td>If you want a small-luxury sedan that’s big on...</td>\n",
       "    </tr>\n",
       "    <tr>\n",
       "      <td>2</td>\n",
       "      <td>Acura</td>\n",
       "      <td>ILX</td>\n",
       "      <td>2018</td>\n",
       "      <td>Acura’s unique combination of performance, lux...</td>\n",
       "    </tr>\n",
       "    <tr>\n",
       "      <td>3</td>\n",
       "      <td>Acura</td>\n",
       "      <td>ILX</td>\n",
       "      <td>2017</td>\n",
       "      <td>The 2017 Acura ILX offers up a lot of premium ...</td>\n",
       "    </tr>\n",
       "    <tr>\n",
       "      <td>4</td>\n",
       "      <td>Acura</td>\n",
       "      <td>ILX</td>\n",
       "      <td>2016</td>\n",
       "      <td>The new Acura ILX makes a good case for itself...</td>\n",
       "    </tr>\n",
       "    <tr>\n",
       "      <td>...</td>\n",
       "      <td>...</td>\n",
       "      <td>...</td>\n",
       "      <td>...</td>\n",
       "      <td>...</td>\n",
       "    </tr>\n",
       "    <tr>\n",
       "      <td>5162</td>\n",
       "      <td>Volvo</td>\n",
       "      <td>V90</td>\n",
       "      <td>2019</td>\n",
       "      <td>You want something that’s more like a car than...</td>\n",
       "    </tr>\n",
       "    <tr>\n",
       "      <td>5163</td>\n",
       "      <td>Volvo</td>\n",
       "      <td>V90</td>\n",
       "      <td>2018</td>\n",
       "      <td>If you want an alternative to a luxury SUV, th...</td>\n",
       "    </tr>\n",
       "    <tr>\n",
       "      <td>5164</td>\n",
       "      <td>Volvo</td>\n",
       "      <td>V90</td>\n",
       "      <td>2017</td>\n",
       "      <td>The new V90 Cross Country is a good place to g...</td>\n",
       "    </tr>\n",
       "    <tr>\n",
       "      <td>5165</td>\n",
       "      <td>Volvo</td>\n",
       "      <td>V90</td>\n",
       "      <td>1998</td>\n",
       "      <td>See how style, options and other factors can i...</td>\n",
       "    </tr>\n",
       "    <tr>\n",
       "      <td>5166</td>\n",
       "      <td>Volvo</td>\n",
       "      <td>V90</td>\n",
       "      <td>1997</td>\n",
       "      <td>See how style, options and other factors can i...</td>\n",
       "    </tr>\n",
       "  </tbody>\n",
       "</table>\n",
       "<p>5167 rows × 4 columns</p>\n",
       "</div>"
      ],
      "text/plain": [
       "       Make Model  Year                                               Pros\n",
       "0     Acura   ILX  2020                      Get Kelley Blue Book® Pricing\n",
       "1     Acura   ILX  2019  If you want a small-luxury sedan that’s big on...\n",
       "2     Acura   ILX  2018  Acura’s unique combination of performance, lux...\n",
       "3     Acura   ILX  2017  The 2017 Acura ILX offers up a lot of premium ...\n",
       "4     Acura   ILX  2016  The new Acura ILX makes a good case for itself...\n",
       "...     ...   ...   ...                                                ...\n",
       "5162  Volvo   V90  2019  You want something that’s more like a car than...\n",
       "5163  Volvo   V90  2018  If you want an alternative to a luxury SUV, th...\n",
       "5164  Volvo   V90  2017  The new V90 Cross Country is a good place to g...\n",
       "5165  Volvo   V90  1998  See how style, options and other factors can i...\n",
       "5166  Volvo   V90  1997  See how style, options and other factors can i...\n",
       "\n",
       "[5167 rows x 4 columns]"
      ]
     },
     "execution_count": 98,
     "metadata": {},
     "output_type": "execute_result"
    }
   ],
   "source": [
    "pros"
   ]
  },
  {
   "cell_type": "code",
   "execution_count": 99,
   "metadata": {},
   "outputs": [],
   "source": [
    "pros = pros.Pros"
   ]
  },
  {
   "cell_type": "code",
   "execution_count": 100,
   "metadata": {},
   "outputs": [
    {
     "data": {
      "text/plain": [
       "0                           Get Kelley Blue Book® Pricing\n",
       "1       If you want a small-luxury sedan that’s big on...\n",
       "2       Acura’s unique combination of performance, lux...\n",
       "3       The 2017 Acura ILX offers up a lot of premium ...\n",
       "4       The new Acura ILX makes a good case for itself...\n",
       "                              ...                        \n",
       "5162    You want something that’s more like a car than...\n",
       "5163    If you want an alternative to a luxury SUV, th...\n",
       "5164    The new V90 Cross Country is a good place to g...\n",
       "5165    See how style, options and other factors can i...\n",
       "5166    See how style, options and other factors can i...\n",
       "Name: Pros, Length: 5167, dtype: object"
      ]
     },
     "execution_count": 100,
     "metadata": {},
     "output_type": "execute_result"
    }
   ],
   "source": [
    "pros"
   ]
  },
  {
   "cell_type": "code",
   "execution_count": 101,
   "metadata": {},
   "outputs": [],
   "source": [
    "pros = pros.apply(lambda x: x.lower())\n",
    "pros = pros.apply(nltk.word_tokenize)"
   ]
  },
  {
   "cell_type": "code",
   "execution_count": 102,
   "metadata": {},
   "outputs": [
    {
     "data": {
      "text/plain": [
       "0                     [get, kelley, blue, book®, pricing]\n",
       "1       [if, you, want, a, small-luxury, sedan, that, ...\n",
       "2       [acura, ’, s, unique, combination, of, perform...\n",
       "3       [the, 2017, acura, ilx, offers, up, a, lot, of...\n",
       "4       [the, new, acura, ilx, makes, a, good, case, f...\n",
       "                              ...                        \n",
       "5162    [you, want, something, that, ’, s, more, like,...\n",
       "5163    [if, you, want, an, alternative, to, a, luxury...\n",
       "5164    [the, new, v90, cross, country, is, a, good, p...\n",
       "5165    [see, how, style, ,, options, and, other, fact...\n",
       "5166    [see, how, style, ,, options, and, other, fact...\n",
       "Name: Pros, Length: 5167, dtype: object"
      ]
     },
     "execution_count": 102,
     "metadata": {},
     "output_type": "execute_result"
    }
   ],
   "source": [
    "pros"
   ]
  },
  {
   "cell_type": "code",
   "execution_count": 103,
   "metadata": {},
   "outputs": [],
   "source": [
    "# pros = pros.apply(lambda x: [word for word in x if word.isalpha()])"
   ]
  },
  {
   "cell_type": "code",
   "execution_count": 104,
   "metadata": {},
   "outputs": [],
   "source": [
    "pros = pros.apply(lambda x: [w for w in x if not w in stop_words])"
   ]
  },
  {
   "cell_type": "code",
   "execution_count": 105,
   "metadata": {},
   "outputs": [],
   "source": [
    "porter = PorterStemmer()\n",
    "pros = pros.apply(lambda x: [porter.stem(word) for word in x])"
   ]
  },
  {
   "cell_type": "code",
   "execution_count": 106,
   "metadata": {},
   "outputs": [
    {
     "data": {
      "text/plain": [
       "0                       [get, kelley, blue, book®, price]\n",
       "1       [want, small-luxuri, sedan, ’, big, safeti, va...\n",
       "2       [acura, ’, uniqu, combin, perform, ,, luxuri, ...\n",
       "3       [2017, acura, ilx, offer, lot, premium, conten...\n",
       "4       [new, acura, ilx, make, good, case, among, you...\n",
       "                              ...                        \n",
       "5162    [want, someth, ’, like, car, lumber, suv, ,, s...\n",
       "5163    [want, altern, luxuri, suv, ,, volvo, v90, tru...\n",
       "5164    [new, v90, cross, countri, good, place, go, we...\n",
       "5165    [see, style, ,, option, factor, impact, price,...\n",
       "5166    [see, style, ,, option, factor, impact, price,...\n",
       "Name: Pros, Length: 5167, dtype: object"
      ]
     },
     "execution_count": 106,
     "metadata": {},
     "output_type": "execute_result"
    }
   ],
   "source": [
    "pros"
   ]
  },
  {
   "cell_type": "code",
   "execution_count": 107,
   "metadata": {},
   "outputs": [
    {
     "name": "stderr",
     "output_type": "stream",
     "text": [
      "C:\\Users\\ZheMin\\AppData\\Local\\Programs\\Python\\Python37\\lib\\site-packages\\ipykernel_launcher.py:1: FutureWarning: The signature of `Series.to_csv` was aligned to that of `DataFrame.to_csv`, and argument 'header' will change its default value from False to True: please pass an explicit value to suppress this warning.\n",
      "  \"\"\"Entry point for launching an IPython kernel.\n"
     ]
    }
   ],
   "source": [
    "pros.to_csv('data.csv')"
   ]
  },
  {
   "cell_type": "code",
   "execution_count": 110,
   "metadata": {},
   "outputs": [],
   "source": [
    "off_road = [\"off\",\n",
    "\"terrain\",\n",
    "\"off-road\",\n",
    "\"rug\",\n",
    "\"adventure\",\n",
    "\"remote\",\n",
    "\"des\",\n",
    "\"adventur\"\n",
    "\"rough\"]\n",
    "family=[\"famili\",\n",
    "\"third-row\",\n",
    "\"5-passenger\",\n",
    "\"6-passenger\",\n",
    "\"7-passenger\"]\n",
    "fun=[\"fun\",\n",
    "\"racing\",\n",
    "\"exot\",\n",
    "\"respons\",\n",
    "\"handl\",\n",
    "\"sport\"]"
   ]
  },
  {
   "cell_type": "code",
   "execution_count": 115,
   "metadata": {},
   "outputs": [],
   "source": [
    "pros_final = pd.read_csv(\"KBB_pros.csv\")"
   ]
  },
  {
   "cell_type": "code",
   "execution_count": 122,
   "metadata": {},
   "outputs": [],
   "source": [
    "pros_final.Pros = pros"
   ]
  },
  {
   "cell_type": "code",
   "execution_count": 123,
   "metadata": {},
   "outputs": [
    {
     "data": {
      "text/html": [
       "<div>\n",
       "<style scoped>\n",
       "    .dataframe tbody tr th:only-of-type {\n",
       "        vertical-align: middle;\n",
       "    }\n",
       "\n",
       "    .dataframe tbody tr th {\n",
       "        vertical-align: top;\n",
       "    }\n",
       "\n",
       "    .dataframe thead th {\n",
       "        text-align: right;\n",
       "    }\n",
       "</style>\n",
       "<table border=\"1\" class=\"dataframe\">\n",
       "  <thead>\n",
       "    <tr style=\"text-align: right;\">\n",
       "      <th></th>\n",
       "      <th>Make</th>\n",
       "      <th>Model</th>\n",
       "      <th>Year</th>\n",
       "      <th>Pros</th>\n",
       "    </tr>\n",
       "  </thead>\n",
       "  <tbody>\n",
       "    <tr>\n",
       "      <td>0</td>\n",
       "      <td>Acura</td>\n",
       "      <td>ILX</td>\n",
       "      <td>2020</td>\n",
       "      <td>[get, kelley, blue, book®, price]</td>\n",
       "    </tr>\n",
       "    <tr>\n",
       "      <td>1</td>\n",
       "      <td>Acura</td>\n",
       "      <td>ILX</td>\n",
       "      <td>2019</td>\n",
       "      <td>[want, small-luxuri, sedan, ’, big, safeti, va...</td>\n",
       "    </tr>\n",
       "    <tr>\n",
       "      <td>2</td>\n",
       "      <td>Acura</td>\n",
       "      <td>ILX</td>\n",
       "      <td>2018</td>\n",
       "      <td>[acura, ’, uniqu, combin, perform, ,, luxuri, ...</td>\n",
       "    </tr>\n",
       "    <tr>\n",
       "      <td>3</td>\n",
       "      <td>Acura</td>\n",
       "      <td>ILX</td>\n",
       "      <td>2017</td>\n",
       "      <td>[2017, acura, ilx, offer, lot, premium, conten...</td>\n",
       "    </tr>\n",
       "    <tr>\n",
       "      <td>4</td>\n",
       "      <td>Acura</td>\n",
       "      <td>ILX</td>\n",
       "      <td>2016</td>\n",
       "      <td>[new, acura, ilx, make, good, case, among, you...</td>\n",
       "    </tr>\n",
       "    <tr>\n",
       "      <td>...</td>\n",
       "      <td>...</td>\n",
       "      <td>...</td>\n",
       "      <td>...</td>\n",
       "      <td>...</td>\n",
       "    </tr>\n",
       "    <tr>\n",
       "      <td>5162</td>\n",
       "      <td>Volvo</td>\n",
       "      <td>V90</td>\n",
       "      <td>2019</td>\n",
       "      <td>[want, someth, ’, like, car, lumber, suv, ,, s...</td>\n",
       "    </tr>\n",
       "    <tr>\n",
       "      <td>5163</td>\n",
       "      <td>Volvo</td>\n",
       "      <td>V90</td>\n",
       "      <td>2018</td>\n",
       "      <td>[want, altern, luxuri, suv, ,, volvo, v90, tru...</td>\n",
       "    </tr>\n",
       "    <tr>\n",
       "      <td>5164</td>\n",
       "      <td>Volvo</td>\n",
       "      <td>V90</td>\n",
       "      <td>2017</td>\n",
       "      <td>[new, v90, cross, countri, good, place, go, we...</td>\n",
       "    </tr>\n",
       "    <tr>\n",
       "      <td>5165</td>\n",
       "      <td>Volvo</td>\n",
       "      <td>V90</td>\n",
       "      <td>1998</td>\n",
       "      <td>[see, style, ,, option, factor, impact, price,...</td>\n",
       "    </tr>\n",
       "    <tr>\n",
       "      <td>5166</td>\n",
       "      <td>Volvo</td>\n",
       "      <td>V90</td>\n",
       "      <td>1997</td>\n",
       "      <td>[see, style, ,, option, factor, impact, price,...</td>\n",
       "    </tr>\n",
       "  </tbody>\n",
       "</table>\n",
       "<p>5167 rows × 4 columns</p>\n",
       "</div>"
      ],
      "text/plain": [
       "       Make Model  Year                                               Pros\n",
       "0     Acura   ILX  2020                  [get, kelley, blue, book®, price]\n",
       "1     Acura   ILX  2019  [want, small-luxuri, sedan, ’, big, safeti, va...\n",
       "2     Acura   ILX  2018  [acura, ’, uniqu, combin, perform, ,, luxuri, ...\n",
       "3     Acura   ILX  2017  [2017, acura, ilx, offer, lot, premium, conten...\n",
       "4     Acura   ILX  2016  [new, acura, ilx, make, good, case, among, you...\n",
       "...     ...   ...   ...                                                ...\n",
       "5162  Volvo   V90  2019  [want, someth, ’, like, car, lumber, suv, ,, s...\n",
       "5163  Volvo   V90  2018  [want, altern, luxuri, suv, ,, volvo, v90, tru...\n",
       "5164  Volvo   V90  2017  [new, v90, cross, countri, good, place, go, we...\n",
       "5165  Volvo   V90  1998  [see, style, ,, option, factor, impact, price,...\n",
       "5166  Volvo   V90  1997  [see, style, ,, option, factor, impact, price,...\n",
       "\n",
       "[5167 rows x 4 columns]"
      ]
     },
     "execution_count": 123,
     "metadata": {},
     "output_type": "execute_result"
    }
   ],
   "source": [
    "pros_final"
   ]
  },
  {
   "cell_type": "code",
   "execution_count": 124,
   "metadata": {},
   "outputs": [],
   "source": [
    "pros_final['off_road'] = pros_final['Pros'].apply(lambda x: True if len([w for w in x if w in off_road]) > 0 else False)"
   ]
  },
  {
   "cell_type": "code",
   "execution_count": 126,
   "metadata": {},
   "outputs": [
    {
     "data": {
      "text/html": [
       "<div>\n",
       "<style scoped>\n",
       "    .dataframe tbody tr th:only-of-type {\n",
       "        vertical-align: middle;\n",
       "    }\n",
       "\n",
       "    .dataframe tbody tr th {\n",
       "        vertical-align: top;\n",
       "    }\n",
       "\n",
       "    .dataframe thead th {\n",
       "        text-align: right;\n",
       "    }\n",
       "</style>\n",
       "<table border=\"1\" class=\"dataframe\">\n",
       "  <thead>\n",
       "    <tr style=\"text-align: right;\">\n",
       "      <th></th>\n",
       "      <th>Make</th>\n",
       "      <th>Model</th>\n",
       "      <th>Year</th>\n",
       "      <th>Pros</th>\n",
       "      <th>off_road</th>\n",
       "    </tr>\n",
       "  </thead>\n",
       "  <tbody>\n",
       "    <tr>\n",
       "      <td>369</td>\n",
       "      <td>Bentley</td>\n",
       "      <td>Bentayga</td>\n",
       "      <td>2018</td>\n",
       "      <td>[money, object, ,, object, automot, desir, 201...</td>\n",
       "      <td>True</td>\n",
       "    </tr>\n",
       "    <tr>\n",
       "      <td>1007</td>\n",
       "      <td>Chevrolet</td>\n",
       "      <td>Tahoe</td>\n",
       "      <td>2016</td>\n",
       "      <td>[’, look, power, safe, full-siz, suv, ,, 2016,...</td>\n",
       "      <td>True</td>\n",
       "    </tr>\n",
       "    <tr>\n",
       "      <td>1049</td>\n",
       "      <td>Chevrolet</td>\n",
       "      <td>Colorado Crew Cab</td>\n",
       "      <td>2018</td>\n",
       "      <td>[2018, colorado, perfect, look, haul, tow, ,, ...</td>\n",
       "      <td>True</td>\n",
       "    </tr>\n",
       "    <tr>\n",
       "      <td>1050</td>\n",
       "      <td>Chevrolet</td>\n",
       "      <td>Colorado Crew Cab</td>\n",
       "      <td>2017</td>\n",
       "      <td>[2017, colorado, ideal, look, haul, tow, ,, n'...</td>\n",
       "      <td>True</td>\n",
       "    </tr>\n",
       "    <tr>\n",
       "      <td>1054</td>\n",
       "      <td>Chevrolet</td>\n",
       "      <td>Colorado Crew Cab</td>\n",
       "      <td>2011</td>\n",
       "      <td>[like, rug, ,, bold, look, full-siz, silverado...</td>\n",
       "      <td>True</td>\n",
       "    </tr>\n",
       "    <tr>\n",
       "      <td>...</td>\n",
       "      <td>...</td>\n",
       "      <td>...</td>\n",
       "      <td>...</td>\n",
       "      <td>...</td>\n",
       "      <td>...</td>\n",
       "    </tr>\n",
       "    <tr>\n",
       "      <td>4939</td>\n",
       "      <td>Toyota</td>\n",
       "      <td>Tundra Double Cab</td>\n",
       "      <td>2012</td>\n",
       "      <td>[need, tough, rug, truck, know, pamper, occup,...</td>\n",
       "      <td>True</td>\n",
       "    </tr>\n",
       "    <tr>\n",
       "      <td>5106</td>\n",
       "      <td>Volvo</td>\n",
       "      <td>S60</td>\n",
       "      <td>2018</td>\n",
       "      <td>[240, horsepow, ,, comfort, interior, emot, st...</td>\n",
       "      <td>True</td>\n",
       "    </tr>\n",
       "    <tr>\n",
       "      <td>5136</td>\n",
       "      <td>Volvo</td>\n",
       "      <td>XC60</td>\n",
       "      <td>2013</td>\n",
       "      <td>[prize, safeti, much, look, ,, versatil, power...</td>\n",
       "      <td>True</td>\n",
       "    </tr>\n",
       "    <tr>\n",
       "      <td>5137</td>\n",
       "      <td>Volvo</td>\n",
       "      <td>XC60</td>\n",
       "      <td>2012</td>\n",
       "      <td>[prize, safeti, much, look, ,, versatil, ,, po...</td>\n",
       "      <td>True</td>\n",
       "    </tr>\n",
       "    <tr>\n",
       "      <td>5138</td>\n",
       "      <td>Volvo</td>\n",
       "      <td>XC60</td>\n",
       "      <td>2011</td>\n",
       "      <td>['re, seek, midsiz, crossov, strong, emphasi, ...</td>\n",
       "      <td>True</td>\n",
       "    </tr>\n",
       "  </tbody>\n",
       "</table>\n",
       "<p>217 rows × 5 columns</p>\n",
       "</div>"
      ],
      "text/plain": [
       "           Make              Model  Year  \\\n",
       "369     Bentley           Bentayga  2018   \n",
       "1007  Chevrolet              Tahoe  2016   \n",
       "1049  Chevrolet  Colorado Crew Cab  2018   \n",
       "1050  Chevrolet  Colorado Crew Cab  2017   \n",
       "1054  Chevrolet  Colorado Crew Cab  2011   \n",
       "...         ...                ...   ...   \n",
       "4939     Toyota  Tundra Double Cab  2012   \n",
       "5106      Volvo                S60  2018   \n",
       "5136      Volvo               XC60  2013   \n",
       "5137      Volvo               XC60  2012   \n",
       "5138      Volvo               XC60  2011   \n",
       "\n",
       "                                                   Pros  off_road  \n",
       "369   [money, object, ,, object, automot, desir, 201...      True  \n",
       "1007  [’, look, power, safe, full-siz, suv, ,, 2016,...      True  \n",
       "1049  [2018, colorado, perfect, look, haul, tow, ,, ...      True  \n",
       "1050  [2017, colorado, ideal, look, haul, tow, ,, n'...      True  \n",
       "1054  [like, rug, ,, bold, look, full-siz, silverado...      True  \n",
       "...                                                 ...       ...  \n",
       "4939  [need, tough, rug, truck, know, pamper, occup,...      True  \n",
       "5106  [240, horsepow, ,, comfort, interior, emot, st...      True  \n",
       "5136  [prize, safeti, much, look, ,, versatil, power...      True  \n",
       "5137  [prize, safeti, much, look, ,, versatil, ,, po...      True  \n",
       "5138  ['re, seek, midsiz, crossov, strong, emphasi, ...      True  \n",
       "\n",
       "[217 rows x 5 columns]"
      ]
     },
     "execution_count": 126,
     "metadata": {},
     "output_type": "execute_result"
    }
   ],
   "source": [
    "pros_final[pros_final.off_road == True]\n"
   ]
  },
  {
   "cell_type": "code",
   "execution_count": 92,
   "metadata": {},
   "outputs": [
    {
     "data": {
      "text/plain": [
       "['race', 'exot', 'handl', 'respons', 'sport']"
      ]
     },
     "execution_count": 92,
     "metadata": {},
     "output_type": "execute_result"
    }
   ],
   "source": [
    "words = ['racing','exotic','handling','responsive','sports']\n",
    "words = [i.lower() for i in words]\n",
    "[porter.stem(word) for word in words]"
   ]
  },
  {
   "cell_type": "code",
   "execution_count": null,
   "metadata": {},
   "outputs": [],
   "source": []
  }
 ],
 "metadata": {
  "kernelspec": {
   "display_name": "Python 3",
   "language": "python",
   "name": "python3"
  },
  "language_info": {
   "codemirror_mode": {
    "name": "ipython",
    "version": 3
   },
   "file_extension": ".py",
   "mimetype": "text/x-python",
   "name": "python",
   "nbconvert_exporter": "python",
   "pygments_lexer": "ipython3",
   "version": "3.7.4"
  }
 },
 "nbformat": 4,
 "nbformat_minor": 2
}
