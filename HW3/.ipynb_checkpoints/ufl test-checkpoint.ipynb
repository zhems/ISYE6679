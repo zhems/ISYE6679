{
 "cells": [
  {
   "cell_type": "markdown",
   "metadata": {},
   "source": [
    "# Uncapacitated Facility Location (UFL) Notebook\n",
    "This notebook contains the code for running the UFL problem using Python and Gurobi. To properly use this notebook please ensure you can run ipython notebooks (using Jupyter or other notebook deployments, note this is not the same as running .py files), and have Gurobi solver properly installed and set up with your Python deployment. Please run each cell sequentially, to run a cell select it and click Ctrl+Enter. "
   ]
  },
  {
   "cell_type": "code",
   "execution_count": 1,
   "metadata": {},
   "outputs": [],
   "source": [
    "import numpy as np\n",
    "from numpy import random\n",
    "from gurobipy import *"
   ]
  },
  {
   "cell_type": "code",
   "execution_count": 2,
   "metadata": {},
   "outputs": [],
   "source": [
    "# Initialize Model Parameters\n",
    "\n",
    "M = 200 # number of customers\n",
    "N = 50 # number of facilities\n",
    "fixedcost = 1000.0 # fixed cost of opening a facility\n",
    "Min = 0.0 # lower bound for uniform distribution\n",
    "Max = 40.0 # upper bound for uniform distibution\n",
    "\n",
    "#Set seed for random parameters\n",
    "random.seed(0)\n",
    "\n",
    "varcost = np.floor((Max - Min) * random.rand(N,M) + Min) # variable cost\n",
    "demand = np.floor((Max - Min) * random.rand(M) + Min) # demand of customers\n"
   ]
  },
  {
   "cell_type": "code",
   "execution_count": 3,
   "metadata": {},
   "outputs": [
    {
     "name": "stdout",
     "output_type": "stream",
     "text": [
      "Academic license - for non-commercial use only\n"
     ]
    }
   ],
   "source": [
    "# Initialize Model\n",
    "ufl = Model('ufl')\n",
    "\n",
    "# Define Variables\n",
    "FracMet = {} # variables corresponding to fraction of demand met\n",
    "Open = {} # indicator variables for opening facility\n",
    "\n",
    "for ind_i in range(N):\n",
    "    Open[ind_i] = ufl.addVar(lb=0.0, ub=1.0, vtype=GRB.BINARY, name='Open'+str(ind_i))\n",
    "    for ind_j in range(M):\n",
    "        FracMet[ind_i, ind_j] = ufl.addVar(lb=0.0, ub=1.0, name='FracMet'+str((ind_i, ind_j)))\n",
    "\n",
    "# Define Objective\n",
    "ufl.setObjective(quicksum(Open[ind_i]*fixedcost for ind_i in Open.keys()) \n",
    "                 + quicksum(FracMet[ind_i,ind_j]*varcost[ind_i, ind_j]*demand[ind_j] for ind_i, ind_j in FracMet.keys()))\n",
    "\n",
    "# Define Constraints\n",
    "MeetDemand = {} # meet demand constraitns\n",
    "IfOpen = {} # indicator constraints\n",
    "\n",
    "for ind_j in range(M):\n",
    "    MeetDemand[ind_j] = ufl.addConstr(quicksum(FracMet[ind_i, ind_j] for ind_i in range(N)), '=', 1)\n",
    "    \n",
    "for ind_i in range(N):\n",
    "#     =========================== Aggregated Constraints=====================================\n",
    "    IfOpen[ind_i] = ufl.addConstr(quicksum(FracMet[ind_i, ind_j] for ind_j in range(M)), '<=', \n",
    "                                  M*Open[ind_i], name='IfOpen' + str(ind_i))\n",
    "# ===========================================================================================\n",
    "    \n",
    "#     ============================== Strong Formulation ====================================\n",
    "#    comment out the above constraints and uncomment these constraints to change from weak to strong formulation\n",
    "#     -------------------------------------------------------------------------------------\n",
    "#     for ind_j in range(M):\n",
    "#         IfOpen[ind_i,ind_j] = ufl.addConstr(FracMet[ind_i,ind_j], '<=', Open[ind_i], name='IfOpen'+str((ind_i,ind_j)))\n",
    "#     =======================================================================================\n",
    "\n",
    "\n",
    "#Add constraints and variables to model\n",
    "ufl.update()"
   ]
  },
  {
   "cell_type": "code",
   "execution_count": 4,
   "metadata": {},
   "outputs": [
    {
     "name": "stdout",
     "output_type": "stream",
     "text": [
      "Changed value of parameter TimeLimit to 900.0\n",
      "   Prev: 1e+100  Min: 0.0  Max: 1e+100  Default: 1e+100\n",
      "Changed value of parameter NodefileStart to 100.0\n",
      "   Prev: 1e+100  Min: 0.0  Max: 1e+100  Default: 1e+100\n",
      "Changed value of parameter Presolve to 0\n",
      "   Prev: -1  Min: -1  Max: 2  Default: -1\n",
      "Changed value of parameter Cuts to 0\n",
      "   Prev: -1  Min: -1  Max: 3  Default: -1\n",
      "Changed value of parameter Heuristics to 0.0\n",
      "   Prev: 0.05  Min: 0.0  Max: 1.0  Default: 0.05\n",
      "Changed value of parameter BranchDir to -1\n",
      "   Prev: 0  Min: -1  Max: 1  Default: 0\n",
      "Changed value of parameter VarBranch to 2\n",
      "   Prev: -1  Min: -1  Max: 3  Default: -1\n",
      "Changed value of parameter GomoryPasses to 0\n",
      "   Prev: -1  Min: -1  Max: 2000000000  Default: -1\n",
      "Changed value of parameter CliqueCuts to 0\n",
      "   Prev: -1  Min: -1  Max: 2  Default: -1\n",
      "Changed value of parameter CoverCuts to 0\n",
      "   Prev: -1  Min: -1  Max: 2  Default: -1\n"
     ]
    }
   ],
   "source": [
    "# Initialize Model and Solver Settings NOTE: DO NOT EDIT THE SETTINGS IN THIS BLOCK UNLESS OTHERWISE NOTED IN THE EXERCISE\n",
    "ufl.setParam('TimeLimit', 900)\n",
    "ufl.setParam('NodefileStart', 100)\n",
    "ufl.setParam('Presolve', 0)\n",
    "ufl.setParam('Cuts', 0)\n",
    "ufl.setParam('Heuristics', 0)\n",
    "ufl.setParam('BranchDir', -1)\n",
    "ufl.setParam('VarBranch', 2) # variable selection max infeasibility\n",
    "ufl.setParam('GomoryPasses', 0) # 0 off, -1 max\n",
    "ufl.setParam('CliqueCuts', 0) # 0 off, 2 aggressive\n",
    "ufl.setParam('CoverCuts', 0) # 0 off, 2 aggressive\n",
    "# ufl.setParam('NodeLimit', 10) # \n",
    "\n",
    "\n",
    "ufl.modelSense = GRB.MINIMIZE\n",
    "ufl.update()\n",
    "\n"
   ]
  },
  {
   "cell_type": "code",
   "execution_count": 5,
   "metadata": {},
   "outputs": [
    {
     "name": "stdout",
     "output_type": "stream",
     "text": [
      "Optimize a model with 250 rows, 10050 columns and 20050 nonzeros\n",
      "Variable types: 10000 continuous, 50 integer (50 binary)\n",
      "Coefficient statistics:\n",
      "  Matrix range     [1e+00, 2e+02]\n",
      "  Objective range  [1e+00, 2e+03]\n",
      "  Bounds range     [1e+00, 1e+00]\n",
      "  RHS range        [1e+00, 1e+00]\n",
      "Variable types: 10000 continuous, 50 integer (50 binary)\n",
      "\n",
      "Root relaxation: objective 2.229000e+03, 144 iterations, 0.00 seconds\n",
      "\n",
      "    Nodes    |    Current Node    |     Objective Bounds      |     Work\n",
      " Expl Unexpl |  Obj  Depth IntInf | Incumbent    BestBd   Gap | It/Node Time\n",
      "\n",
      "     0     0 2229.00000    0   48          - 2229.00000      -     -    0s\n",
      "     0     0 2229.00000    0   47          - 2229.00000      -     -    0s\n",
      "     0     2 2229.00000    0   46          - 2229.00000      -     -    0s\n",
      "*  191   191              49    78241.000000 3378.00000  95.7%  14.8    0s\n",
      "*  194   191              50    55799.000000 3378.00000  93.9%  14.5    0s\n",
      "*  203   196              50    53220.000000 3457.00000  93.5%  14.4    0s\n",
      "*  206   196              50    44483.000000 3457.00000  92.2%  14.4    0s\n",
      "*  216   197              50    39649.000000 3561.00000  91.0%  14.5    0s\n",
      "*  223   199              50    38919.000000 3710.00000  90.5%  14.5    0s\n",
      "*  225   199              50    38060.000000 3710.00000  90.3%  14.5    0s\n",
      "*  226   197              50    32842.000000 3710.00000  88.7%  14.5    0s\n",
      "*  405   353              50    31310.000000 3884.00000  87.6%  14.2    0s\n",
      "*  450   381              50    29647.000000 4183.00000  85.9%  13.6    0s\n",
      "*  553   456              50    29118.000000 4201.00000  85.6%  13.5    0s\n",
      "*  566   453              50    28237.000000 4201.00000  85.1%  13.5    0s\n",
      "*  635   456              50    27513.000000 4279.00000  84.4%  13.4    0s\n",
      "*  654   468              50    26751.000000 4297.00000  83.9%  13.3    0s\n",
      "* 1030   767              50    26579.000000 4406.00000  83.4%  12.7    0s\n",
      "* 1238   864              56    21713.000000 15665.0467  27.9%  40.7    4s\n",
      "* 1239   825              56    21701.000000 15665.0467  27.8%  40.7    4s\n",
      "* 1256   790              50    21677.000000 15665.0467  27.7%  41.3    4s\n",
      "* 1260   759              54    21323.000000 15665.0467  26.5%  41.3    4s\n",
      "* 1268   717              49    21082.000000 15842.1971  24.9%  41.7    4s\n",
      "* 1270   684              50    21046.000000 15842.1971  24.7%  41.6    4s\n",
      "  1280   689 16027.8921   18   35 21046.0000 15842.1971  24.7%  42.8    5s\n",
      "* 1381   703              51    20904.000000 15842.1971  24.2%  56.8    7s\n",
      "* 1382   668              50    20644.000000 15842.1971  23.3%  56.8    7s\n",
      "* 1477   640              48    20531.000000 15842.1971  22.8%  59.8    8s\n",
      "* 1481   613              47    20525.000000 15842.1971  22.8%  59.7    8s\n",
      "  1586   656 18345.3643   32   26 20525.0000 15991.1259  22.1%  68.9   10s\n",
      "* 1734   684              47    20401.000000 16092.0124  21.1%  76.3   12s\n",
      "  1879   735 17638.3977   28   31 20401.0000 16182.9542  20.7%  84.2   15s\n",
      "* 2064   788              51    20367.000000 16248.6746  20.2%  90.8   17s\n",
      "* 2065   762              51    20282.000000 16248.6746  19.9%  90.8   17s\n",
      "* 2069   734              51    20206.000000 16248.6746  19.6%  90.6   17s\n",
      "* 2070   705              51    20073.000000 16248.6746  19.1%  90.6   17s\n",
      "* 2106   684              47    20064.000000 16252.1778  19.0%  90.9   17s\n",
      "* 2127   668              51    20062.000000 16281.2530  18.8%  91.1   17s\n",
      "* 2128   658              50    19989.000000 16281.2530  18.5%  91.0   17s\n",
      "* 2281   768              46    19974.000000 16285.7899  18.5%  94.9   19s\n",
      "  2285   773 16744.0110   20   30 19974.0000 16285.7899  18.5%  95.3   20s\n",
      "* 2358   798              46    19884.000000 16324.1262  17.9%  97.7   21s\n",
      "* 2390   786              44    19803.000000 16324.1262  17.6%  97.2   21s\n",
      "  2683   978 17417.0833   28   17 19803.0000 16415.5504  17.1%   103   25s\n",
      "* 2704   943              49    19632.000000 16415.5504  16.4%   103   25s\n",
      "* 2705   886              49    19347.000000 16415.5504  15.2%   103   25s\n",
      "  3028  1085 17882.8555   29   31 19347.0000 16455.5365  14.9%   110   30s\n",
      "* 3191  1115              45    19235.000000 16465.9973  14.4%   112   31s\n",
      "* 3192  1100              45    19197.000000 16465.9973  14.2%   112   31s\n",
      "* 3194  1090              45    19163.000000 16465.9973  14.1%   112   31s\n",
      "  3390  1218 17541.4633   26   28 19163.0000 16515.1818  13.8%   114   35s\n",
      "* 3832  1401              43    19037.000000 16569.8043  13.0%   117   39s\n",
      "  3846  1414 17410.3135   26   32 19037.0000 16573.9070  12.9%   117   40s\n",
      "  4209  1626 18260.0801   32   28 19037.0000 16614.0361  12.7%   120   45s\n",
      "* 4312  1633              42    18925.000000 16622.1420  12.2%   121   45s\n",
      "* 4442  1680              45    18889.000000 16634.7690  11.9%   122   46s\n",
      "* 4444  1629              44    18788.000000 16634.7690  11.5%   122   46s\n",
      "* 4598  1673              38    18748.000000 16644.6969  11.2%   122   48s\n",
      "  4611  1689 17439.3681   26   24 18748.0000 16655.2990  11.2%   122   50s\n",
      "* 5032  1851              35    18700.000000 16702.4178  10.7%   125   54s\n",
      "  5060  1869 18569.1111   34   25 18700.0000 16707.5812  10.7%   125   56s\n",
      "* 5189  1897              39    18678.000000 16711.6658  10.5%   125   56s\n",
      "* 5235  1906              42    18641.000000 16719.7000  10.3%   125   58s\n",
      "  5430  2009 18351.5000   34   15 18641.0000 16732.7533  10.2%   126   61s\n",
      "* 5436  1980              37    18605.000000 16732.7533  10.1%   126   61s\n",
      "* 5740  2080              35    18588.000000 16748.5667  9.90%   126   63s\n",
      "* 5750  2076              36    18581.000000 16748.5667  9.86%   126   63s\n",
      "  5848  2144 17787.3679   28   27 18581.0000 16761.6428  9.79%   127   65s\n",
      "* 5987  2156              39    18550.000000 16765.2725  9.62%   127   65s\n",
      "* 6004  2117              37    18497.000000 16765.2725  9.36%   127   65s\n",
      "* 6005  1976              37    18335.000000 16765.2725  8.56%   127   65s\n",
      "  6247  2076 17933.1841   29   26 18335.0000 16800.0751  8.37%   128   70s\n",
      "* 6487  2149              35    18319.000000 16811.2922  8.23%   128   73s\n",
      "  6717  2237 17898.5714   32   15 18319.0000 16826.4493  8.15%   128   75s\n",
      "* 6726  2097              36    18200.000000 16826.4493  7.55%   128   75s\n",
      "* 7044  2102              36    18118.000000 16849.0972  7.00%   129   78s\n",
      "* 7047  2050              34    18081.000000 16849.0972  6.81%   129   78s\n",
      "  7252  2139 17228.8709   25   25 18081.0000 16861.3199  6.75%   129   81s\n",
      "* 7376  1751              35    17835.000000 16864.5946  5.44%   129   81s\n",
      "* 7378  1600              34    17753.000000 16864.5946  5.00%   129   81s\n",
      "* 7650  1632              30    17728.000000 16875.7733  4.81%   129   85s\n",
      "* 7968  1653              29    17724.000000 16899.1206  4.65%   128   88s\n",
      "* 7971  1507              28    17650.000000 16899.1206  4.25%   128   88s\n",
      "* 7998   672              24    17268.000000 16899.1206  2.14%   128   88s\n",
      "* 7999   569              24    17220.000000 16899.1206  1.86%   128   88s\n",
      "  8157   490     cutoff   28      17220.0000 16920.5556  1.74%   128   90s\n",
      "* 8359   474              24    17215.000000 16981.4222  1.36%   128   90s\n",
      "\n",
      "Explored 8887 nodes (1111558 simplex iterations) in 94.24 seconds\n",
      "Thread count was 8 (of 8 available processors)\n",
      "\n",
      "Solution count 10: 17215 17220 17268 ... 18118\n",
      "\n",
      "Optimal solution found (tolerance 1.00e-04)\n",
      "Best objective 1.721500000000e+04, best bound 1.721500000000e+04, gap 0.0000%\n"
     ]
    }
   ],
   "source": [
    "# Optimize Model (you should see output when running this cell)\n",
    "ufl.optimize()"
   ]
  },
  {
   "cell_type": "code",
   "execution_count": 6,
   "metadata": {},
   "outputs": [
    {
     "data": {
      "text/plain": [
       "0.0"
      ]
     },
     "execution_count": 6,
     "metadata": {},
     "output_type": "execute_result"
    }
   ],
   "source": []
  },
  {
   "cell_type": "code",
   "execution_count": null,
   "metadata": {},
   "outputs": [],
   "source": []
  }
 ],
 "metadata": {
  "kernelspec": {
   "display_name": "Python 3",
   "language": "python",
   "name": "python3"
  },
  "language_info": {
   "codemirror_mode": {
    "name": "ipython",
    "version": 3
   },
   "file_extension": ".py",
   "mimetype": "text/x-python",
   "name": "python",
   "nbconvert_exporter": "python",
   "pygments_lexer": "ipython3",
   "version": "3.7.4"
  }
 },
 "nbformat": 4,
 "nbformat_minor": 2
}
