{
 "cells": [
  {
   "cell_type": "markdown",
   "metadata": {},
   "source": [
    "# Q2 (c): Bender's Decomposition"
   ]
  },
  {
   "cell_type": "code",
   "execution_count": 1,
   "metadata": {},
   "outputs": [],
   "source": [
    "import numpy as np\n",
    "from numpy import random\n",
    "from gurobipy import *"
   ]
  },
  {
   "cell_type": "code",
   "execution_count": 41,
   "metadata": {
    "scrolled": true
   },
   "outputs": [
    {
     "name": "stdout",
     "output_type": "stream",
     "text": [
      "Changed value of parameter TimeLimit to 900.0\n",
      "   Prev: 1e+100  Min: 0.0  Max: 1e+100  Default: 1e+100\n",
      "Changed value of parameter DualReductions to 0\n",
      "   Prev: 1  Min: 0  Max: 1  Default: 1\n",
      "Optimize a model with 3 rows, 4 columns and 6 nonzeros\n",
      "Coefficient statistics:\n",
      "  Matrix range     [1e+00, 1e+00]\n",
      "  Objective range  [1e+00, 1e+00]\n",
      "  Bounds range     [0e+00, 0e+00]\n",
      "  RHS range        [1e+00, 1e+01]\n",
      "Presolve time: 0.00s\n",
      "Presolved: 3 rows, 4 columns, 6 nonzeros\n",
      "\n",
      "Iteration    Objective       Primal Inf.    Dual Inf.      Time\n",
      "       0      handle free variables                          0s\n",
      "       2   -1.0000000e+00   0.000000e+00   0.000000e+00      0s\n",
      "\n",
      "Solved in 2 iterations and 0.01 seconds\n",
      "Optimal objective -1.000000000e+00\n"
     ]
    }
   ],
   "source": [
    "# Solving the relaxation Z_LD_j\n",
    "\n",
    "zld = Model('zld')\n",
    "X=np.array([1.0,1.0,1.0])\n",
    "\n",
    "# Define Variables\n",
    "Mu = {}\n",
    "ind_i=1\n",
    "# for ind_i in range(1,4):\n",
    "#     Mu[ind_i] = ufl.addVar(name='Mu'+str(ind_i))\n",
    "Mu[ind_i] = zld.addVar(lb=-GRB.INFINITY, name='Mu'+str(ind_i))\n",
    "for ind_j in range(1,4):\n",
    "    Mu[ind_j,ind_i] = zld.addVar(name='Mu'+str((ind_j,ind_i)))\n",
    "#         Mu[ind_i,ind_j] = ufl.addVar(name='Mu'+str((ind_i, ind_j)))\n",
    "\n",
    "# Define Objective\n",
    "zld.setObjective(Mu[ind_i]+X[0]*Mu[(1,ind_i)]+X[1]*Mu[(2,ind_i)]+X[2]*\n",
    "                         Mu[(3,ind_i)])\n",
    "# Define Constraints\n",
    "Constr = {} # indicator constraints\n",
    "\n",
    "# for ind_i in range(1,4):\n",
    "for ind_j in range(1,4):\n",
    "    if ind_i == ind_j:\n",
    "        Constr[ind_i,ind_j] = zld.addConstr(Mu[ind_i]+Mu[ind_j,ind_i],'>=',-10.0,name='Constr'+str((ind_j,ind_i)))\n",
    "    else:\n",
    "        Constr[ind_i,ind_j] = zld.addConstr(Mu[ind_i]+Mu[ind_j,ind_i],'>=',-1.0,name='Constr'+str((ind_j,ind_i)))\n",
    "#     =======================================================================================\n",
    "\n",
    "\n",
    "#Add constraints and variables to model\n",
    "zld.update()\n",
    "# Initialize Model and Solver Settings NOTE: DO NOT EDIT THE SETTINGS IN THIS BLOCK UNLESS OTHERWISE NOTED IN THE EXERCISE\n",
    "zld.setParam('TimeLimit', 900)\n",
    "zld.setParam('DualReductions',0)\n",
    "# ufl.setParam('NodeLimit', 10) # \n",
    "\n",
    "\n",
    "zld.modelSense = GRB.MINIMIZE\n",
    "zld.update()\n",
    "# Optimize Model (you should see output when running this cell)\n",
    "zld.optimize()"
   ]
  },
  {
   "cell_type": "code",
   "execution_count": 42,
   "metadata": {
    "scrolled": true
   },
   "outputs": [
    {
     "data": {
      "text/plain": [
       "{1: <gurobi.Var Mu1 (value -1.0)>,\n",
       " (1, 1): <gurobi.Var Mu(1, 1) (value 0.0)>,\n",
       " (2, 1): <gurobi.Var Mu(2, 1) (value 0.0)>,\n",
       " (3, 1): <gurobi.Var Mu(3, 1) (value 0.0)>}"
      ]
     },
     "execution_count": 42,
     "metadata": {},
     "output_type": "execute_result"
    }
   ],
   "source": [
    "Mu"
   ]
  },
  {
   "cell_type": "code",
   "execution_count": 44,
   "metadata": {},
   "outputs": [
    {
     "name": "stdout",
     "output_type": "stream",
     "text": [
      "Changed value of parameter TimeLimit to 900.0\n",
      "   Prev: 1e+100  Min: 0.0  Max: 1e+100  Default: 1e+100\n",
      "Changed value of parameter DualReductions to 0\n",
      "   Prev: 1  Min: 0  Max: 1  Default: 1\n",
      "Optimize a model with 9 rows, 12 columns and 18 nonzeros\n",
      "Coefficient statistics:\n",
      "  Matrix range     [1e+00, 1e+00]\n",
      "  Objective range  [1e+00, 1e+00]\n",
      "  Bounds range     [0e+00, 0e+00]\n",
      "  RHS range        [1e+00, 1e+01]\n",
      "Presolve time: 0.00s\n",
      "Presolved: 9 rows, 12 columns, 18 nonzeros\n",
      "\n",
      "Iteration    Objective       Primal Inf.    Dual Inf.      Time\n",
      "       0      handle free variables                          0s\n",
      "       4   -3.0000000e+00   0.000000e+00   0.000000e+00      0s\n",
      "\n",
      "Solved in 4 iterations and 0.01 seconds\n",
      "Optimal objective -3.000000000e+00\n"
     ]
    }
   ],
   "source": [
    "# Solving the relaxation Z_LD\n",
    "\n",
    "zld = Model('zld')\n",
    "X=np.array([1.0,1.0,1.0])\n",
    "\n",
    "# Define Variables\n",
    "Mu = {}\n",
    "\n",
    "for ind_i in range(1,4):\n",
    "#     Mu[ind_i] = ufl.addVar(name='Mu'+str(ind_i))\n",
    "    Mu[ind_i] = zld.addVar(lb=-GRB.INFINITY, name='Mu'+str(ind_i))\n",
    "    for ind_j in range(1,4):\n",
    "        Mu[ind_i,ind_j] = zld.addVar(name='Mu'+str((ind_i, ind_j)))\n",
    "#         Mu[ind_i,ind_j] = ufl.addVar(name='Mu'+str((ind_i, ind_j)))\n",
    "\n",
    "# Define Objective\n",
    "zld.setObjective(Mu[1]+Mu[2]+Mu[3]+X[0]*(Mu[(1,1)]+Mu[(1,2)]+Mu[(1,3)])+X[1]*(Mu[(2,1)]+Mu[(2,2)]+Mu[(2,3)])+X[2]*\n",
    "                         (Mu[(3,1)]+Mu[(3,2)]+Mu[(3,3)]))\n",
    "# Define Constraints\n",
    "Constr = {} # indicator constraints\n",
    "\n",
    "for ind_i in range(1,4):\n",
    "    for ind_j in range(1,4):\n",
    "#         print(ind_i,ind_j)\n",
    "        if ind_i == ind_j:\n",
    "            Constr[ind_i,ind_j] = zld.addConstr(Mu[ind_i]+Mu[ind_i,ind_j],'>=',-10.0,name='Constr'+str((ind_i,ind_j)))\n",
    "        else:\n",
    "            Constr[ind_i,ind_j] = zld.addConstr(Mu[ind_i]+Mu[ind_i,ind_j],'>=',-1.0,name='Constr'+str((ind_i,ind_j)))\n",
    "#     =======================================================================================\n",
    "\n",
    "\n",
    "#Add constraints and variables to model\n",
    "zld.update()\n",
    "# Initialize Model and Solver Settings NOTE: DO NOT EDIT THE SETTINGS IN THIS BLOCK UNLESS OTHERWISE NOTED IN THE EXERCISE\n",
    "zld.setParam('TimeLimit', 900)\n",
    "zld.setParam('DualReductions',0)\n",
    "# ufl.setParam('NodeLimit', 10) # \n",
    "\n",
    "\n",
    "zld.modelSense = GRB.MINIMIZE\n",
    "zld.update()\n",
    "# Optimize Model (you should see output when running this cell)\n",
    "zld.optimize()"
   ]
  },
  {
   "cell_type": "code",
   "execution_count": 45,
   "metadata": {},
   "outputs": [
    {
     "data": {
      "text/plain": [
       "{1: <gurobi.Var Mu1 (value -1.0)>,\n",
       " (1, 1): <gurobi.Var Mu(1, 1) (value 0.0)>,\n",
       " (1, 2): <gurobi.Var Mu(1, 2) (value 0.0)>,\n",
       " (1, 3): <gurobi.Var Mu(1, 3) (value 0.0)>,\n",
       " 2: <gurobi.Var Mu2 (value -1.0)>,\n",
       " (2, 1): <gurobi.Var Mu(2, 1) (value 0.0)>,\n",
       " (2, 2): <gurobi.Var Mu(2, 2) (value 0.0)>,\n",
       " (2, 3): <gurobi.Var Mu(2, 3) (value 0.0)>,\n",
       " 3: <gurobi.Var Mu3 (value -1.0)>,\n",
       " (3, 1): <gurobi.Var Mu(3, 1) (value 0.0)>,\n",
       " (3, 2): <gurobi.Var Mu(3, 2) (value 0.0)>,\n",
       " (3, 3): <gurobi.Var Mu(3, 3) (value 0.0)>}"
      ]
     },
     "execution_count": 45,
     "metadata": {},
     "output_type": "execute_result"
    }
   ],
   "source": [
    "Mu"
   ]
  },
  {
   "cell_type": "code",
   "execution_count": 46,
   "metadata": {},
   "outputs": [
    {
     "name": "stdout",
     "output_type": "stream",
     "text": [
      "Changed value of parameter TimeLimit to 900.0\n",
      "   Prev: 1e+100  Min: 0.0  Max: 1e+100  Default: 1e+100\n",
      "Changed value of parameter DualReductions to 0\n",
      "   Prev: 1  Min: 0  Max: 1  Default: 1\n",
      "Optimize a model with 3 rows, 6 columns and 3 nonzeros\n",
      "Variable types: 3 continuous, 3 integer (3 binary)\n",
      "Coefficient statistics:\n",
      "  Matrix range     [1e+00, 1e+00]\n",
      "  Objective range  [1e+00, 2e+01]\n",
      "  Bounds range     [1e+00, 1e+00]\n",
      "  RHS range        [1e+00, 1e+00]\n",
      "Found heuristic solution: objective -3.0000000\n",
      "Presolve removed 3 rows and 0 columns\n",
      "Presolve time: 0.00s\n",
      "Presolved: 0 rows, 6 columns, 0 nonzeros\n",
      "Variable types: 3 continuous, 3 integer (3 binary)\n",
      "\n",
      "Explored 0 nodes (0 simplex iterations) in 0.01 seconds\n",
      "Thread count was 8 (of 8 available processors)\n",
      "\n",
      "Solution count 1: -3 \n",
      "\n",
      "Optimal solution found (tolerance 1.00e-04)\n",
      "Best objective -3.000000000000e+00, best bound -3.000000000000e+00, gap 0.0000%\n"
     ]
    }
   ],
   "source": [
    "#Solving the RMIP\n",
    "RMIP = Model('RMIP')\n",
    "# X=np.array([1.0,1.0,1.0])\n",
    "\n",
    "# Define Variables\n",
    "X = {}\n",
    "Eta = {}\n",
    "\n",
    "for ind_i in range(1,4):\n",
    "#     Mu[ind_i] = ufl.addVar(name='Mu'+str(ind_i))\n",
    "    X[ind_i] = RMIP.addVar(vtype=GRB.BINARY, name='X'+str(ind_i))\n",
    "    Eta[ind_i] = RMIP.addVar(lb=-GRB.INFINITY, name='Eta'+str(ind_i))\n",
    "\n",
    "# Define Objective\n",
    "RMIP.setObjective(-15*(quicksum(X[i] for i in X.keys()))+quicksum(Eta[i] for i in Eta.keys()))\n",
    "# Define Constraints\n",
    "Constr = {} # indicator constraints\n",
    "\n",
    "for i in Eta.keys():\n",
    "    Constr['eta'+str(i)] = RMIP.addConstr(Eta[i],'<=',Mu[i].X+Mu[1,i].X*X[1]+Mu[2,i].X*X[2]+Mu[3,i].X*X[3])\n",
    "\n",
    "# Constr['eta'] = RMIP.addConstr(X['eta'],'>=',mu[0]+mu[4]+mu[8]+X[1]*(mu[1]+mu[2]+mu[3])+\n",
    "#                                X[2]*(mu[5]+mu[6]+mu[7])+X[3]*(mu[9]+mu[10]+mu[11]),name='eta')\n",
    "\n",
    "#Add constraints and variables to model\n",
    "RMIP.update()\n",
    "# Initialize Model and Solver Settings NOTE: DO NOT EDIT THE SETTINGS IN THIS BLOCK UNLESS OTHERWISE NOTED IN THE EXERCISE\n",
    "RMIP.setParam('TimeLimit', 900)\n",
    "RMIP.setParam('DualReductions',0)\n",
    "# ufl.setParam('NodeLimit', 10) # \n",
    "\n",
    "\n",
    "RMIP.modelSense = GRB.MAXIMIZE\n",
    "RMIP.update()\n",
    "# Optimize Model (you should see output when running this cell)\n",
    "RMIP.optimize()"
   ]
  },
  {
   "cell_type": "code",
   "execution_count": 47,
   "metadata": {},
   "outputs": [
    {
     "data": {
      "text/plain": [
       "{1: <gurobi.Var X1 (value 0.0)>,\n",
       " 2: <gurobi.Var X2 (value 0.0)>,\n",
       " 3: <gurobi.Var X3 (value 0.0)>}"
      ]
     },
     "execution_count": 47,
     "metadata": {},
     "output_type": "execute_result"
    }
   ],
   "source": [
    "X"
   ]
  },
  {
   "cell_type": "code",
   "execution_count": 48,
   "metadata": {},
   "outputs": [
    {
     "data": {
      "text/plain": [
       "{1: <gurobi.Var Eta1 (value -1.0)>,\n",
       " 2: <gurobi.Var Eta2 (value -1.0)>,\n",
       " 3: <gurobi.Var Eta3 (value -1.0)>}"
      ]
     },
     "execution_count": 48,
     "metadata": {},
     "output_type": "execute_result"
    }
   ],
   "source": [
    "Eta"
   ]
  },
  {
   "cell_type": "code",
   "execution_count": 49,
   "metadata": {},
   "outputs": [
    {
     "name": "stdout",
     "output_type": "stream",
     "text": [
      "Changed value of parameter TimeLimit to 900.0\n",
      "   Prev: 1e+100  Min: 0.0  Max: 1e+100  Default: 1e+100\n",
      "Changed value of parameter DualReductions to 0\n",
      "   Prev: 1  Min: 0  Max: 1  Default: 1\n",
      "Optimize a model with 3 rows, 3 columns and 3 nonzeros\n",
      "Coefficient statistics:\n",
      "  Matrix range     [1e+00, 1e+00]\n",
      "  Objective range  [1e+00, 1e+00]\n",
      "  Bounds range     [0e+00, 0e+00]\n",
      "  RHS range        [1e+00, 1e+00]\n",
      "Presolve removed 3 rows and 0 columns\n",
      "Presolve time: 0.00s\n",
      "Presolved: 0 rows, 3 columns, 0 nonzeros\n",
      "\n",
      "Iteration    Objective       Primal Inf.    Dual Inf.      Time\n",
      "       0   -4.8000000e+01   0.000000e+00   0.000000e+00      0s\n",
      "       0   -4.8000000e+01   0.000000e+00   0.000000e+00      0s\n",
      "\n",
      "Solved in 0 iterations and 0.01 seconds\n",
      "Optimal objective -4.800000000e+01\n"
     ]
    }
   ],
   "source": [
    "#Solving the RMIP with X given\n",
    "RMIP = Model('RMIP')\n",
    "# X=np.array([1.0,1.0,1.0])\n",
    "\n",
    "# Define Variables\n",
    "X = {}\n",
    "Eta = {}\n",
    "\n",
    "for ind_i in range(1,4):\n",
    "#     Mu[ind_i] = ufl.addVar(name='Mu'+str(ind_i))\n",
    "#     X[ind_i] = RMIP.addVar(vtype=GRB.BINARY, name='X'+str(ind_i))\n",
    "    X[ind_i] = 1\n",
    "    Eta[ind_i] = RMIP.addVar(lb=-GRB.INFINITY, name='Eta'+str(ind_i))\n",
    "\n",
    "# Define Objective\n",
    "RMIP.setObjective(-15*(X[1]+X[2]+X[3])+quicksum(Eta[i] for i in Eta.keys()))\n",
    "# Define Constraints\n",
    "Constr = {} # indicator constraints\n",
    "\n",
    "for i in Eta.keys():\n",
    "    Constr['eta'+str(i)] = RMIP.addConstr(Eta[i],'<=',Mu[i].X+Mu[1,i].X*X[1]+Mu[2,i].X*X[2]+Mu[3,i].X*X[3])\n",
    "\n",
    "# Constr['eta'] = RMIP.addConstr(X['eta'],'>=',mu[0]+mu[4]+mu[8]+X[1]*(mu[1]+mu[2]+mu[3])+\n",
    "#                                X[2]*(mu[5]+mu[6]+mu[7])+X[3]*(mu[9]+mu[10]+mu[11]),name='eta')\n",
    "\n",
    "#Add constraints and variables to model\n",
    "RMIP.update()\n",
    "# Initialize Model and Solver Settings NOTE: DO NOT EDIT THE SETTINGS IN THIS BLOCK UNLESS OTHERWISE NOTED IN THE EXERCISE\n",
    "RMIP.setParam('TimeLimit', 900)\n",
    "RMIP.setParam('DualReductions',0)\n",
    "# ufl.setParam('NodeLimit', 10) # \n",
    "\n",
    "\n",
    "RMIP.modelSense = GRB.MAXIMIZE\n",
    "RMIP.update()\n",
    "# Optimize Model (you should see output when running this cell)\n",
    "RMIP.optimize()"
   ]
  },
  {
   "cell_type": "code",
   "execution_count": 50,
   "metadata": {},
   "outputs": [
    {
     "data": {
      "text/plain": [
       "{1: <gurobi.Var Eta1 (value -1.0)>,\n",
       " 2: <gurobi.Var Eta2 (value -1.0)>,\n",
       " 3: <gurobi.Var Eta3 (value -1.0)>}"
      ]
     },
     "execution_count": 50,
     "metadata": {},
     "output_type": "execute_result"
    }
   ],
   "source": [
    "Eta"
   ]
  },
  {
   "cell_type": "code",
   "execution_count": 20,
   "metadata": {},
   "outputs": [
    {
     "data": {
      "text/plain": [
       "{1: 1, 2: 1, 3: 1}"
      ]
     },
     "execution_count": 20,
     "metadata": {},
     "output_type": "execute_result"
    }
   ],
   "source": [
    "X"
   ]
  },
  {
   "cell_type": "code",
   "execution_count": 35,
   "metadata": {},
   "outputs": [
    {
     "name": "stdout",
     "output_type": "stream",
     "text": [
      "Changed value of parameter TimeLimit to 900.0\n",
      "   Prev: 1e+100  Min: 0.0  Max: 1e+100  Default: 1e+100\n",
      "Optimize a model with 12 rows, 9 columns and 18 nonzeros\n",
      "Coefficient statistics:\n",
      "  Matrix range     [1e+00, 1e+00]\n",
      "  Objective range  [1e+00, 1e+01]\n",
      "  Bounds range     [0e+00, 0e+00]\n",
      "  RHS range        [1e+00, 1e+00]\n",
      "Presolve removed 12 rows and 9 columns\n",
      "Presolve time: 0.00s\n",
      "Presolve: All rows and columns removed\n",
      "Iteration    Objective       Primal Inf.    Dual Inf.      Time\n",
      "       0   -3.0000000e+00   0.000000e+00   0.000000e+00      0s\n",
      "\n",
      "Solved in 0 iterations and 0.01 seconds\n",
      "Optimal objective -3.000000000e+00\n"
     ]
    }
   ],
   "source": [
    "# Solving the relaxation Z_LP\n",
    "\n",
    "zlp = Model('zlp')\n",
    "X=np.array([1.0,1.0,1.0,1.0])\n",
    "\n",
    "# Define Variables\n",
    "Y = {}\n",
    "\n",
    "for ind_i in range(1,4):\n",
    "    for ind_j in range(1,4):\n",
    "        Y[ind_i,ind_j] = zlp.addVar(name='Y'+str((ind_i, ind_j)))\n",
    "#         Mu[ind_i,ind_j] = ufl.addVar(name='Mu'+str((ind_i, ind_j)))\n",
    "\n",
    "# Define Objective\n",
    "# zlp.setObjective(10*(Y[1,1]+Y[2,2]+Y[3,3])+Y[1,2]+Y[1,3]+Y[2,1]+Y[2,3]+Y[3,1]+Y[3,2])\n",
    "zlp.setObjective(-1*(10*(Y[1,1]+Y[2,2]+Y[3,3])+Y[1,2]+Y[1,3]+Y[2,1]+Y[2,3]+Y[3,1]+Y[3,2]))\n",
    "# Define Constraints\n",
    "Constr = {} # indicator constraints\n",
    "\n",
    "for ind_i in range(1,4):\n",
    "    Constr[ind_i] = zlp.addConstr(Y[1,ind_i]+Y[2,ind_i]+Y[3,ind_i],GRB.EQUAL,1,name='Constr'+str(ind_i))\n",
    "    for ind_j in range(1,4):\n",
    "        Constr[ind_i,ind_j] = zlp.addConstr(Y[ind_i,ind_j],'<=',X[ind_i],name='Constr'+str((ind_i,ind_j)))\n",
    "#     =======================================================================================\n",
    "\n",
    "\n",
    "#Add constraints and variables to model\n",
    "zlp.update()\n",
    "# Initialize Model and Solver Settings NOTE: DO NOT EDIT THE SETTINGS IN THIS BLOCK UNLESS OTHERWISE NOTED IN THE EXERCISE\n",
    "zlp.setParam('TimeLimit', 900)\n",
    "# zlp.setParam('DualReductions',0)\n",
    "# ufl.setParam('NodeLimit', 10) # \n",
    "\n",
    "\n",
    "zlp.modelSense = GRB.MAXIMIZE\n",
    "# zlp.modelSense = GRB.MINIMIZE\n",
    "zlp.update()\n",
    "# Optimize Model (you should see output when running this cell)\n",
    "zlp.optimize()\n",
    "# MINIMIZE gives 3"
   ]
  },
  {
   "cell_type": "code",
   "execution_count": 36,
   "metadata": {},
   "outputs": [
    {
     "data": {
      "text/plain": [
       "{(1, 1): <gurobi.Var Y(1, 1) (value 0.0)>,\n",
       " (1, 2): <gurobi.Var Y(1, 2) (value 1.0)>,\n",
       " (1, 3): <gurobi.Var Y(1, 3) (value 1.0)>,\n",
       " (2, 1): <gurobi.Var Y(2, 1) (value 1.0)>,\n",
       " (2, 2): <gurobi.Var Y(2, 2) (value 0.0)>,\n",
       " (2, 3): <gurobi.Var Y(2, 3) (value 0.0)>,\n",
       " (3, 1): <gurobi.Var Y(3, 1) (value 0.0)>,\n",
       " (3, 2): <gurobi.Var Y(3, 2) (value 0.0)>,\n",
       " (3, 3): <gurobi.Var Y(3, 3) (value 0.0)>}"
      ]
     },
     "execution_count": 36,
     "metadata": {},
     "output_type": "execute_result"
    }
   ],
   "source": [
    "Y"
   ]
  },
  {
   "cell_type": "code",
   "execution_count": null,
   "metadata": {},
   "outputs": [],
   "source": []
  }
 ],
 "metadata": {
  "kernelspec": {
   "display_name": "Python 3",
   "language": "python",
   "name": "python3"
  },
  "language_info": {
   "codemirror_mode": {
    "name": "ipython",
    "version": 3
   },
   "file_extension": ".py",
   "mimetype": "text/x-python",
   "name": "python",
   "nbconvert_exporter": "python",
   "pygments_lexer": "ipython3",
   "version": "3.7.4"
  }
 },
 "nbformat": 4,
 "nbformat_minor": 2
}
