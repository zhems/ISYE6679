{
 "cells": [
  {
   "cell_type": "markdown",
   "metadata": {},
   "source": [
    "# Q2 (a): Lagrangian dual with Subgradient Optimization"
   ]
  },
  {
   "cell_type": "code",
   "execution_count": 286,
   "metadata": {},
   "outputs": [],
   "source": [
    "import numpy as np\n",
    "from numpy import random\n",
    "from gurobipy import *\n",
    "step = -4"
   ]
  },
  {
   "cell_type": "code",
   "execution_count": 287,
   "metadata": {},
   "outputs": [],
   "source": [
    "# Initialize Model Parameters\n",
    "\n",
    "M = 3 # number of customers\n",
    "N = 3 # number of facilities\n",
    "fixedcost = 15.0 # fixed cost of opening a facility\n",
    "Min = 0.0 # lower bound for uniform distribution\n",
    "Max = 40.0 # upper bound for uniform distibution\n",
    "\n",
    "#Set seed for random parameters\n",
    "random.seed(0)\n",
    "\n",
    "lamb0,lamb1,lamb2=0,0,0\n",
    "lamb = np.array([lamb0,lamb1,lamb2])\n",
    "varcost = np.array([[10,1,1],[1,10,1],[1,1,10]]) - lamb*np.array([[1,1,1],[1,1,1],[1,1,1]])\n",
    "demand = np.ones(M) # demand of customers\n"
   ]
  },
  {
   "cell_type": "code",
   "execution_count": 288,
   "metadata": {},
   "outputs": [],
   "source": [
    "# Initialize Model\n",
    "ufl = Model('ufl')\n",
    "\n",
    "# Define Variables\n",
    "FracMet = {} # Y, variables corresponding to fraction of demand met\n",
    "Open = {} # X, indicator variables for opening facility\n",
    "\n",
    "for ind_i in range(N):\n",
    "    Open[ind_i] = ufl.addVar(lb=0.0, ub=1.0, name='Open'+str(ind_i))\n",
    "    for ind_j in range(M):\n",
    "        FracMet[ind_i, ind_j] = ufl.addVar(lb=0.0, ub=1.0, name='FracMet'+str((ind_i, ind_j)))\n",
    "\n",
    "# Define Objective\n",
    "ufl.setObjective(quicksum(Open[ind_i]*fixedcost for ind_i in Open.keys()) \n",
    "                 + quicksum(FracMet[ind_i,ind_j]*varcost[ind_i, ind_j] for ind_i, ind_j in FracMet.keys()))\n",
    "# ufl.setObjective(quicksum(Open[ind_i]*fixedcost for ind_i in Open.keys()) \n",
    "#                  + quicksum(FracMet[ind_i,ind_j]*varcost[ind_i, ind_j]*demand[ind_j] for ind_i, ind_j in FracMet.keys()))\n",
    "\n",
    "# Define Constraints\n",
    "MeetDemand = {} # meet demand constraitns\n",
    "IfOpen = {} # indicator constraints\n",
    "\n",
    "# for ind_j in range(M):\n",
    "#     MeetDemand[ind_j] = ufl.addConstr(quicksum(FracMet[ind_i, ind_j] for ind_i in range(N)), '=', 1)\n",
    "    \n",
    "for ind_i in range(N):\n",
    "#     =========================== Aggregated Constraints=====================================\n",
    "#     IfOpen[ind_i] = ufl.addConstr(quicksum(FracMet[ind_i, ind_j] for ind_j in range(M)), '<=', \n",
    "#                                   M*Open[ind_i], name='IfOpen' + str(ind_i))\n",
    "# ===========================================================================================\n",
    "    \n",
    "#     ============================== Strong Formulation ====================================\n",
    "#    comment out the above constraints and uncomment these constraints to change from weak to strong formulation\n",
    "#     -------------------------------------------------------------------------------------\n",
    "    for ind_j in range(M):\n",
    "        IfOpen[ind_i,ind_j] = ufl.addConstr(FracMet[ind_i,ind_j], '<=', Open[ind_i], name='IfOpen'+str((ind_i,ind_j)))\n",
    "#     =======================================================================================\n",
    "\n",
    "\n",
    "#Add constraints and variables to model\n",
    "ufl.update()"
   ]
  },
  {
   "cell_type": "code",
   "execution_count": 289,
   "metadata": {},
   "outputs": [
    {
     "name": "stdout",
     "output_type": "stream",
     "text": [
      "Changed value of parameter TimeLimit to 900.0\n",
      "   Prev: 1e+100  Min: 0.0  Max: 1e+100  Default: 1e+100\n",
      "Changed value of parameter NodefileStart to 100.0\n",
      "   Prev: 1e+100  Min: 0.0  Max: 1e+100  Default: 1e+100\n",
      "Changed value of parameter Presolve to 0\n",
      "   Prev: -1  Min: -1  Max: 2  Default: -1\n",
      "Changed value of parameter Cuts to 0\n",
      "   Prev: -1  Min: -1  Max: 3  Default: -1\n",
      "Changed value of parameter Heuristics to 0.0\n",
      "   Prev: 0.05  Min: 0.0  Max: 1.0  Default: 0.05\n",
      "Changed value of parameter BranchDir to -1\n",
      "   Prev: 0  Min: -1  Max: 1  Default: 0\n",
      "Changed value of parameter VarBranch to 2\n",
      "   Prev: -1  Min: -1  Max: 3  Default: -1\n"
     ]
    }
   ],
   "source": [
    "# Initialize Model and Solver Settings NOTE: DO NOT EDIT THE SETTINGS IN THIS BLOCK UNLESS OTHERWISE NOTED IN THE EXERCISE\n",
    "ufl.setParam('TimeLimit', 900)\n",
    "ufl.setParam('NodefileStart', 100)\n",
    "ufl.setParam('Presolve', 0)\n",
    "ufl.setParam('Cuts', 0)\n",
    "ufl.setParam('Heuristics', 0)\n",
    "ufl.setParam('BranchDir', -1)\n",
    "ufl.setParam('VarBranch', 2) # variable selection max infeasibility\n",
    "# ufl.setParam('NodeLimit', 10) # \n",
    "\n",
    "\n",
    "ufl.modelSense = GRB.MINIMIZE\n",
    "ufl.update()\n",
    "\n"
   ]
  },
  {
   "cell_type": "code",
   "execution_count": 290,
   "metadata": {},
   "outputs": [
    {
     "name": "stdout",
     "output_type": "stream",
     "text": [
      "Optimize a model with 9 rows, 12 columns and 18 nonzeros\n",
      "Coefficient statistics:\n",
      "  Matrix range     [1e+00, 1e+00]\n",
      "  Objective range  [1e+00, 2e+01]\n",
      "  Bounds range     [1e+00, 1e+00]\n",
      "  RHS range        [0e+00, 0e+00]\n",
      "Iteration    Objective       Primal Inf.    Dual Inf.      Time\n",
      "       0    0.0000000e+00   0.000000e+00   0.000000e+00      0s\n",
      "\n",
      "Solved in 0 iterations and 0.01 seconds\n",
      "Optimal objective  0.000000000e+00\n"
     ]
    }
   ],
   "source": [
    "# Optimize Model (you should see output when running this cell)\n",
    "ufl.optimize()"
   ]
  },
  {
   "cell_type": "code",
   "execution_count": 291,
   "metadata": {},
   "outputs": [
    {
     "data": {
      "text/plain": [
       "{(0, 0): <gurobi.Var FracMet(0, 0) (value 0.0)>,\n",
       " (0, 1): <gurobi.Var FracMet(0, 1) (value 0.0)>,\n",
       " (0, 2): <gurobi.Var FracMet(0, 2) (value 0.0)>,\n",
       " (1, 0): <gurobi.Var FracMet(1, 0) (value 0.0)>,\n",
       " (1, 1): <gurobi.Var FracMet(1, 1) (value 0.0)>,\n",
       " (1, 2): <gurobi.Var FracMet(1, 2) (value 0.0)>,\n",
       " (2, 0): <gurobi.Var FracMet(2, 0) (value 0.0)>,\n",
       " (2, 1): <gurobi.Var FracMet(2, 1) (value 0.0)>,\n",
       " (2, 2): <gurobi.Var FracMet(2, 2) (value 0.0)>}"
      ]
     },
     "execution_count": 291,
     "metadata": {},
     "output_type": "execute_result"
    }
   ],
   "source": [
    "FracMet"
   ]
  },
  {
   "cell_type": "code",
   "execution_count": 292,
   "metadata": {},
   "outputs": [
    {
     "data": {
      "text/plain": [
       "{0: <gurobi.Var Open0 (value 0.0)>,\n",
       " 1: <gurobi.Var Open1 (value 0.0)>,\n",
       " 2: <gurobi.Var Open2 (value 0.0)>}"
      ]
     },
     "execution_count": 292,
     "metadata": {},
     "output_type": "execute_result"
    }
   ],
   "source": [
    "Open"
   ]
  },
  {
   "cell_type": "code",
   "execution_count": 293,
   "metadata": {},
   "outputs": [
    {
     "data": {
      "text/plain": [
       "(0.5773502691896258, 0.5773502691896258, 0.5773502691896258)"
      ]
     },
     "execution_count": 293,
     "metadata": {},
     "output_type": "execute_result"
    }
   ],
   "source": [
    "d0 = 1-FracMet[(0,0)].X-FracMet[(1,0)].X-FracMet[(2,0)].X\n",
    "d1 = 1-FracMet[(0,1)].X-FracMet[(1,1)].X-FracMet[(2,1)].X\n",
    "d2 = 1-FracMet[(0,2)].X-FracMet[(1,2)].X-FracMet[(2,2)].X\n",
    "norm_k = np.sqrt(d0*d0+d1*d1+d2*d2)\n",
    "d0,d1,d2=d0/norm_k,d1/norm_k,d2/norm_k\n",
    "d0,d1,d2"
   ]
  },
  {
   "cell_type": "code",
   "execution_count": 294,
   "metadata": {},
   "outputs": [
    {
     "data": {
      "text/plain": [
       "(2.3094010767585034, 2.3094010767585034, 2.3094010767585034)"
      ]
     },
     "execution_count": 294,
     "metadata": {},
     "output_type": "execute_result"
    }
   ],
   "source": [
    "lamb0,lamb1,lamb2 = lamb0-step*d0,lamb1-step*d1,lamb2-step*d2\n",
    "lamb = np.array([lamb0,lamb1,lamb2])\n",
    "lamb0,lamb1,lamb2"
   ]
  },
  {
   "cell_type": "code",
   "execution_count": 295,
   "metadata": {},
   "outputs": [
    {
     "name": "stdout",
     "output_type": "stream",
     "text": [
      "Changed value of parameter TimeLimit to 900.0\n",
      "   Prev: 1e+100  Min: 0.0  Max: 1e+100  Default: 1e+100\n",
      "Changed value of parameter NodefileStart to 100.0\n",
      "   Prev: 1e+100  Min: 0.0  Max: 1e+100  Default: 1e+100\n",
      "Changed value of parameter Presolve to 0\n",
      "   Prev: -1  Min: -1  Max: 2  Default: -1\n",
      "Changed value of parameter Cuts to 0\n",
      "   Prev: -1  Min: -1  Max: 3  Default: -1\n",
      "Changed value of parameter Heuristics to 0.0\n",
      "   Prev: 0.05  Min: 0.0  Max: 1.0  Default: 0.05\n",
      "Changed value of parameter BranchDir to -1\n",
      "   Prev: 0  Min: -1  Max: 1  Default: 0\n",
      "Changed value of parameter VarBranch to 2\n",
      "   Prev: -1  Min: -1  Max: 3  Default: -1\n",
      "Optimize a model with 9 rows, 12 columns and 18 nonzeros\n",
      "Coefficient statistics:\n",
      "  Matrix range     [1e+00, 1e+00]\n",
      "  Objective range  [1e+00, 2e+01]\n",
      "  Bounds range     [1e+00, 1e+00]\n",
      "  RHS range        [0e+00, 0e+00]\n",
      "Iteration    Objective       Primal Inf.    Dual Inf.      Time\n",
      "       0    0.0000000e+00   0.000000e+00   0.000000e+00      0s\n",
      "\n",
      "Solved in 0 iterations and 0.00 seconds\n",
      "Optimal objective  0.000000000e+00\n"
     ]
    }
   ],
   "source": [
    "# 2\n",
    "\n",
    "M = 3 # number of customers\n",
    "N = 3 # number of facilities\n",
    "fixedcost = 15.0 # fixed cost of opening a facility\n",
    "Min = 0.0 # lower bound for uniform distribution\n",
    "Max = 40.0 # upper bound for uniform distibution\n",
    "\n",
    "#Set seed for random parameters\n",
    "random.seed(0)\n",
    "\n",
    "varcost = np.array([[10,1,1],[1,10,1],[1,1,10]]) - lamb*np.array([[1,1,1],[1,1,1],[1,1,1]])\n",
    "demand = np.ones(M) # demand of customers\n",
    "# Initialize Model\n",
    "ufl = Model('ufl')\n",
    "\n",
    "# Define Variables\n",
    "FracMet = {} # Y, variables corresponding to fraction of demand met\n",
    "Open = {} # X, indicator variables for opening facility\n",
    "\n",
    "for ind_i in range(N):\n",
    "    Open[ind_i] = ufl.addVar(lb=0.0, ub=1.0, name='Open'+str(ind_i))\n",
    "    for ind_j in range(M):\n",
    "        FracMet[ind_i, ind_j] = ufl.addVar(lb=0.0, ub=1.0, name='FracMet'+str((ind_i, ind_j)))\n",
    "\n",
    "# Define Objective\n",
    "ufl.setObjective(quicksum(Open[ind_i]*fixedcost for ind_i in Open.keys()) \n",
    "                 + quicksum(FracMet[ind_i,ind_j]*varcost[ind_i, ind_j] for ind_i, ind_j in FracMet.keys()))\n",
    "# ufl.setObjective(quicksum(Open[ind_i]*fixedcost for ind_i in Open.keys()) \n",
    "#                  + quicksum(FracMet[ind_i,ind_j]*varcost[ind_i, ind_j]*demand[ind_j] for ind_i, ind_j in FracMet.keys()))\n",
    "\n",
    "# Define Constraints\n",
    "MeetDemand = {} # meet demand constraitns\n",
    "IfOpen = {} # indicator constraints\n",
    "\n",
    "# for ind_j in range(M):\n",
    "#     MeetDemand[ind_j] = ufl.addConstr(quicksum(FracMet[ind_i, ind_j] for ind_i in range(N)), '=', 1)\n",
    "    \n",
    "for ind_i in range(N):\n",
    "#     =========================== Aggregated Constraints=====================================\n",
    "#     IfOpen[ind_i] = ufl.addConstr(quicksum(FracMet[ind_i, ind_j] for ind_j in range(M)), '<=', \n",
    "#                                   M*Open[ind_i], name='IfOpen' + str(ind_i))\n",
    "# ===========================================================================================\n",
    "    \n",
    "#     ============================== Strong Formulation ====================================\n",
    "#    comment out the above constraints and uncomment these constraints to change from weak to strong formulation\n",
    "#     -------------------------------------------------------------------------------------\n",
    "    for ind_j in range(M):\n",
    "        IfOpen[ind_i,ind_j] = ufl.addConstr(FracMet[ind_i,ind_j], '<=', Open[ind_i], name='IfOpen'+str((ind_i,ind_j)))\n",
    "#     =======================================================================================\n",
    "\n",
    "\n",
    "#Add constraints and variables to model\n",
    "ufl.update()\n",
    "# Initialize Model and Solver Settings NOTE: DO NOT EDIT THE SETTINGS IN THIS BLOCK UNLESS OTHERWISE NOTED IN THE EXERCISE\n",
    "ufl.setParam('TimeLimit', 900)\n",
    "ufl.setParam('NodefileStart', 100)\n",
    "ufl.setParam('Presolve', 0)\n",
    "ufl.setParam('Cuts', 0)\n",
    "ufl.setParam('Heuristics', 0)\n",
    "ufl.setParam('BranchDir', -1)\n",
    "ufl.setParam('VarBranch', 2) # variable selection max infeasibility\n",
    "# ufl.setParam('NodeLimit', 10) # \n",
    "\n",
    "\n",
    "ufl.modelSense = GRB.MINIMIZE\n",
    "ufl.update()\n",
    "# Optimize Model (you should see output when running this cell)\n",
    "ufl.optimize()\n"
   ]
  },
  {
   "cell_type": "code",
   "execution_count": 296,
   "metadata": {},
   "outputs": [
    {
     "data": {
      "text/plain": [
       "{(0, 0): <gurobi.Var FracMet(0, 0) (value 0.0)>,\n",
       " (0, 1): <gurobi.Var FracMet(0, 1) (value 0.0)>,\n",
       " (0, 2): <gurobi.Var FracMet(0, 2) (value 0.0)>,\n",
       " (1, 0): <gurobi.Var FracMet(1, 0) (value 0.0)>,\n",
       " (1, 1): <gurobi.Var FracMet(1, 1) (value 0.0)>,\n",
       " (1, 2): <gurobi.Var FracMet(1, 2) (value 0.0)>,\n",
       " (2, 0): <gurobi.Var FracMet(2, 0) (value 0.0)>,\n",
       " (2, 1): <gurobi.Var FracMet(2, 1) (value 0.0)>,\n",
       " (2, 2): <gurobi.Var FracMet(2, 2) (value 0.0)>}"
      ]
     },
     "execution_count": 296,
     "metadata": {},
     "output_type": "execute_result"
    }
   ],
   "source": [
    "FracMet"
   ]
  },
  {
   "cell_type": "code",
   "execution_count": 297,
   "metadata": {},
   "outputs": [
    {
     "data": {
      "text/plain": [
       "{0: <gurobi.Var Open0 (value 0.0)>,\n",
       " 1: <gurobi.Var Open1 (value 0.0)>,\n",
       " 2: <gurobi.Var Open2 (value 0.0)>}"
      ]
     },
     "execution_count": 297,
     "metadata": {},
     "output_type": "execute_result"
    }
   ],
   "source": [
    "Open"
   ]
  },
  {
   "cell_type": "code",
   "execution_count": 298,
   "metadata": {},
   "outputs": [
    {
     "data": {
      "text/plain": [
       "(0.5773502691896258, 0.5773502691896258, 0.5773502691896258)"
      ]
     },
     "execution_count": 298,
     "metadata": {},
     "output_type": "execute_result"
    }
   ],
   "source": [
    "d0 = 1-FracMet[(0,0)].X-FracMet[(1,0)].X-FracMet[(2,0)].X\n",
    "d1 = 1-FracMet[(0,1)].X-FracMet[(1,1)].X-FracMet[(2,1)].X\n",
    "d2 = 1-FracMet[(0,2)].X-FracMet[(1,2)].X-FracMet[(2,2)].X\n",
    "norm_k = np.sqrt(d0*d0+d1*d1+d2*d2)\n",
    "d0,d1,d2=d0/norm_k,d1/norm_k,d2/norm_k\n",
    "d0,d1,d2"
   ]
  },
  {
   "cell_type": "code",
   "execution_count": 299,
   "metadata": {},
   "outputs": [
    {
     "data": {
      "text/plain": [
       "(4.618802153517007, 4.618802153517007, 4.618802153517007)"
      ]
     },
     "execution_count": 299,
     "metadata": {},
     "output_type": "execute_result"
    }
   ],
   "source": [
    "lamb0,lamb1,lamb2 = lamb0-step*d0,lamb1-step*d1,lamb2-step*d2\n",
    "lamb = np.array([lamb0,lamb1,lamb2])\n",
    "lamb0,lamb1,lamb2"
   ]
  },
  {
   "cell_type": "code",
   "execution_count": 300,
   "metadata": {},
   "outputs": [
    {
     "name": "stdout",
     "output_type": "stream",
     "text": [
      "Changed value of parameter TimeLimit to 900.0\n",
      "   Prev: 1e+100  Min: 0.0  Max: 1e+100  Default: 1e+100\n",
      "Changed value of parameter NodefileStart to 100.0\n",
      "   Prev: 1e+100  Min: 0.0  Max: 1e+100  Default: 1e+100\n",
      "Changed value of parameter Presolve to 0\n",
      "   Prev: -1  Min: -1  Max: 2  Default: -1\n",
      "Changed value of parameter Cuts to 0\n",
      "   Prev: -1  Min: -1  Max: 3  Default: -1\n",
      "Changed value of parameter Heuristics to 0.0\n",
      "   Prev: 0.05  Min: 0.0  Max: 1.0  Default: 0.05\n",
      "Changed value of parameter BranchDir to -1\n",
      "   Prev: 0  Min: -1  Max: 1  Default: 0\n",
      "Changed value of parameter VarBranch to 2\n",
      "   Prev: -1  Min: -1  Max: 3  Default: -1\n",
      "Optimize a model with 9 rows, 12 columns and 18 nonzeros\n",
      "Coefficient statistics:\n",
      "  Matrix range     [1e+00, 1e+00]\n",
      "  Objective range  [4e+00, 2e+01]\n",
      "  Bounds range     [1e+00, 1e+00]\n",
      "  RHS range        [0e+00, 0e+00]\n",
      "Iteration    Objective       Primal Inf.    Dual Inf.      Time\n",
      "       0    0.0000000e+00   0.000000e+00   0.000000e+00      0s\n",
      "\n",
      "Solved in 0 iterations and 0.00 seconds\n",
      "Optimal objective  0.000000000e+00\n"
     ]
    }
   ],
   "source": [
    "# Initialize Model Parameters\n",
    "\n",
    "M = 3 # number of customers\n",
    "N = 3 # number of facilities\n",
    "fixedcost = 15.0 # fixed cost of opening a facility\n",
    "Min = 0.0 # lower bound for uniform distribution\n",
    "Max = 40.0 # upper bound for uniform distibution\n",
    "\n",
    "#Set seed for random parameters\n",
    "random.seed(0)\n",
    "\n",
    "varcost = np.array([[10,1,1],[1,10,1],[1,1,10]]) - lamb*np.array([[1,1,1],[1,1,1],[1,1,1]])\n",
    "demand = np.ones(M) # demand of customers\n",
    "# Initialize Model\n",
    "ufl = Model('ufl')\n",
    "\n",
    "# Define Variables\n",
    "FracMet = {} # Y, variables corresponding to fraction of demand met\n",
    "Open = {} # X, indicator variables for opening facility\n",
    "\n",
    "for ind_i in range(N):\n",
    "    Open[ind_i] = ufl.addVar(lb=0.0, ub=1.0, name='Open'+str(ind_i))\n",
    "    for ind_j in range(M):\n",
    "        FracMet[ind_i, ind_j] = ufl.addVar(lb=0.0, ub=1.0, name='FracMet'+str((ind_i, ind_j)))\n",
    "\n",
    "# Define Objective\n",
    "ufl.setObjective(quicksum(Open[ind_i]*fixedcost for ind_i in Open.keys()) \n",
    "                 + quicksum(FracMet[ind_i,ind_j]*varcost[ind_i, ind_j] for ind_i, ind_j in FracMet.keys()))\n",
    "\n",
    "# Define Constraints\n",
    "MeetDemand = {} # meet demand constraitns\n",
    "IfOpen = {} # indicator constraints\n",
    "\n",
    "# for ind_j in range(M):\n",
    "#     MeetDemand[ind_j] = ufl.addConstr(quicksum(FracMet[ind_i, ind_j] for ind_i in range(N)), '=', 1)\n",
    "    \n",
    "for ind_i in range(N):\n",
    "#     =========================== Aggregated Constraints=====================================\n",
    "#     IfOpen[ind_i] = ufl.addConstr(quicksum(FracMet[ind_i, ind_j] for ind_j in range(M)), '<=', \n",
    "#                                   M*Open[ind_i], name='IfOpen' + str(ind_i))\n",
    "# ===========================================================================================\n",
    "    \n",
    "#     ============================== Strong Formulation ====================================\n",
    "#    comment out the above constraints and uncomment these constraints to change from weak to strong formulation\n",
    "#     -------------------------------------------------------------------------------------\n",
    "    for ind_j in range(M):\n",
    "        IfOpen[ind_i,ind_j] = ufl.addConstr(FracMet[ind_i,ind_j], '<=', Open[ind_i], name='IfOpen'+str((ind_i,ind_j)))\n",
    "#     =======================================================================================\n",
    "\n",
    "\n",
    "#Add constraints and variables to model\n",
    "ufl.update()\n",
    "# Initialize Model and Solver Settings NOTE: DO NOT EDIT THE SETTINGS IN THIS BLOCK UNLESS OTHERWISE NOTED IN THE EXERCISE\n",
    "ufl.setParam('TimeLimit', 900)\n",
    "ufl.setParam('NodefileStart', 100)\n",
    "ufl.setParam('Presolve', 0)\n",
    "ufl.setParam('Cuts', 0)\n",
    "ufl.setParam('Heuristics', 0)\n",
    "ufl.setParam('BranchDir', -1)\n",
    "ufl.setParam('VarBranch', 2) # variable selection max infeasibility\n",
    "# ufl.setParam('NodeLimit', 10) # \n",
    "\n",
    "\n",
    "ufl.modelSense = GRB.MINIMIZE\n",
    "ufl.update()\n",
    "# Optimize Model (you should see output when running this cell)\n",
    "ufl.optimize()\n"
   ]
  },
  {
   "cell_type": "code",
   "execution_count": 301,
   "metadata": {},
   "outputs": [
    {
     "data": {
      "text/plain": [
       "{(0, 0): <gurobi.Var FracMet(0, 0) (value 0.0)>,\n",
       " (0, 1): <gurobi.Var FracMet(0, 1) (value 0.0)>,\n",
       " (0, 2): <gurobi.Var FracMet(0, 2) (value 0.0)>,\n",
       " (1, 0): <gurobi.Var FracMet(1, 0) (value 0.0)>,\n",
       " (1, 1): <gurobi.Var FracMet(1, 1) (value 0.0)>,\n",
       " (1, 2): <gurobi.Var FracMet(1, 2) (value 0.0)>,\n",
       " (2, 0): <gurobi.Var FracMet(2, 0) (value 0.0)>,\n",
       " (2, 1): <gurobi.Var FracMet(2, 1) (value 0.0)>,\n",
       " (2, 2): <gurobi.Var FracMet(2, 2) (value 0.0)>}"
      ]
     },
     "execution_count": 301,
     "metadata": {},
     "output_type": "execute_result"
    }
   ],
   "source": [
    "FracMet"
   ]
  },
  {
   "cell_type": "code",
   "execution_count": 302,
   "metadata": {},
   "outputs": [
    {
     "data": {
      "text/plain": [
       "{0: <gurobi.Var Open0 (value 0.0)>,\n",
       " 1: <gurobi.Var Open1 (value 0.0)>,\n",
       " 2: <gurobi.Var Open2 (value 0.0)>}"
      ]
     },
     "execution_count": 302,
     "metadata": {},
     "output_type": "execute_result"
    }
   ],
   "source": [
    "Open"
   ]
  },
  {
   "cell_type": "code",
   "execution_count": 303,
   "metadata": {},
   "outputs": [
    {
     "data": {
      "text/plain": [
       "(0.5773502691896258, 0.5773502691896258, 0.5773502691896258)"
      ]
     },
     "execution_count": 303,
     "metadata": {},
     "output_type": "execute_result"
    }
   ],
   "source": [
    "d0 = 1-FracMet[(0,0)].X-FracMet[(1,0)].X-FracMet[(2,0)].X\n",
    "d1 = 1-FracMet[(0,1)].X-FracMet[(1,1)].X-FracMet[(2,1)].X\n",
    "d2 = 1-FracMet[(0,2)].X-FracMet[(1,2)].X-FracMet[(2,2)].X\n",
    "norm_k = np.sqrt(d0*d0+d1*d1+d2*d2)\n",
    "d0,d1,d2=d0/norm_k,d1/norm_k,d2/norm_k\n",
    "d0,d1,d2"
   ]
  },
  {
   "cell_type": "code",
   "execution_count": 304,
   "metadata": {
    "scrolled": true
   },
   "outputs": [
    {
     "data": {
      "text/plain": [
       "(6.9282032302755105, 6.9282032302755105, 6.9282032302755105)"
      ]
     },
     "execution_count": 304,
     "metadata": {},
     "output_type": "execute_result"
    }
   ],
   "source": [
    "lamb0,lamb1,lamb2 = lamb0-step*d0,lamb1-step*d1,lamb2-step*d2\n",
    "lamb = np.array([lamb0,lamb1,lamb2])\n",
    "lamb0,lamb1,lamb2"
   ]
  },
  {
   "cell_type": "code",
   "execution_count": 305,
   "metadata": {},
   "outputs": [
    {
     "name": "stdout",
     "output_type": "stream",
     "text": [
      "Changed value of parameter TimeLimit to 900.0\n",
      "   Prev: 1e+100  Min: 0.0  Max: 1e+100  Default: 1e+100\n",
      "Changed value of parameter NodefileStart to 100.0\n",
      "   Prev: 1e+100  Min: 0.0  Max: 1e+100  Default: 1e+100\n",
      "Changed value of parameter Presolve to 0\n",
      "   Prev: -1  Min: -1  Max: 2  Default: -1\n",
      "Changed value of parameter Cuts to 0\n",
      "   Prev: -1  Min: -1  Max: 3  Default: -1\n",
      "Changed value of parameter Heuristics to 0.0\n",
      "   Prev: 0.05  Min: 0.0  Max: 1.0  Default: 0.05\n",
      "Changed value of parameter BranchDir to -1\n",
      "   Prev: 0  Min: -1  Max: 1  Default: 0\n",
      "Changed value of parameter VarBranch to 2\n",
      "   Prev: -1  Min: -1  Max: 3  Default: -1\n",
      "Optimize a model with 9 rows, 12 columns and 18 nonzeros\n",
      "Coefficient statistics:\n",
      "  Matrix range     [1e+00, 1e+00]\n",
      "  Objective range  [3e+00, 2e+01]\n",
      "  Bounds range     [1e+00, 1e+00]\n",
      "  RHS range        [0e+00, 0e+00]\n",
      "Iteration    Objective       Primal Inf.    Dual Inf.      Time\n",
      "       0    0.0000000e+00   0.000000e+00   0.000000e+00      0s\n",
      "\n",
      "Solved in 0 iterations and 0.00 seconds\n",
      "Optimal objective  0.000000000e+00\n"
     ]
    }
   ],
   "source": [
    "# Initialize Model Parameters\n",
    "\n",
    "M = 3 # number of customers\n",
    "N = 3 # number of facilities\n",
    "fixedcost = 15.0 # fixed cost of opening a facility\n",
    "Min = 0.0 # lower bound for uniform distribution\n",
    "Max = 40.0 # upper bound for uniform distibution\n",
    "\n",
    "#Set seed for random parameters\n",
    "random.seed(0)\n",
    "\n",
    "varcost = np.array([[10,1,1],[1,10,1],[1,1,10]]) - lamb*np.array([[1,1,1],[1,1,1],[1,1,1]])\n",
    "demand = np.ones(M) # demand of customers\n",
    "# Initialize Model\n",
    "ufl = Model('ufl')\n",
    "\n",
    "# Define Variables\n",
    "FracMet = {} # Y, variables corresponding to fraction of demand met\n",
    "Open = {} # X, indicator variables for opening facility\n",
    "\n",
    "for ind_i in range(N):\n",
    "    Open[ind_i] = ufl.addVar(lb=0.0, ub=1.0, name='Open'+str(ind_i))\n",
    "    for ind_j in range(M):\n",
    "        FracMet[ind_i, ind_j] = ufl.addVar(lb=0.0, ub=1.0, name='FracMet'+str((ind_i, ind_j)))\n",
    "\n",
    "# Define Objective\n",
    "ufl.setObjective(quicksum(Open[ind_i]*fixedcost for ind_i in Open.keys()) \n",
    "                 + quicksum(FracMet[ind_i,ind_j]*varcost[ind_i, ind_j] for ind_i, ind_j in FracMet.keys()))\n",
    "# ufl.setObjective(quicksum(Open[ind_i]*fixedcost for ind_i in Open.keys()) \n",
    "#                  + quicksum(FracMet[ind_i,ind_j]*varcost[ind_i, ind_j]*demand[ind_j] for ind_i, ind_j in FracMet.keys()))\n",
    "\n",
    "# Define Constraints\n",
    "MeetDemand = {} # meet demand constraitns\n",
    "IfOpen = {} # indicator constraints\n",
    "\n",
    "# for ind_j in range(M):\n",
    "#     MeetDemand[ind_j] = ufl.addConstr(quicksum(FracMet[ind_i, ind_j] for ind_i in range(N)), '=', 1)\n",
    "    \n",
    "for ind_i in range(N):\n",
    "#     =========================== Aggregated Constraints=====================================\n",
    "#     IfOpen[ind_i] = ufl.addConstr(quicksum(FracMet[ind_i, ind_j] for ind_j in range(M)), '<=', \n",
    "#                                   M*Open[ind_i], name='IfOpen' + str(ind_i))\n",
    "# ===========================================================================================\n",
    "    \n",
    "#     ============================== Strong Formulation ====================================\n",
    "#    comment out the above constraints and uncomment these constraints to change from weak to strong formulation\n",
    "#     -------------------------------------------------------------------------------------\n",
    "    for ind_j in range(M):\n",
    "        IfOpen[ind_i,ind_j] = ufl.addConstr(FracMet[ind_i,ind_j], '<=', Open[ind_i], name='IfOpen'+str((ind_i,ind_j)))\n",
    "#     =======================================================================================\n",
    "\n",
    "\n",
    "#Add constraints and variables to model\n",
    "ufl.update()\n",
    "# Initialize Model and Solver Settings NOTE: DO NOT EDIT THE SETTINGS IN THIS BLOCK UNLESS OTHERWISE NOTED IN THE EXERCISE\n",
    "ufl.setParam('TimeLimit', 900)\n",
    "ufl.setParam('NodefileStart', 100)\n",
    "ufl.setParam('Presolve', 0)\n",
    "ufl.setParam('Cuts', 0)\n",
    "ufl.setParam('Heuristics', 0)\n",
    "ufl.setParam('BranchDir', -1)\n",
    "ufl.setParam('VarBranch', 2) # variable selection max infeasibility\n",
    "# ufl.setParam('NodeLimit', 10) # \n",
    "\n",
    "\n",
    "ufl.modelSense = GRB.MINIMIZE\n",
    "ufl.update()\n",
    "# Optimize Model (you should see output when running this cell)\n",
    "ufl.optimize()\n"
   ]
  },
  {
   "cell_type": "code",
   "execution_count": 306,
   "metadata": {},
   "outputs": [
    {
     "data": {
      "text/plain": [
       "{(0, 0): <gurobi.Var FracMet(0, 0) (value 0.0)>,\n",
       " (0, 1): <gurobi.Var FracMet(0, 1) (value 0.0)>,\n",
       " (0, 2): <gurobi.Var FracMet(0, 2) (value 0.0)>,\n",
       " (1, 0): <gurobi.Var FracMet(1, 0) (value 0.0)>,\n",
       " (1, 1): <gurobi.Var FracMet(1, 1) (value 0.0)>,\n",
       " (1, 2): <gurobi.Var FracMet(1, 2) (value 0.0)>,\n",
       " (2, 0): <gurobi.Var FracMet(2, 0) (value 0.0)>,\n",
       " (2, 1): <gurobi.Var FracMet(2, 1) (value 0.0)>,\n",
       " (2, 2): <gurobi.Var FracMet(2, 2) (value 0.0)>}"
      ]
     },
     "execution_count": 306,
     "metadata": {},
     "output_type": "execute_result"
    }
   ],
   "source": [
    "FracMet"
   ]
  },
  {
   "cell_type": "code",
   "execution_count": 307,
   "metadata": {},
   "outputs": [
    {
     "data": {
      "text/plain": [
       "{0: <gurobi.Var Open0 (value 0.0)>,\n",
       " 1: <gurobi.Var Open1 (value 0.0)>,\n",
       " 2: <gurobi.Var Open2 (value 0.0)>}"
      ]
     },
     "execution_count": 307,
     "metadata": {},
     "output_type": "execute_result"
    }
   ],
   "source": [
    "Open"
   ]
  },
  {
   "cell_type": "code",
   "execution_count": 308,
   "metadata": {},
   "outputs": [
    {
     "data": {
      "text/plain": [
       "(0.5773502691896258, 0.5773502691896258, 0.5773502691896258)"
      ]
     },
     "execution_count": 308,
     "metadata": {},
     "output_type": "execute_result"
    }
   ],
   "source": [
    "d0 = 1-FracMet[(0,0)].X-FracMet[(1,0)].X-FracMet[(2,0)].X\n",
    "d1 = 1-FracMet[(0,1)].X-FracMet[(1,1)].X-FracMet[(2,1)].X\n",
    "d2 = 1-FracMet[(0,2)].X-FracMet[(1,2)].X-FracMet[(2,2)].X\n",
    "norm_k = np.sqrt(d0*d0+d1*d1+d2*d2)\n",
    "d0,d1,d2=d0/norm_k,d1/norm_k,d2/norm_k\n",
    "d0,d1,d2"
   ]
  },
  {
   "cell_type": "code",
   "execution_count": 309,
   "metadata": {},
   "outputs": [
    {
     "data": {
      "text/plain": [
       "(9.237604307034013, 9.237604307034013, 9.237604307034013)"
      ]
     },
     "execution_count": 309,
     "metadata": {},
     "output_type": "execute_result"
    }
   ],
   "source": [
    "lamb0,lamb1,lamb2 = lamb0-step*d0,lamb1-step*d1,lamb2-step*d2\n",
    "lamb = np.array([lamb0,lamb1,lamb2])\n",
    "lamb0,lamb1,lamb2"
   ]
  },
  {
   "cell_type": "code",
   "execution_count": 310,
   "metadata": {},
   "outputs": [
    {
     "name": "stdout",
     "output_type": "stream",
     "text": [
      "Changed value of parameter TimeLimit to 900.0\n",
      "   Prev: 1e+100  Min: 0.0  Max: 1e+100  Default: 1e+100\n",
      "Changed value of parameter NodefileStart to 100.0\n",
      "   Prev: 1e+100  Min: 0.0  Max: 1e+100  Default: 1e+100\n",
      "Changed value of parameter Presolve to 0\n",
      "   Prev: -1  Min: -1  Max: 2  Default: -1\n",
      "Changed value of parameter Cuts to 0\n",
      "   Prev: -1  Min: -1  Max: 3  Default: -1\n",
      "Changed value of parameter Heuristics to 0.0\n",
      "   Prev: 0.05  Min: 0.0  Max: 1.0  Default: 0.05\n",
      "Changed value of parameter BranchDir to -1\n",
      "   Prev: 0  Min: -1  Max: 1  Default: 0\n",
      "Changed value of parameter VarBranch to 2\n",
      "   Prev: -1  Min: -1  Max: 3  Default: -1\n",
      "Optimize a model with 9 rows, 12 columns and 18 nonzeros\n",
      "Coefficient statistics:\n",
      "  Matrix range     [1e+00, 1e+00]\n",
      "  Objective range  [8e-01, 2e+01]\n",
      "  Bounds range     [1e+00, 1e+00]\n",
      "  RHS range        [0e+00, 0e+00]\n",
      "Iteration    Objective       Primal Inf.    Dual Inf.      Time\n",
      "       0   -4.4256258e+00   0.000000e+00   0.000000e+00      0s\n",
      "\n",
      "Solved in 0 iterations and 0.00 seconds\n",
      "Optimal objective -4.425625842e+00\n"
     ]
    }
   ],
   "source": [
    "# Initialize Model Parameters\n",
    "\n",
    "M = 3 # number of customers\n",
    "N = 3 # number of facilities\n",
    "fixedcost = 15.0 # fixed cost of opening a facility\n",
    "Min = 0.0 # lower bound for uniform distribution\n",
    "Max = 40.0 # upper bound for uniform distibution\n",
    "\n",
    "#Set seed for random parameters\n",
    "random.seed(0)\n",
    "\n",
    "varcost = np.array([[10,1,1],[1,10,1],[1,1,10]]) - lamb*np.array([[1,1,1],[1,1,1],[1,1,1]])\n",
    "demand = np.ones(M) # demand of customers\n",
    "# Initialize Model\n",
    "ufl = Model('ufl')\n",
    "\n",
    "# Define Variables\n",
    "FracMet = {} # Y, variables corresponding to fraction of demand met\n",
    "Open = {} # X, indicator variables for opening facility\n",
    "\n",
    "for ind_i in range(N):\n",
    "    Open[ind_i] = ufl.addVar(lb=0.0, ub=1.0, name='Open'+str(ind_i))\n",
    "    for ind_j in range(M):\n",
    "        FracMet[ind_i, ind_j] = ufl.addVar(lb=0.0, ub=1.0, name='FracMet'+str((ind_i, ind_j)))\n",
    "\n",
    "# Define Objective\n",
    "ufl.setObjective(quicksum(Open[ind_i]*fixedcost for ind_i in Open.keys()) \n",
    "                 + quicksum(FracMet[ind_i,ind_j]*varcost[ind_i, ind_j] for ind_i, ind_j in FracMet.keys()))\n",
    "# ufl.setObjective(quicksum(Open[ind_i]*fixedcost for ind_i in Open.keys()) \n",
    "#                  + quicksum(FracMet[ind_i,ind_j]*varcost[ind_i, ind_j]*demand[ind_j] for ind_i, ind_j in FracMet.keys()))\n",
    "\n",
    "# Define Constraints\n",
    "MeetDemand = {} # meet demand constraitns\n",
    "IfOpen = {} # indicator constraints\n",
    "\n",
    "# for ind_j in range(M):\n",
    "#     MeetDemand[ind_j] = ufl.addConstr(quicksum(FracMet[ind_i, ind_j] for ind_i in range(N)), '=', 1)\n",
    "    \n",
    "for ind_i in range(N):\n",
    "#     =========================== Aggregated Constraints=====================================\n",
    "#     IfOpen[ind_i] = ufl.addConstr(quicksum(FracMet[ind_i, ind_j] for ind_j in range(M)), '<=', \n",
    "#                                   M*Open[ind_i], name='IfOpen' + str(ind_i))\n",
    "# ===========================================================================================\n",
    "    \n",
    "#     ============================== Strong Formulation ====================================\n",
    "#    comment out the above constraints and uncomment these constraints to change from weak to strong formulation\n",
    "#     -------------------------------------------------------------------------------------\n",
    "    for ind_j in range(M):\n",
    "        IfOpen[ind_i,ind_j] = ufl.addConstr(FracMet[ind_i,ind_j], '<=', Open[ind_i], name='IfOpen'+str((ind_i,ind_j)))\n",
    "#     =======================================================================================\n",
    "\n",
    "\n",
    "#Add constraints and variables to model\n",
    "ufl.update()\n",
    "# Initialize Model and Solver Settings NOTE: DO NOT EDIT THE SETTINGS IN THIS BLOCK UNLESS OTHERWISE NOTED IN THE EXERCISE\n",
    "ufl.setParam('TimeLimit', 900)\n",
    "ufl.setParam('NodefileStart', 100)\n",
    "ufl.setParam('Presolve', 0)\n",
    "ufl.setParam('Cuts', 0)\n",
    "ufl.setParam('Heuristics', 0)\n",
    "ufl.setParam('BranchDir', -1)\n",
    "ufl.setParam('VarBranch', 2) # variable selection max infeasibility\n",
    "# ufl.setParam('NodeLimit', 10) # \n",
    "\n",
    "\n",
    "ufl.modelSense = GRB.MINIMIZE\n",
    "ufl.update()\n",
    "# Optimize Model (you should see output when running this cell)\n",
    "ufl.optimize()\n"
   ]
  },
  {
   "cell_type": "code",
   "execution_count": 311,
   "metadata": {},
   "outputs": [
    {
     "data": {
      "text/plain": [
       "{(0, 0): <gurobi.Var FracMet(0, 0) (value 0.0)>,\n",
       " (0, 1): <gurobi.Var FracMet(0, 1) (value 1.0)>,\n",
       " (0, 2): <gurobi.Var FracMet(0, 2) (value 1.0)>,\n",
       " (1, 0): <gurobi.Var FracMet(1, 0) (value 1.0)>,\n",
       " (1, 1): <gurobi.Var FracMet(1, 1) (value 0.0)>,\n",
       " (1, 2): <gurobi.Var FracMet(1, 2) (value 1.0)>,\n",
       " (2, 0): <gurobi.Var FracMet(2, 0) (value 1.0)>,\n",
       " (2, 1): <gurobi.Var FracMet(2, 1) (value 1.0)>,\n",
       " (2, 2): <gurobi.Var FracMet(2, 2) (value 0.0)>}"
      ]
     },
     "execution_count": 311,
     "metadata": {},
     "output_type": "execute_result"
    }
   ],
   "source": [
    "FracMet"
   ]
  },
  {
   "cell_type": "code",
   "execution_count": 312,
   "metadata": {},
   "outputs": [
    {
     "data": {
      "text/plain": [
       "{0: <gurobi.Var Open0 (value 1.0)>,\n",
       " 1: <gurobi.Var Open1 (value 1.0)>,\n",
       " 2: <gurobi.Var Open2 (value 1.0)>}"
      ]
     },
     "execution_count": 312,
     "metadata": {},
     "output_type": "execute_result"
    }
   ],
   "source": [
    "Open"
   ]
  },
  {
   "cell_type": "code",
   "execution_count": 313,
   "metadata": {},
   "outputs": [
    {
     "data": {
      "text/plain": [
       "(-0.5773502691896258, -0.5773502691896258, -0.5773502691896258)"
      ]
     },
     "execution_count": 313,
     "metadata": {},
     "output_type": "execute_result"
    }
   ],
   "source": [
    "d0 = 1-FracMet[(0,0)].X-FracMet[(1,0)].X-FracMet[(2,0)].X\n",
    "d1 = 1-FracMet[(0,1)].X-FracMet[(1,1)].X-FracMet[(2,1)].X\n",
    "d2 = 1-FracMet[(0,2)].X-FracMet[(1,2)].X-FracMet[(2,2)].X\n",
    "norm_k = np.sqrt(d0*d0+d1*d1+d2*d2)\n",
    "d0,d1,d2=d0/norm_k,d1/norm_k,d2/norm_k\n",
    "d0,d1,d2"
   ]
  },
  {
   "cell_type": "code",
   "execution_count": 314,
   "metadata": {
    "scrolled": true
   },
   "outputs": [
    {
     "data": {
      "text/plain": [
       "(6.9282032302755105, 6.9282032302755105, 6.9282032302755105)"
      ]
     },
     "execution_count": 314,
     "metadata": {},
     "output_type": "execute_result"
    }
   ],
   "source": [
    "lamb0,lamb1,lamb2 = lamb0-step*d0,lamb1-step*d1,lamb2-step*d2\n",
    "lamb = np.array([lamb0,lamb1,lamb2])\n",
    "lamb0,lamb1,lamb2"
   ]
  },
  {
   "cell_type": "code",
   "execution_count": 315,
   "metadata": {},
   "outputs": [
    {
     "name": "stdout",
     "output_type": "stream",
     "text": [
      "Changed value of parameter TimeLimit to 900.0\n",
      "   Prev: 1e+100  Min: 0.0  Max: 1e+100  Default: 1e+100\n",
      "Changed value of parameter NodefileStart to 100.0\n",
      "   Prev: 1e+100  Min: 0.0  Max: 1e+100  Default: 1e+100\n",
      "Changed value of parameter Presolve to 0\n",
      "   Prev: -1  Min: -1  Max: 2  Default: -1\n",
      "Changed value of parameter Cuts to 0\n",
      "   Prev: -1  Min: -1  Max: 3  Default: -1\n",
      "Changed value of parameter Heuristics to 0.0\n",
      "   Prev: 0.05  Min: 0.0  Max: 1.0  Default: 0.05\n",
      "Changed value of parameter BranchDir to -1\n",
      "   Prev: 0  Min: -1  Max: 1  Default: 0\n",
      "Changed value of parameter VarBranch to 2\n",
      "   Prev: -1  Min: -1  Max: 3  Default: -1\n",
      "Optimize a model with 9 rows, 12 columns and 18 nonzeros\n",
      "Coefficient statistics:\n",
      "  Matrix range     [1e+00, 1e+00]\n",
      "  Objective range  [3e+00, 2e+01]\n",
      "  Bounds range     [1e+00, 1e+00]\n",
      "  RHS range        [0e+00, 0e+00]\n",
      "Iteration    Objective       Primal Inf.    Dual Inf.      Time\n",
      "       0    0.0000000e+00   0.000000e+00   0.000000e+00      0s\n",
      "\n",
      "Solved in 0 iterations and 0.01 seconds\n",
      "Optimal objective  0.000000000e+00\n"
     ]
    }
   ],
   "source": [
    "# Initialize Model Parameters\n",
    "\n",
    "M = 3 # number of customers\n",
    "N = 3 # number of facilities\n",
    "fixedcost = 15.0 # fixed cost of opening a facility\n",
    "Min = 0.0 # lower bound for uniform distribution\n",
    "Max = 40.0 # upper bound for uniform distibution\n",
    "\n",
    "#Set seed for random parameters\n",
    "random.seed(0)\n",
    "\n",
    "varcost = np.array([[10,1,1],[1,10,1],[1,1,10]]) - lamb*np.array([[1,1,1],[1,1,1],[1,1,1]])\n",
    "demand = np.ones(M) # demand of customers\n",
    "# Initialize Model\n",
    "ufl = Model('ufl')\n",
    "\n",
    "# Define Variables\n",
    "FracMet = {} # Y, variables corresponding to fraction of demand met\n",
    "Open = {} # X, indicator variables for opening facility\n",
    "\n",
    "for ind_i in range(N):\n",
    "    Open[ind_i] = ufl.addVar(lb=0.0, ub=1.0, name='Open'+str(ind_i))\n",
    "    for ind_j in range(M):\n",
    "        FracMet[ind_i, ind_j] = ufl.addVar(lb=0.0, ub=1.0, name='FracMet'+str((ind_i, ind_j)))\n",
    "\n",
    "# Define Objective\n",
    "ufl.setObjective(quicksum(Open[ind_i]*fixedcost for ind_i in Open.keys()) \n",
    "                 + quicksum(FracMet[ind_i,ind_j]*varcost[ind_i, ind_j] for ind_i, ind_j in FracMet.keys()))\n",
    "# ufl.setObjective(quicksum(Open[ind_i]*fixedcost for ind_i in Open.keys()) \n",
    "#                  + quicksum(FracMet[ind_i,ind_j]*varcost[ind_i, ind_j]*demand[ind_j] for ind_i, ind_j in FracMet.keys()))\n",
    "\n",
    "# Define Constraints\n",
    "MeetDemand = {} # meet demand constraitns\n",
    "IfOpen = {} # indicator constraints\n",
    "\n",
    "# for ind_j in range(M):\n",
    "#     MeetDemand[ind_j] = ufl.addConstr(quicksum(FracMet[ind_i, ind_j] for ind_i in range(N)), '=', 1)\n",
    "    \n",
    "for ind_i in range(N):\n",
    "#     =========================== Aggregated Constraints=====================================\n",
    "#     IfOpen[ind_i] = ufl.addConstr(quicksum(FracMet[ind_i, ind_j] for ind_j in range(M)), '<=', \n",
    "#                                   M*Open[ind_i], name='IfOpen' + str(ind_i))\n",
    "# ===========================================================================================\n",
    "    \n",
    "#     ============================== Strong Formulation ====================================\n",
    "#    comment out the above constraints and uncomment these constraints to change from weak to strong formulation\n",
    "#     -------------------------------------------------------------------------------------\n",
    "    for ind_j in range(M):\n",
    "        IfOpen[ind_i,ind_j] = ufl.addConstr(FracMet[ind_i,ind_j], '<=', Open[ind_i], name='IfOpen'+str((ind_i,ind_j)))\n",
    "#     =======================================================================================\n",
    "\n",
    "\n",
    "#Add constraints and variables to model\n",
    "ufl.update()\n",
    "# Initialize Model and Solver Settings NOTE: DO NOT EDIT THE SETTINGS IN THIS BLOCK UNLESS OTHERWISE NOTED IN THE EXERCISE\n",
    "ufl.setParam('TimeLimit', 900)\n",
    "ufl.setParam('NodefileStart', 100)\n",
    "ufl.setParam('Presolve', 0)\n",
    "ufl.setParam('Cuts', 0)\n",
    "ufl.setParam('Heuristics', 0)\n",
    "ufl.setParam('BranchDir', -1)\n",
    "ufl.setParam('VarBranch', 2) # variable selection max infeasibility\n",
    "# ufl.setParam('NodeLimit', 10) # \n",
    "\n",
    "\n",
    "ufl.modelSense = GRB.MINIMIZE\n",
    "ufl.update()\n",
    "# Optimize Model (you should see output when running this cell)\n",
    "ufl.optimize()\n"
   ]
  },
  {
   "cell_type": "code",
   "execution_count": 316,
   "metadata": {},
   "outputs": [
    {
     "data": {
      "text/plain": [
       "{(0, 0): <gurobi.Var FracMet(0, 0) (value 0.0)>,\n",
       " (0, 1): <gurobi.Var FracMet(0, 1) (value 0.0)>,\n",
       " (0, 2): <gurobi.Var FracMet(0, 2) (value 0.0)>,\n",
       " (1, 0): <gurobi.Var FracMet(1, 0) (value 0.0)>,\n",
       " (1, 1): <gurobi.Var FracMet(1, 1) (value 0.0)>,\n",
       " (1, 2): <gurobi.Var FracMet(1, 2) (value 0.0)>,\n",
       " (2, 0): <gurobi.Var FracMet(2, 0) (value 0.0)>,\n",
       " (2, 1): <gurobi.Var FracMet(2, 1) (value 0.0)>,\n",
       " (2, 2): <gurobi.Var FracMet(2, 2) (value 0.0)>}"
      ]
     },
     "execution_count": 316,
     "metadata": {},
     "output_type": "execute_result"
    }
   ],
   "source": [
    "FracMet"
   ]
  },
  {
   "cell_type": "code",
   "execution_count": 317,
   "metadata": {},
   "outputs": [
    {
     "data": {
      "text/plain": [
       "{0: <gurobi.Var Open0 (value 0.0)>,\n",
       " 1: <gurobi.Var Open1 (value 0.0)>,\n",
       " 2: <gurobi.Var Open2 (value 0.0)>}"
      ]
     },
     "execution_count": 317,
     "metadata": {},
     "output_type": "execute_result"
    }
   ],
   "source": [
    "Open"
   ]
  },
  {
   "cell_type": "code",
   "execution_count": 318,
   "metadata": {},
   "outputs": [
    {
     "data": {
      "text/plain": [
       "(0.5773502691896258, 0.5773502691896258, 0.5773502691896258)"
      ]
     },
     "execution_count": 318,
     "metadata": {},
     "output_type": "execute_result"
    }
   ],
   "source": [
    "d0 = 1-FracMet[(0,0)].X-FracMet[(1,0)].X-FracMet[(2,0)].X\n",
    "d1 = 1-FracMet[(0,1)].X-FracMet[(1,1)].X-FracMet[(2,1)].X\n",
    "d2 = 1-FracMet[(0,2)].X-FracMet[(1,2)].X-FracMet[(2,2)].X\n",
    "norm_k = np.sqrt(d0*d0+d1*d1+d2*d2)\n",
    "d0,d1,d2=d0/norm_k,d1/norm_k,d2/norm_k\n",
    "d0,d1,d2"
   ]
  },
  {
   "cell_type": "code",
   "execution_count": 319,
   "metadata": {},
   "outputs": [
    {
     "data": {
      "text/plain": [
       "(9.237604307034013, 9.237604307034013, 9.237604307034013)"
      ]
     },
     "execution_count": 319,
     "metadata": {},
     "output_type": "execute_result"
    }
   ],
   "source": [
    "lamb0,lamb1,lamb2 = lamb0-step*d0,lamb1-step*d1,lamb2-step*d2\n",
    "lamb = np.array([lamb0,lamb1,lamb2])\n",
    "lamb0,lamb1,lamb2"
   ]
  },
  {
   "cell_type": "code",
   "execution_count": null,
   "metadata": {},
   "outputs": [],
   "source": []
  }
 ],
 "metadata": {
  "kernelspec": {
   "display_name": "Python 3",
   "language": "python",
   "name": "python3"
  },
  "language_info": {
   "codemirror_mode": {
    "name": "ipython",
    "version": 3
   },
   "file_extension": ".py",
   "mimetype": "text/x-python",
   "name": "python",
   "nbconvert_exporter": "python",
   "pygments_lexer": "ipython3",
   "version": "3.7.4"
  }
 },
 "nbformat": 4,
 "nbformat_minor": 2
}
