{
 "cells": [
  {
   "cell_type": "code",
   "execution_count": 106,
   "metadata": {},
   "outputs": [],
   "source": [
    "import numpy as np"
   ]
  },
  {
   "cell_type": "code",
   "execution_count": 107,
   "metadata": {},
   "outputs": [],
   "source": [
    "# Q1\n",
    "A = np.array([[-2, -2,  3,  1, -2],\n",
    "              [ 1,  4,  1, -1, -1]])\n",
    "\n",
    "bT = np.array([ 0,  7])\n",
    "\n",
    "cT = np.array([-2,  7, 14,  2, -4])\n",
    "\n",
    "basicInd= np.array([3,4]) #x1 and x3 have indices 0 and 2"
   ]
  },
  {
   "cell_type": "code",
   "execution_count": 108,
   "metadata": {},
   "outputs": [],
   "source": [
    "def primal_simplex(A,bT,cT,basicInd):\n",
    "    basicSize = A.shape[0] # number of constraints, m, 2\n",
    "    nonbasicSize = A.shape[1] - basicSize #n-m, number of variables, 3\n",
    "    n = basicSize\n",
    "    m = nonbasicSize\n",
    "    no_iter = 0\n",
    "    nonbasicInd = np.delete(np.arange(n+m), basicInd)\n",
    "    \n",
    "#     x_b = np.linalg.inv(Ab) @ bT\n",
    "    \n",
    "    while True:\n",
    "        print()\n",
    "        print (\"start of iter \"+str(no_iter)+\", basis is :\",basicInd)\n",
    "        no_iter += 1\n",
    "\n",
    "        #step 1\n",
    "        cbT = np.array(cT[basicInd]) #basic variable cost coefficients\n",
    "        cnbT = np.array(cT[nonbasicInd]) #basic variable cost coefficients\n",
    "        print(\"cbT: \",cbT)\n",
    "        print(\"cnbT: \",cnbT)\n",
    "\n",
    "        Ab = np.copy(A[:,basicInd]) #basis matrix\n",
    "        An = np.copy(A[:,nonbasicInd]) #nonbasic variable matrix\n",
    "        print(\"Ab:\",Ab)\n",
    "        print(\"An:\",An)\n",
    "        \n",
    "\n",
    "        Abinv = np.linalg.inv(Ab)\n",
    "        \n",
    "        \n",
    "        xhat = Abinv @ bT\n",
    "        print ('1xhat',xhat)\n",
    "        #dual variables\n",
    "        pi = cbT @ Abinv\n",
    "        print(\"pi\",pi)\n",
    "\n",
    "        #step 2: reduced costs\n",
    "        dN = cnbT - An.T @ pi\n",
    "        print (\"dN IN STEP2\",dN)\n",
    "\n",
    "        #step 3, current basis is optimal and can return answer\n",
    "        if(all(i>=0 for i in dN)):\n",
    "            xhat = Abinv @ bT\n",
    "            \n",
    "            return True, basicInd, no_iter, xhat, xhat @ cbT\n",
    "\n",
    "        #step 4\n",
    "        \n",
    "        print('index of negative value',np.where(dN < 0))\n",
    "        \n",
    "        #dNMinIndx = np.argmin(dN)\n",
    "        \n",
    "        dNMinIndx=np.where(dN < 0)[0][0]\n",
    "        \n",
    "#         print (\"dN\",dN)\n",
    "#         print ('dNMinIndx',dNMinIndx)\n",
    "        \n",
    "#         print ('basicInd',basicInd)\n",
    "#         print ('nonbasic',nonbasicInd)\n",
    "        \n",
    "        j = nonbasicInd[dNMinIndx] #entering variable\n",
    "#         print ('j',j)\n",
    "\n",
    "        #step 6\n",
    "        yhat = Abinv @ A[:, j]\n",
    "\n",
    "        #step 7: return unbounded solution\n",
    "        if(all(i<=0 for i in yhat)):\n",
    "            return False, None, None, None, None\n",
    "\n",
    "        #step 9: yi = yhat, xi = Binv @ bT \n",
    "        xhat = Abinv @ bT\n",
    "#         print ('2xhat',xhat)\n",
    "        theta = xhat/yhat\n",
    "        \n",
    "        minimum_value = float('inf')\n",
    "        minIndex = 0\n",
    "        for i in range(len(yhat)):\n",
    "            if yhat[i]>0:\n",
    "                if xhat[i]/yhat[i]<=minimum_value:\n",
    "                    minimum_value = xhat[i]/yhat[i]\n",
    "                    minIndex = i\n",
    "        \n",
    "        theta_star = minimum_value\n",
    "        l = basicInd[minIndex]\n",
    "#         l = basicInd[np.argmin(theta)] # leaving variable\n",
    "#         print(\"leaving\",l)\n",
    "        \n",
    "        basicInd = np.append(basicInd[basicInd!=l],j)\n",
    "\n",
    "        nonbasicInd = np.append(nonbasicInd[nonbasicInd!=j],l)\n",
    "        nonbasicInd=np.sort(nonbasicInd)\n",
    "\n",
    "\n",
    "        #step 11,12\n",
    "        Ab = np.copy(A[:,basicInd]) #basis matrix\n",
    "        An = np.copy(A[:,nonbasicInd]) #nonbasic variable matrix\n",
    "\n",
    "        #step 13"
   ]
  },
  {
   "cell_type": "code",
   "execution_count": 109,
   "metadata": {},
   "outputs": [
    {
     "name": "stdout",
     "output_type": "stream",
     "text": [
      "\n",
      "start of iter 0, basis is : [3 4]\n",
      "cbT:  [ 2 -4]\n",
      "cnbT:  [-2  7 14]\n",
      "Ab: [[ 1 -2]\n",
      " [-1 -1]]\n",
      "An: [[-2 -2  3]\n",
      " [ 1  4  1]]\n",
      "1xhat [-4.66666667 -2.33333333]\n",
      "pi [2. 0.]\n",
      "dN IN STEP2 [ 2. 11.  8.]\n",
      "basis: [3 4]\n",
      "xhat: [-4.66666667 -2.33333333]\n",
      "answer: 0.0\n"
     ]
    }
   ],
   "source": [
    "boolean, basisInd, no_iter, xhat, answer = primal_simplex(A,bT,cT,basicInd)\n",
    "print(\"basis:\",basisInd)\n",
    "print(\"xhat:\",xhat)\n",
    "print(\"answer:\",answer)"
   ]
  },
  {
   "cell_type": "code",
   "execution_count": 43,
   "metadata": {},
   "outputs": [
    {
     "name": "stdout",
     "output_type": "stream",
     "text": [
      "[[1 2 3 4]]\n",
      "[[1]\n",
      " [2]\n",
      " [3]\n",
      " [4]]\n"
     ]
    }
   ],
   "source": [
    "test = np.array([[1,2,3,4],])\n",
    "print(test)\n",
    "print(test.T)"
   ]
  },
  {
   "cell_type": "code",
   "execution_count": 95,
   "metadata": {},
   "outputs": [
    {
     "data": {
      "text/plain": [
       "1"
      ]
     },
     "execution_count": 95,
     "metadata": {},
     "output_type": "execute_result"
    }
   ],
   "source": []
  },
  {
   "cell_type": "code",
   "execution_count": null,
   "metadata": {},
   "outputs": [],
   "source": []
  },
  {
   "cell_type": "code",
   "execution_count": 35,
   "metadata": {},
   "outputs": [
    {
     "name": "stdout",
     "output_type": "stream",
     "text": [
      "[3.5 3.5]\n",
      "[  2.5 -10.5  10.5]\n"
     ]
    }
   ],
   "source": [
    "A_B = np.copy(A[:,[1,2]])\n",
    "A_N = np.copy(A[:,[0,3,4]])\n",
    "pi = np.linalg.inv(A_B.T)@ cT[[1,2]]\n",
    "print(pi)\n",
    "print(c[[0,3,4]] - A_N.T @ pi)"
   ]
  }
 ],
 "metadata": {
  "kernelspec": {
   "display_name": "Python 3",
   "language": "python",
   "name": "python3"
  },
  "language_info": {
   "codemirror_mode": {
    "name": "ipython",
    "version": 3
   },
   "file_extension": ".py",
   "mimetype": "text/x-python",
   "name": "python",
   "nbconvert_exporter": "python",
   "pygments_lexer": "ipython3",
   "version": "3.7.4"
  }
 },
 "nbformat": 4,
 "nbformat_minor": 2
}
